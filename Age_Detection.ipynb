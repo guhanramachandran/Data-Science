{
 "cells": [
  {
   "cell_type": "code",
   "execution_count": 16,
   "id": "aa703760",
   "metadata": {
    "executionInfo": {
     "elapsed": 5322,
     "status": "ok",
     "timestamp": 1667012904075,
     "user": {
      "displayName": "Guhan Ramachandran",
      "userId": "06924783872777661715"
     },
     "user_tz": -330
    },
    "id": "aa703760"
   },
   "outputs": [
    {
     "name": "stdout",
     "output_type": "stream",
     "text": [
      "Model: \"sequential\"\n",
      "_________________________________________________________________\n",
      " Layer (type)                Output Shape              Param #   \n",
      "=================================================================\n",
      " resnet50 (Functional)       (None, 2048)              23587712  \n",
      "                                                                 \n",
      " dense (Dense)               (None, 3)                 6147      \n",
      "                                                                 \n",
      "=================================================================\n",
      "Total params: 23,593,859\n",
      "Trainable params: 6,147\n",
      "Non-trainable params: 23,587,712\n",
      "_________________________________________________________________\n"
     ]
    }
   ],
   "source": [
    "from keras.applications.resnet import ResNet50\n",
    "from tensorflow.keras.models import Sequential\n",
    "from tensorflow.keras.layers import Dense, Flatten, GlobalAveragePooling2D\n",
    "import warnings\n",
    "warnings.filterwarnings('ignore')\n",
    "\n",
    "num_classes = 3\n",
    "model = Sequential()\n",
    "model.add(ResNet50(include_top=False, weights='imagenet',pooling='avg'))\n",
    "model.add(Dense(num_classes, activation='softmax'))\n",
    "model.layers[0].trainable = False\n",
    "model.summary()"
   ]
  },
  {
   "cell_type": "code",
   "execution_count": 17,
   "id": "bf8148b4",
   "metadata": {
    "id": "bf8148b4"
   },
   "outputs": [],
   "source": [
    "model.compile(loss='categorical_crossentropy', optimizer='adam', metrics=['categorical_accuracy'])"
   ]
  },
  {
   "cell_type": "code",
   "execution_count": 13,
   "id": "dcc35c14",
   "metadata": {
    "executionInfo": {
     "elapsed": 5,
     "status": "ok",
     "timestamp": 1667012904076,
     "user": {
      "displayName": "Guhan Ramachandran",
      "userId": "06924783872777661715"
     },
     "user_tz": -330
    },
    "id": "dcc35c14"
   },
   "outputs": [],
   "source": [
    "import numpy as np\n",
    "import pandas as pd\n",
    "import os"
   ]
  },
  {
   "cell_type": "code",
   "execution_count": 14,
   "id": "67e9b543",
   "metadata": {
    "id": "67e9b543"
   },
   "outputs": [
    {
     "name": "stdout",
     "output_type": "stream",
     "text": [
      "Found 15926 images belonging to 3 classes.\n",
      "Found 3980 images belonging to 3 classes.\n"
     ]
    }
   ],
   "source": [
    "from tensorflow.keras.preprocessing.image import ImageDataGenerator\n",
    "from tensorflow.keras.applications.resnet50 import preprocess_input\n",
    "\n",
    "\n",
    "data_generator =  ImageDataGenerator(preprocess_input,validation_split=0.2,width_shift_range=0.2, height_shift_range=0.2, zoom_range=0.2, horizontal_flip=True)\n",
    "image_size = 224\n",
    "train_generator = data_generator.flow_from_directory(\n",
    "    r\"C:\\Users\\Guhan Ramachandran\\Google Drive\\data Science\\Deep Learning\\hackathon\\Age Detection\\age-detector\\train\\Train\",\n",
    "    target_size=(image_size, image_size),\n",
    "    color_mode='rgb',\n",
    "    class_mode='categorical',\n",
    "    batch_size=100,\n",
    "    subset='training'\n",
    ")\n",
    "\n",
    "val_generator = data_generator.flow_from_directory(\n",
    "    r\"C:\\Users\\Guhan Ramachandran\\Google Drive\\data Science\\Deep Learning\\hackathon\\Age Detection\\age-detector\\train\\Train\",\n",
    "    target_size=(image_size, image_size),\n",
    "    color_mode='rgb',\n",
    "    class_mode='categorical',\n",
    "    subset='validation'\n",
    ")\n",
    "\n",
    "test_generator = datagen.flow_from_directory(\n",
    "    r\"C:\\Users\\Guhan Ramachandran\\Google Drive\\data Science\\Deep Learning\\hackathon\\Age Detection\\age-detector\\test\",\n",
    "    target_size=(image_size, image_size),\n",
    "    color_mode='rgb',\n",
    "    classes=['test'],\n",
    "    class_mode=None,\n",
    "    shuffle=False\n",
    ")"
   ]
  },
  {
   "cell_type": "code",
   "execution_count": 18,
   "id": "8ef0f5c3",
   "metadata": {
    "id": "8ef0f5c3"
   },
   "outputs": [
    {
     "name": "stdout",
     "output_type": "stream",
     "text": [
      "160/160 [==============================] - 1628s 10s/step - loss: 0.8462 - categorical_accuracy: 0.6212 - val_loss: 0.7890 - val_categorical_accuracy: 0.5625\n"
     ]
    }
   ],
   "source": [
    "history = model.fit_generator(train_generator, epochs=1, validation_data=val_generator,validation_steps=1)"
   ]
  },
  {
   "cell_type": "code",
   "execution_count": 20,
   "id": "47edfff7",
   "metadata": {
    "id": "47edfff7"
   },
   "outputs": [
    {
     "data": {
      "text/plain": [
       "<matplotlib.legend.Legend at 0x23e2eecaf40>"
      ]
     },
     "execution_count": 20,
     "metadata": {},
     "output_type": "execute_result"
    },
    {
     "data": {
      "image/png": "[encoded data removed]",
      "text/plain": [
       "<Figure size 432x288 with 1 Axes>"
      ]
     },
     "metadata": {
      "needs_background": "light"
     },
     "output_type": "display_data"
    }
   ],
   "source": [
    "import matplotlib.pyplot as plot\n",
    "\n",
    "plot.plot(history.history['categorical_accuracy'])\n",
    "plot.plot(history.history['val_categorical_accuracy'])\n",
    "plot.legend(['categorical_accuracy','val_categorical_accuracy'])"
   ]
  },
  {
   "cell_type": "code",
   "execution_count": null,
   "id": "2f7592b8",
   "metadata": {
    "id": "2f7592b8"
   },
   "outputs": [],
   "source": []
  },
  {
   "cell_type": "code",
   "execution_count": null,
   "id": "115916c0",
   "metadata": {
    "id": "115916c0"
   },
   "outputs": [],
   "source": []
  },
  {
   "cell_type": "code",
   "execution_count": null,
   "id": "51946db9",
   "metadata": {
    "id": "51946db9"
   },
   "outputs": [],
   "source": []
  },
  {
   "cell_type": "code",
   "execution_count": null,
   "id": "5a0673e0",
   "metadata": {
    "id": "5a0673e0"
   },
   "outputs": [],
   "source": []
  },
  {
   "cell_type": "code",
   "execution_count": null,
   "id": "ab4125ba",
   "metadata": {
    "id": "ab4125ba"
   },
   "outputs": [],
   "source": []
  },
  {
   "cell_type": "code",
   "execution_count": null,
   "id": "c8b0fda6",
   "metadata": {
    "id": "c8b0fda6"
   },
   "outputs": [],
   "source": []
  },
  {
   "cell_type": "code",
   "execution_count": null,
   "id": "19e17ca4",
   "metadata": {
    "id": "19e17ca4"
   },
   "outputs": [],
   "source": []
  }
 ],
 "metadata": {
  "accelerator": "GPU",
  "colab": {
   "provenance": []
  },
  "gpuClass": "standard",
  "kernelspec": {
   "display_name": "Python 3 (ipykernel)",
   "language": "python",
   "name": "python3"
  },
  "language_info": {
   "codemirror_mode": {
    "name": "ipython",
    "version": 3
   },
   "file_extension": ".py",
   "mimetype": "text/x-python",
   "name": "python",
   "nbconvert_exporter": "python",
   "pygments_lexer": "ipython3",
   "version": "3.9.7"
  }
 },
 "nbformat": 4,
 "nbformat_minor": 5
}

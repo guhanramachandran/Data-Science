{
 "cells": [
  {
   "cell_type": "markdown",
   "id": "76362694",
   "metadata": {},
   "source": [
    "## 1.\tCreate a file calc.py which has following functions\n",
    "### a.\tFunction to find the factorial of a number\n",
    "### b.\tFunction to convert degree to Fahrenheit\n",
    "### Write a new program in file “maths.py” such that you import functions of the file calc.py to your new program. Use from (module) import (functions) statement to import the functions from the calc module"
   ]
  },
  {
   "cell_type": "code",
   "execution_count": 1,
   "id": "0789b787",
   "metadata": {},
   "outputs": [],
   "source": [
    "import guhan_packages"
   ]
  },
  {
   "cell_type": "code",
   "execution_count": 2,
   "id": "783eafa7",
   "metadata": {},
   "outputs": [],
   "source": [
    "from guhan_packages import maths"
   ]
  },
  {
   "cell_type": "code",
   "execution_count": 3,
   "id": "0d65afbe",
   "metadata": {},
   "outputs": [
    {
     "name": "stdout",
     "output_type": "stream",
     "text": [
      "Enter the number for Factorial : 5\n",
      "Enter the Celsius value : 5\n",
      "The factorial of  5 is :  120\n",
      "fahrenheit value of  5 'C is :  41 'F\n"
     ]
    }
   ],
   "source": [
    "maths.func5()"
   ]
  },
  {
   "cell_type": "markdown",
   "id": "6bc26912",
   "metadata": {},
   "source": [
    "calc.py\n",
    "(for your reference)\n",
    "\n",
    "def factorial2(c):\n",
    "    factorial=1\n",
    "    if c<0:\n",
    "        print(\"Sorry We cant do factorial for negative numbers\")\n",
    "    elif c==0:\n",
    "        print(\"Factorial of \", c, \"is: 1\")\n",
    "    else:\n",
    "        for i in range (1, c+1):\n",
    "            factorial = factorial*i\n",
    "        print(\"The factorial of \", c , \"is : \" , factorial)\n",
    "\n",
    "def farhen(b):\n",
    "    f=int(b*1.8)+32\n",
    "    print (\"fahrenheit value of \", b,\"'C is : \", f,\"'F\")\n",
    "\n",
    "\n"
   ]
  },
  {
   "cell_type": "markdown",
   "id": "b75a436c",
   "metadata": {},
   "source": [
    "maths.py\n",
    "(for your reference)\n",
    "\n",
    "def func5():\n",
    "    from guhan_packages import calc\n",
    "    a1=int(input('Enter the number for Factorial : '))\n",
    "    a2=int(input('Enter the Celsius value : '))\n",
    "    calc.factorial2(a1)\n",
    "    calc.farhen(a2)"
   ]
  },
  {
   "cell_type": "markdown",
   "id": "4295472c",
   "metadata": {},
   "source": [
    "## 2.\tImplement a simple generator for Fibonacci series"
   ]
  },
  {
   "cell_type": "code",
   "execution_count": 58,
   "id": "28dafc5c",
   "metadata": {},
   "outputs": [],
   "source": [
    "def generator_fibno(num):\n",
    "    n1 = 0\n",
    "    n2 = 1\n",
    "    for i in range(num):\n",
    "        n3 = n1 + n2\n",
    "        yield (n3)\n",
    "        n1 = n2\n",
    "        n2 = n3"
   ]
  },
  {
   "cell_type": "code",
   "execution_count": 59,
   "id": "4dbd8e76",
   "metadata": {},
   "outputs": [],
   "source": [
    "var1=generator_fibno(4)"
   ]
  },
  {
   "cell_type": "code",
   "execution_count": 60,
   "id": "28de4c17",
   "metadata": {},
   "outputs": [
    {
     "name": "stdout",
     "output_type": "stream",
     "text": [
      "1\n",
      "2\n",
      "3\n",
      "5\n"
     ]
    },
    {
     "ename": "StopIteration",
     "evalue": "",
     "output_type": "error",
     "traceback": [
      "\u001b[1;31m---------------------------------------------------------------------------\u001b[0m",
      "\u001b[1;31mStopIteration\u001b[0m                             Traceback (most recent call last)",
      "\u001b[1;32mC:\\Users\\GUHANR~1\\AppData\\Local\\Temp/ipykernel_18188/3468575252.py\u001b[0m in \u001b[0;36m<module>\u001b[1;34m\u001b[0m\n\u001b[0;32m      3\u001b[0m \u001b[0mprint\u001b[0m\u001b[1;33m(\u001b[0m\u001b[0mnext\u001b[0m\u001b[1;33m(\u001b[0m\u001b[0mvar1\u001b[0m\u001b[1;33m)\u001b[0m\u001b[1;33m)\u001b[0m\u001b[1;33m\u001b[0m\u001b[1;33m\u001b[0m\u001b[0m\n\u001b[0;32m      4\u001b[0m \u001b[0mprint\u001b[0m\u001b[1;33m(\u001b[0m\u001b[0mnext\u001b[0m\u001b[1;33m(\u001b[0m\u001b[0mvar1\u001b[0m\u001b[1;33m)\u001b[0m\u001b[1;33m)\u001b[0m\u001b[1;33m\u001b[0m\u001b[1;33m\u001b[0m\u001b[0m\n\u001b[1;32m----> 5\u001b[1;33m \u001b[0mprint\u001b[0m\u001b[1;33m(\u001b[0m\u001b[0mnext\u001b[0m\u001b[1;33m(\u001b[0m\u001b[0mvar1\u001b[0m\u001b[1;33m)\u001b[0m\u001b[1;33m)\u001b[0m\u001b[1;33m\u001b[0m\u001b[1;33m\u001b[0m\u001b[0m\n\u001b[0m",
      "\u001b[1;31mStopIteration\u001b[0m: "
     ]
    }
   ],
   "source": [
    "print(next(var1))\n",
    "print(next(var1))\n",
    "print(next(var1))\n",
    "print(next(var1))\n",
    "print(next(var1))"
   ]
  },
  {
   "cell_type": "markdown",
   "id": "242ff9b0",
   "metadata": {},
   "source": [
    "## 3.\tWrite an iterator class to iterate over a sequence of values in the reverse direction"
   ]
  },
  {
   "cell_type": "code",
   "execution_count": 63,
   "id": "8aa9b23a",
   "metadata": {},
   "outputs": [
    {
     "data": {
      "text/plain": [
       "[100, 81, 64, 49, 36, 25, 16, 9, 4, 1]"
      ]
     },
     "execution_count": 63,
     "metadata": {},
     "output_type": "execute_result"
    }
   ],
   "source": [
    "[i**2 for i in range (10,0,-1)]"
   ]
  },
  {
   "cell_type": "markdown",
   "id": "d4091317",
   "metadata": {},
   "source": [
    "### 4.\tWrite a function “salary” that takes in base pay, HRA and special allowance as arguments and returns the sum of all the 3 salary elements. Then create a decorator function to add an additional element “Tax” (30% of base pay) and assign it back to base pay variable, and return the function (i.e., the final calculation of salary also includes tax)"
   ]
  },
  {
   "cell_type": "code",
   "execution_count": 89,
   "id": "4ae1092c",
   "metadata": {},
   "outputs": [],
   "source": [
    "def salary1(func):\n",
    "    def salary2(base_pay, HRA, S_allowance):\n",
    "        tax = (30/100) * base_pay\n",
    "        n_base_pay = tax + base_pay\n",
    "        return func(n_base_pay, HRA, S_allowance)\n",
    "    return salary2     "
   ]
  },
  {
   "cell_type": "code",
   "execution_count": 103,
   "id": "ae50ffd8",
   "metadata": {},
   "outputs": [],
   "source": [
    "@salary1\n",
    "def salary2(a,b,c):\n",
    "    print('Base Pay :',a)\n",
    "    print('lHRA :',b)\n",
    "    print('Special Allowance :', c)\n",
    "    print('Total Salary with TAX :')\n",
    "    return a+b+c"
   ]
  },
  {
   "cell_type": "code",
   "execution_count": 104,
   "id": "51c02cfa",
   "metadata": {},
   "outputs": [
    {
     "name": "stdout",
     "output_type": "stream",
     "text": [
      "Base Pay : 39.0\n",
      "lHRA : 10\n",
      "Special Allowance : 20\n",
      "Total Salary with TAX :\n"
     ]
    },
    {
     "data": {
      "text/plain": [
       "69.0"
      ]
     },
     "execution_count": 104,
     "metadata": {},
     "output_type": "execute_result"
    }
   ],
   "source": [
    "salary2(30,10,20)"
   ]
  },
  {
   "cell_type": "markdown",
   "id": "307f6b41",
   "metadata": {},
   "source": [
    "## 5.\tWrite 3 examples on possible methods to changing a tuple"
   ]
  },
  {
   "cell_type": "code",
   "execution_count": 107,
   "id": "41b93022",
   "metadata": {},
   "outputs": [
    {
     "data": {
      "text/plain": [
       "(2, 4, 5, [6, 15, 8])"
      ]
     },
     "execution_count": 107,
     "metadata": {},
     "output_type": "execute_result"
    }
   ],
   "source": [
    "tuple1=(2,4,5,[6,7,8])\n",
    "tuple1[3][1]=15\n",
    "tuple1"
   ]
  },
  {
   "cell_type": "code",
   "execution_count": 114,
   "id": "1102d1c2",
   "metadata": {},
   "outputs": [
    {
     "data": {
      "text/plain": [
       "(1, 2, 8, 9, 10, 4, 5, 6)"
      ]
     },
     "execution_count": 114,
     "metadata": {},
     "output_type": "execute_result"
    }
   ],
   "source": [
    "tuple2= (1,2,3,4,5,6)\n",
    "tuple2[:2]+(8,9,10)+tuple2[3:]"
   ]
  },
  {
   "cell_type": "code",
   "execution_count": 117,
   "id": "a5f7516f",
   "metadata": {},
   "outputs": [
    {
     "data": {
      "text/plain": [
       "(4, 5, 6, 7, 15, 9)"
      ]
     },
     "execution_count": 117,
     "metadata": {},
     "output_type": "execute_result"
    }
   ],
   "source": [
    "tuple4=(4,5,6,7,8,9)\n",
    "l1 = list(tuple4)\n",
    "l1[4]=15\n",
    "tuple5 = tuple(l1)\n",
    "tuple5"
   ]
  },
  {
   "cell_type": "code",
   "execution_count": null,
   "id": "3c959c67",
   "metadata": {},
   "outputs": [],
   "source": []
  },
  {
   "cell_type": "code",
   "execution_count": null,
   "id": "d8cec9a2",
   "metadata": {},
   "outputs": [],
   "source": []
  },
  {
   "cell_type": "code",
   "execution_count": null,
   "id": "bd82b243",
   "metadata": {},
   "outputs": [],
   "source": []
  },
  {
   "cell_type": "code",
   "execution_count": null,
   "id": "74b15262",
   "metadata": {},
   "outputs": [],
   "source": []
  },
  {
   "cell_type": "code",
   "execution_count": null,
   "id": "80d5ef8f",
   "metadata": {},
   "outputs": [],
   "source": []
  },
  {
   "cell_type": "code",
   "execution_count": null,
   "id": "68cf7cac",
   "metadata": {},
   "outputs": [],
   "source": []
  },
  {
   "cell_type": "code",
   "execution_count": null,
   "id": "f6b6e7bc",
   "metadata": {},
   "outputs": [],
   "source": []
  },
  {
   "cell_type": "code",
   "execution_count": null,
   "id": "aa7d7cf0",
   "metadata": {},
   "outputs": [],
   "source": []
  }
 ],
 "metadata": {
  "kernelspec": {
   "display_name": "Python 3 (ipykernel)",
   "language": "python",
   "name": "python3"
  },
  "language_info": {
   "codemirror_mode": {
    "name": "ipython",
    "version": 3
   },
   "file_extension": ".py",
   "mimetype": "text/x-python",
   "name": "python",
   "nbconvert_exporter": "python",
   "pygments_lexer": "ipython3",
   "version": "3.9.7"
  }
 },
 "nbformat": 4,
 "nbformat_minor": 5
}

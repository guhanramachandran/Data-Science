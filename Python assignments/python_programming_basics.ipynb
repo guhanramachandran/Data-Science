{
 "cells": [
  {
   "cell_type": "markdown",
   "id": "b341bfaa",
   "metadata": {},
   "source": [
    "## Python"
   ]
  },
  {
   "cell_type": "markdown",
   "id": "6d291318",
   "metadata": {},
   "source": [
    "## Keyword"
   ]
  },
  {
   "cell_type": "code",
   "execution_count": 18,
   "id": "f2110b82",
   "metadata": {},
   "outputs": [
    {
     "ename": "SyntaxError",
     "evalue": "cannot assign to True (Temp/ipykernel_15336/3861823960.py, line 1)",
     "output_type": "error",
     "traceback": [
      "\u001b[1;36m  File \u001b[1;32m\"C:\\Users\\GUHANR~1\\AppData\\Local\\Temp/ipykernel_15336/3861823960.py\"\u001b[1;36m, line \u001b[1;32m1\u001b[0m\n\u001b[1;33m    True =10\u001b[0m\n\u001b[1;37m    ^\u001b[0m\n\u001b[1;31mSyntaxError\u001b[0m\u001b[1;31m:\u001b[0m cannot assign to True\n"
     ]
    }
   ],
   "source": [
    "True =10"
   ]
  },
  {
   "cell_type": "code",
   "execution_count": 19,
   "id": "d0781b2e",
   "metadata": {},
   "outputs": [
    {
     "data": {
      "text/plain": [
       "False"
      ]
     },
     "execution_count": 19,
     "metadata": {},
     "output_type": "execute_result"
    }
   ],
   "source": [
    "5<3"
   ]
  },
  {
   "cell_type": "code",
   "execution_count": null,
   "id": "a194e43e",
   "metadata": {},
   "outputs": [],
   "source": [
    "# python is  case sensitive"
   ]
  },
  {
   "cell_type": "markdown",
   "id": "bc2b2319",
   "metadata": {},
   "source": [
    "## Identifier"
   ]
  },
  {
   "cell_type": "code",
   "execution_count": 20,
   "id": "50b96fe0",
   "metadata": {},
   "outputs": [
    {
     "name": "stdout",
     "output_type": "stream",
     "text": [
      "First variable\n"
     ]
    }
   ],
   "source": [
    "variable_name =\"First variable\"\n",
    "print(variable_name)"
   ]
  },
  {
   "cell_type": "code",
   "execution_count": null,
   "id": "15111392",
   "metadata": {},
   "outputs": [],
   "source": [
    "## variable_name is a identifier\n",
    "## identifier can not start with a number \n",
    "## and it has _ "
   ]
  },
  {
   "cell_type": "markdown",
   "id": "fcfd46be",
   "metadata": {},
   "source": [
    "## Phyton Statement"
   ]
  },
  {
   "cell_type": "code",
   "execution_count": 24,
   "id": "c302623a",
   "metadata": {},
   "outputs": [
    {
     "name": "stdout",
     "output_type": "stream",
     "text": [
      "41\n"
     ]
    }
   ],
   "source": [
    "digit = 1 + 2 +3+\\\n",
    "4+5+6+\\\n",
    "7+8+5\n",
    "\n",
    "print(digit)"
   ]
  },
  {
   "cell_type": "code",
   "execution_count": null,
   "id": "3adc1013",
   "metadata": {},
   "outputs": [],
   "source": [
    "## multiline statement ends with backslash \\"
   ]
  },
  {
   "cell_type": "code",
   "execution_count": 5,
   "id": "42a1a393",
   "metadata": {},
   "outputs": [
    {
     "name": "stdout",
     "output_type": "stream",
     "text": [
      "41\n"
     ]
    }
   ],
   "source": [
    "digit = (1 + 2 +3+\n",
    "4+5+6+\n",
    "7+8+5)\n",
    "\n",
    "print(digit)"
   ]
  },
  {
   "cell_type": "code",
   "execution_count": null,
   "id": "08fe23e0",
   "metadata": {},
   "outputs": [],
   "source": [
    "## else use the (  ) for multi lines "
   ]
  },
  {
   "cell_type": "code",
   "execution_count": 25,
   "id": "2d30559d",
   "metadata": {},
   "outputs": [
    {
     "name": "stdout",
     "output_type": "stream",
     "text": [
      "1 2 3\n"
     ]
    }
   ],
   "source": [
    "a = 1; b = 2; c = 3\n",
    "\n",
    "print(a,b,c)"
   ]
  },
  {
   "cell_type": "code",
   "execution_count": null,
   "id": "f29c16d8",
   "metadata": {},
   "outputs": [],
   "source": [
    "## whwn multiple variables comes in single line \n",
    "## seperate it with colen ; "
   ]
  },
  {
   "cell_type": "markdown",
   "id": "3fc42413",
   "metadata": {},
   "source": [
    "## indendation"
   ]
  },
  {
   "cell_type": "code",
   "execution_count": 26,
   "id": "7defd6fb",
   "metadata": {},
   "outputs": [],
   "source": [
    "## python logic that not work with out a indendation"
   ]
  },
  {
   "cell_type": "code",
   "execution_count": 8,
   "id": "98d43ab8",
   "metadata": {},
   "outputs": [
    {
     "data": {
      "text/plain": [
       "[1, 4, 7, 10, 13]"
      ]
     },
     "execution_count": 8,
     "metadata": {},
     "output_type": "execute_result"
    }
   ],
   "source": [
    "list(range(1,15,3))\n",
    "\n",
    "\n",
    "## for range\n",
    "## 1 is starting \n",
    "## 15 is ending\n",
    "## 3 is optional and this is step size or interval"
   ]
  },
  {
   "cell_type": "code",
   "execution_count": 28,
   "id": "109172d6",
   "metadata": {},
   "outputs": [
    {
     "data": {
      "text/plain": [
       "[1, 2, 3, 4, 5, 6, 7]"
      ]
     },
     "execution_count": 28,
     "metadata": {},
     "output_type": "execute_result"
    }
   ],
   "source": [
    "list(range(1,8))\n",
    "\n",
    "## range start from n (1) and end at 7 (n-1)"
   ]
  },
  {
   "cell_type": "code",
   "execution_count": 30,
   "id": "ce128683",
   "metadata": {},
   "outputs": [
    {
     "name": "stdout",
     "output_type": "stream",
     "text": [
      "1\n",
      "2\n",
      "3\n",
      "4\n",
      "5\n",
      "6\n",
      "7\n"
     ]
    }
   ],
   "source": [
    "for i in range(1,8):\n",
    "    print(i)\n",
    "    \n",
    "    \n",
    "    ## (for) for every single value inside the range\n",
    "    ##  function do something\n"
   ]
  },
  {
   "cell_type": "code",
   "execution_count": 21,
   "id": "e510c327",
   "metadata": {},
   "outputs": [
    {
     "name": "stdout",
     "output_type": "stream",
     "text": [
      "1\n",
      "2\n",
      "3\n",
      "4\n",
      "5\n",
      "i is equals\n"
     ]
    }
   ],
   "source": [
    "for i in range(1,10):\n",
    "    print(i)\n",
    "    if (i==5):\n",
    "        print(\"i is equals\")\n",
    "        break"
   ]
  },
  {
   "cell_type": "code",
   "execution_count": 36,
   "id": "b641f889",
   "metadata": {},
   "outputs": [
    {
     "name": "stdout",
     "output_type": "stream",
     "text": [
      "1\n",
      "2\n",
      "3\n",
      "4\n",
      "5\n",
      "6\n",
      "7\n",
      "8\n",
      "9\n"
     ]
    }
   ],
   "source": [
    "for i in range(1, 10): print(i)"
   ]
  },
  {
   "cell_type": "code",
   "execution_count": 41,
   "id": "d925e71a",
   "metadata": {},
   "outputs": [
    {
     "name": "stdout",
     "output_type": "stream",
     "text": [
      "True\n"
     ]
    }
   ],
   "source": [
    "if True:\n",
    "    print('True')\n",
    "    "
   ]
  },
  {
   "cell_type": "markdown",
   "id": "15966c2c",
   "metadata": {},
   "source": [
    "## Comment"
   ]
  },
  {
   "cell_type": "code",
   "execution_count": null,
   "id": "fff1d6e2",
   "metadata": {},
   "outputs": [],
   "source": [
    "# symbol is acommand\n",
    "# which is used for the feature reference"
   ]
  },
  {
   "cell_type": "code",
   "execution_count": null,
   "id": "f455d205",
   "metadata": {},
   "outputs": [],
   "source": [
    "'''multi line comment\n",
    "multi line comment\n",
    "multi line comment'''"
   ]
  },
  {
   "cell_type": "markdown",
   "id": "22a97b03",
   "metadata": {},
   "source": [
    "## Docstring"
   ]
  },
  {
   "cell_type": "code",
   "execution_count": null,
   "id": "aeb4824b",
   "metadata": {},
   "outputs": [],
   "source": [
    "# keyword to write a function is def\n",
    "# function name starts with def keyword and follows with ()"
   ]
  },
  {
   "cell_type": "code",
   "execution_count": 59,
   "id": "a97facfd",
   "metadata": {},
   "outputs": [],
   "source": [
    "def function1():\n",
    "    \"\"\"My first function to print the statement\"\"\"\n",
    "    print('This is my first function')"
   ]
  },
  {
   "cell_type": "code",
   "execution_count": 60,
   "id": "7ac3dd6c",
   "metadata": {},
   "outputs": [
    {
     "name": "stdout",
     "output_type": "stream",
     "text": [
      "This is my first function\n"
     ]
    }
   ],
   "source": [
    "function1()\n",
    "\n",
    "\n",
    "# This is how we call the function"
   ]
  },
  {
   "cell_type": "code",
   "execution_count": 61,
   "id": "9bcac021",
   "metadata": {},
   "outputs": [
    {
     "name": "stdout",
     "output_type": "stream",
     "text": [
      "My first function to print the statement\n"
     ]
    }
   ],
   "source": [
    "print(function1.__doc__)"
   ]
  },
  {
   "cell_type": "code",
   "execution_count": 48,
   "id": "603662ff",
   "metadata": {},
   "outputs": [],
   "source": [
    "def fun2(a,b):\n",
    "    \"\"\"function to add two number\"\"\"\n",
    "    return a+b"
   ]
  },
  {
   "cell_type": "code",
   "execution_count": 52,
   "id": "49beb1d3",
   "metadata": {},
   "outputs": [
    {
     "data": {
      "text/plain": [
       "17.0"
      ]
     },
     "execution_count": 52,
     "metadata": {},
     "output_type": "execute_result"
    }
   ],
   "source": [
    "fun2(5,12.)"
   ]
  },
  {
   "cell_type": "code",
   "execution_count": 54,
   "id": "4fd86b36",
   "metadata": {},
   "outputs": [
    {
     "name": "stdout",
     "output_type": "stream",
     "text": [
      "function to add two number\n"
     ]
    }
   ],
   "source": [
    "print(fun2.__doc__)"
   ]
  },
  {
   "cell_type": "code",
   "execution_count": 62,
   "id": "8a233bf3",
   "metadata": {},
   "outputs": [],
   "source": [
    "def fun3(a,b):\n",
    "    c=a+b\n",
    "    print(c)"
   ]
  },
  {
   "cell_type": "code",
   "execution_count": 63,
   "id": "d1008cfe",
   "metadata": {},
   "outputs": [
    {
     "name": "stdout",
     "output_type": "stream",
     "text": [
      "5\n"
     ]
    }
   ],
   "source": [
    "fun3(2,3)"
   ]
  },
  {
   "cell_type": "code",
   "execution_count": 56,
   "id": "27f91e25",
   "metadata": {},
   "outputs": [],
   "source": [
    "## training\n",
    "def cal2(a,b):\n",
    "    \"\"\"a is greater\"\"\"\n",
    "    if (a>b):\n",
    "        print('a', \"is greater\")\n",
    "    else:\n",
    "        print('b', \"is greater\")\n",
    "        "
   ]
  },
  {
   "cell_type": "code",
   "execution_count": 57,
   "id": "f71c8b9d",
   "metadata": {},
   "outputs": [
    {
     "name": "stdout",
     "output_type": "stream",
     "text": [
      "a is greater\n",
      "a is greater\n"
     ]
    }
   ],
   "source": [
    "cal2(100,20)\n",
    "print(cal2.__doc__)"
   ]
  },
  {
   "cell_type": "code",
   "execution_count": 64,
   "id": "de33d1bd",
   "metadata": {},
   "outputs": [],
   "source": [
    "import keyword"
   ]
  },
  {
   "cell_type": "code",
   "execution_count": 65,
   "id": "dd295ba5",
   "metadata": {},
   "outputs": [
    {
     "data": {
      "text/plain": [
       "['False',\n",
       " 'None',\n",
       " 'True',\n",
       " '__peg_parser__',\n",
       " 'and',\n",
       " 'as',\n",
       " 'assert',\n",
       " 'async',\n",
       " 'await',\n",
       " 'break',\n",
       " 'class',\n",
       " 'continue',\n",
       " 'def',\n",
       " 'del',\n",
       " 'elif',\n",
       " 'else',\n",
       " 'except',\n",
       " 'finally',\n",
       " 'for',\n",
       " 'from',\n",
       " 'global',\n",
       " 'if',\n",
       " 'import',\n",
       " 'in',\n",
       " 'is',\n",
       " 'lambda',\n",
       " 'nonlocal',\n",
       " 'not',\n",
       " 'or',\n",
       " 'pass',\n",
       " 'raise',\n",
       " 'return',\n",
       " 'try',\n",
       " 'while',\n",
       " 'with',\n",
       " 'yield']"
      ]
     },
     "execution_count": 65,
     "metadata": {},
     "output_type": "execute_result"
    }
   ],
   "source": [
    "keyword.kwlist"
   ]
  },
  {
   "cell_type": "markdown",
   "id": "7cc32c41",
   "metadata": {},
   "source": [
    "## create own package\n"
   ]
  },
  {
   "cell_type": "code",
   "execution_count": null,
   "id": "594f2361",
   "metadata": {},
   "outputs": [],
   "source": []
  },
  {
   "cell_type": "code",
   "execution_count": 69,
   "id": "b47f873d",
   "metadata": {},
   "outputs": [],
   "source": [
    "import numpy as np\n",
    "import pandas as pd"
   ]
  },
  {
   "cell_type": "code",
   "execution_count": null,
   "id": "6fcd6a5b",
   "metadata": {},
   "outputs": [],
   "source": [
    "## from package name import file name "
   ]
  },
  {
   "cell_type": "code",
   "execution_count": 71,
   "id": "7e633aa9",
   "metadata": {},
   "outputs": [],
   "source": [
    "##import guhan_package"
   ]
  },
  {
   "cell_type": "code",
   "execution_count": 77,
   "id": "2c15b239",
   "metadata": {},
   "outputs": [],
   "source": [
    "from guhan_package import test_package"
   ]
  },
  {
   "cell_type": "code",
   "execution_count": 78,
   "id": "a8bbfca8",
   "metadata": {},
   "outputs": [
    {
     "data": {
      "text/plain": [
       "'guhan'"
      ]
     },
     "execution_count": 78,
     "metadata": {},
     "output_type": "execute_result"
    }
   ],
   "source": [
    "test_package.name"
   ]
  },
  {
   "cell_type": "code",
   "execution_count": 74,
   "id": "527c23ea",
   "metadata": {},
   "outputs": [],
   "source": [
    "a=test_package.gravity"
   ]
  },
  {
   "cell_type": "code",
   "execution_count": 75,
   "id": "5db7fbf9",
   "metadata": {},
   "outputs": [
    {
     "name": "stdout",
     "output_type": "stream",
     "text": [
      "2.5\n"
     ]
    }
   ],
   "source": [
    "print(a)"
   ]
  },
  {
   "cell_type": "markdown",
   "id": "97131bc6",
   "metadata": {},
   "source": [
    "## List"
   ]
  },
  {
   "cell_type": "code",
   "execution_count": null,
   "id": "04e12e48",
   "metadata": {},
   "outputs": [],
   "source": [
    "## list is one of the data structure widely used in pythom\n"
   ]
  },
  {
   "cell_type": "code",
   "execution_count": 89,
   "id": "0bbd4eb4",
   "metadata": {},
   "outputs": [
    {
     "name": "stdout",
     "output_type": "stream",
     "text": [
      "[1, 'two', 3]\n"
     ]
    }
   ],
   "source": [
    "list1 = [1, 'two', 3]\n",
    "print(list1)"
   ]
  },
  {
   "cell_type": "markdown",
   "id": "3f2cc6dd",
   "metadata": {},
   "source": [
    "## List comprehension\n"
   ]
  },
  {
   "cell_type": "code",
   "execution_count": null,
   "id": "3fbd8a77",
   "metadata": {},
   "outputs": [],
   "source": [
    "\"\"\"\n",
    "1. expressiom\n",
    "2. for loop\n",
    "3. condition\n",
    "\"\"\""
   ]
  },
  {
   "cell_type": "code",
   "execution_count": 110,
   "id": "daaa7614",
   "metadata": {
    "scrolled": true
   },
   "outputs": [
    {
     "data": {
      "text/plain": [
       "[5.3, 7.5]"
      ]
     },
     "execution_count": 110,
     "metadata": {},
     "output_type": "execute_result"
    }
   ],
   "source": [
    "list1 = [20, 5.3, 25, 7.5]\n",
    "\n",
    "[a for a in list1 if a<20]\n",
    "\n",
    "##print each value(exp), for each value in list (for loop)  \n",
    "## if each value is less than 20"
   ]
  },
  {
   "cell_type": "code",
   "execution_count": 113,
   "id": "89e7a1df",
   "metadata": {},
   "outputs": [
    {
     "data": {
      "text/plain": [
       "[2, 5, 6, 7]"
      ]
     },
     "execution_count": 113,
     "metadata": {},
     "output_type": "execute_result"
    }
   ],
   "source": [
    "list2 = [2, 5, 6, 7]\n",
    "\n",
    "[a for a in list2 if a<20]\n"
   ]
  },
  {
   "cell_type": "code",
   "execution_count": 107,
   "id": "05a13a69",
   "metadata": {},
   "outputs": [],
   "source": [
    "power2 = [a**2 for a in range(11)]"
   ]
  },
  {
   "cell_type": "code",
   "execution_count": 102,
   "id": "094ee9f5",
   "metadata": {},
   "outputs": [
    {
     "data": {
      "text/plain": [
       "[0, 1, 4, 9, 16, 25, 36, 49, 64, 81, 100]"
      ]
     },
     "execution_count": 102,
     "metadata": {},
     "output_type": "execute_result"
    }
   ],
   "source": [
    "power2"
   ]
  },
  {
   "cell_type": "code",
   "execution_count": 115,
   "id": "e375dfdf",
   "metadata": {},
   "outputs": [],
   "source": [
    "power2 = [a**2 for a in range(11) if a%2==0]"
   ]
  },
  {
   "cell_type": "code",
   "execution_count": 116,
   "id": "2d263a20",
   "metadata": {},
   "outputs": [
    {
     "data": {
      "text/plain": [
       "[0, 4, 16, 36, 64, 100]"
      ]
     },
     "execution_count": 116,
     "metadata": {},
     "output_type": "execute_result"
    }
   ],
   "source": [
    "power2"
   ]
  },
  {
   "cell_type": "markdown",
   "id": "3223382a",
   "metadata": {},
   "source": [
    "## slicing"
   ]
  },
  {
   "cell_type": "code",
   "execution_count": 118,
   "id": "93eed018",
   "metadata": {},
   "outputs": [],
   "source": [
    "list3=[1, 2, 3, 4, 5, 6, 8]"
   ]
  },
  {
   "cell_type": "code",
   "execution_count": 119,
   "id": "d2515a67",
   "metadata": {},
   "outputs": [
    {
     "data": {
      "text/plain": [
       "1"
      ]
     },
     "execution_count": 119,
     "metadata": {},
     "output_type": "execute_result"
    }
   ],
   "source": [
    "list3[0]"
   ]
  },
  {
   "cell_type": "code",
   "execution_count": 120,
   "id": "c0fdba0a",
   "metadata": {},
   "outputs": [
    {
     "data": {
      "text/plain": [
       "[3, 4, 5]"
      ]
     },
     "execution_count": 120,
     "metadata": {},
     "output_type": "execute_result"
    }
   ],
   "source": [
    "list3[2:5]"
   ]
  },
  {
   "cell_type": "code",
   "execution_count": 152,
   "id": "e4af0ade",
   "metadata": {},
   "outputs": [
    {
     "data": {
      "text/plain": [
       "8"
      ]
     },
     "execution_count": 152,
     "metadata": {},
     "output_type": "execute_result"
    }
   ],
   "source": [
    "list3[-1]\n",
    "\n",
    "## indexing item in decending order "
   ]
  },
  {
   "cell_type": "markdown",
   "id": "0d6f0694",
   "metadata": {},
   "source": [
    "## List Mutation (list is mutable)"
   ]
  },
  {
   "cell_type": "code",
   "execution_count": 123,
   "id": "88d413e5",
   "metadata": {},
   "outputs": [],
   "source": [
    "list3[4]=15"
   ]
  },
  {
   "cell_type": "code",
   "execution_count": 124,
   "id": "69a6e8b3",
   "metadata": {},
   "outputs": [
    {
     "data": {
      "text/plain": [
       "[1, 2, 3, 4, 15, 6, 8]"
      ]
     },
     "execution_count": 124,
     "metadata": {},
     "output_type": "execute_result"
    }
   ],
   "source": [
    "list3"
   ]
  },
  {
   "cell_type": "markdown",
   "id": "128e0533",
   "metadata": {},
   "source": [
    "## Tuple ( is immutable)"
   ]
  },
  {
   "cell_type": "code",
   "execution_count": null,
   "id": "a7cac522",
   "metadata": {},
   "outputs": [],
   "source": [
    "## tuple caintain value in a paranthesis\n",
    "\n",
    "## list cantains values in a square bracket"
   ]
  },
  {
   "cell_type": "code",
   "execution_count": 126,
   "id": "611d3309",
   "metadata": {},
   "outputs": [],
   "source": [
    "a=(1, 2, 3, 4, 5)"
   ]
  },
  {
   "cell_type": "code",
   "execution_count": 128,
   "id": "fe10ec39",
   "metadata": {},
   "outputs": [
    {
     "data": {
      "text/plain": [
       "(3, 4)"
      ]
     },
     "execution_count": 128,
     "metadata": {},
     "output_type": "execute_result"
    }
   ],
   "source": [
    "a[2:4]"
   ]
  },
  {
   "cell_type": "code",
   "execution_count": 129,
   "id": "b1df4d1c",
   "metadata": {},
   "outputs": [
    {
     "ename": "TypeError",
     "evalue": "'tuple' object does not support item assignment",
     "output_type": "error",
     "traceback": [
      "\u001b[1;31m---------------------------------------------------------------------------\u001b[0m",
      "\u001b[1;31mTypeError\u001b[0m                                 Traceback (most recent call last)",
      "\u001b[1;32mC:\\Users\\GUHANR~1\\AppData\\Local\\Temp/ipykernel_15336/2485323.py\u001b[0m in \u001b[0;36m<module>\u001b[1;34m\u001b[0m\n\u001b[1;32m----> 1\u001b[1;33m \u001b[0ma\u001b[0m\u001b[1;33m[\u001b[0m\u001b[1;36m2\u001b[0m\u001b[1;33m]\u001b[0m\u001b[1;33m=\u001b[0m\u001b[1;36m12\u001b[0m\u001b[1;33m\u001b[0m\u001b[1;33m\u001b[0m\u001b[0m\n\u001b[0m",
      "\u001b[1;31mTypeError\u001b[0m: 'tuple' object does not support item assignment"
     ]
    }
   ],
   "source": [
    "a[2]=12\n",
    "\n",
    "## tupe is immutable"
   ]
  },
  {
   "cell_type": "markdown",
   "id": "da30dff1",
   "metadata": {},
   "source": [
    "## String"
   ]
  },
  {
   "cell_type": "code",
   "execution_count": 136,
   "id": "60f82675",
   "metadata": {},
   "outputs": [],
   "source": [
    "a = \"this is string\""
   ]
  },
  {
   "cell_type": "code",
   "execution_count": 138,
   "id": "aeba5cba",
   "metadata": {},
   "outputs": [
    {
     "name": "stdout",
     "output_type": "stream",
     "text": [
      "this is string\n"
     ]
    },
    {
     "data": {
      "text/plain": [
       "str"
      ]
     },
     "execution_count": 138,
     "metadata": {},
     "output_type": "execute_result"
    }
   ],
   "source": [
    "print (a)\n",
    "type(a)"
   ]
  },
  {
   "cell_type": "code",
   "execution_count": 141,
   "id": "ecfd729e",
   "metadata": {},
   "outputs": [
    {
     "data": {
      "text/plain": [
       "'string'"
      ]
     },
     "execution_count": 141,
     "metadata": {},
     "output_type": "execute_result"
    }
   ],
   "source": [
    "a[-6:]"
   ]
  },
  {
   "cell_type": "code",
   "execution_count": 143,
   "id": "823dfaf4",
   "metadata": {},
   "outputs": [
    {
     "ename": "TypeError",
     "evalue": "'str' object does not support item assignment",
     "output_type": "error",
     "traceback": [
      "\u001b[1;31m---------------------------------------------------------------------------\u001b[0m",
      "\u001b[1;31mTypeError\u001b[0m                                 Traceback (most recent call last)",
      "\u001b[1;32mC:\\Users\\GUHANR~1\\AppData\\Local\\Temp/ipykernel_15336/2059714051.py\u001b[0m in \u001b[0;36m<module>\u001b[1;34m\u001b[0m\n\u001b[1;32m----> 1\u001b[1;33m \u001b[0ma\u001b[0m\u001b[1;33m[\u001b[0m\u001b[1;36m5\u001b[0m\u001b[1;33m]\u001b[0m\u001b[1;33m=\u001b[0m\u001b[1;34m\"r\"\u001b[0m\u001b[1;33m\u001b[0m\u001b[1;33m\u001b[0m\u001b[0m\n\u001b[0m\u001b[0;32m      2\u001b[0m \u001b[1;33m\u001b[0m\u001b[0m\n\u001b[0;32m      3\u001b[0m \u001b[1;31m## we cant mute string\u001b[0m\u001b[1;33m\u001b[0m\u001b[1;33m\u001b[0m\u001b[0m\n",
      "\u001b[1;31mTypeError\u001b[0m: 'str' object does not support item assignment"
     ]
    }
   ],
   "source": [
    "a[5]=\"r\"\n",
    "\n",
    "## we cant mute string"
   ]
  },
  {
   "cell_type": "markdown",
   "id": "9b99d4b1",
   "metadata": {},
   "source": [
    "## Set"
   ]
  },
  {
   "cell_type": "code",
   "execution_count": null,
   "id": "896d9916",
   "metadata": {},
   "outputs": [],
   "source": [
    "## set is a unorder collection"
   ]
  },
  {
   "cell_type": "code",
   "execution_count": 144,
   "id": "3690f136",
   "metadata": {},
   "outputs": [],
   "source": [
    "## we can do slicing\n",
    "\n",
    "## set are immutable\n",
    "\n"
   ]
  },
  {
   "cell_type": "code",
   "execution_count": 145,
   "id": "86354cc5",
   "metadata": {},
   "outputs": [],
   "source": [
    "set1={1,2,3,4,5,6,87,8,9}"
   ]
  },
  {
   "cell_type": "code",
   "execution_count": 146,
   "id": "0ca95d00",
   "metadata": {},
   "outputs": [
    {
     "data": {
      "text/plain": [
       "{1, 2, 3, 4, 5, 6, 8, 9, 87}"
      ]
     },
     "execution_count": 146,
     "metadata": {},
     "output_type": "execute_result"
    }
   ],
   "source": [
    "set1"
   ]
  },
  {
   "cell_type": "code",
   "execution_count": 151,
   "id": "feb0a77c",
   "metadata": {},
   "outputs": [
    {
     "ename": "TypeError",
     "evalue": "'set' object is not subscriptable",
     "output_type": "error",
     "traceback": [
      "\u001b[1;31m---------------------------------------------------------------------------\u001b[0m",
      "\u001b[1;31mTypeError\u001b[0m                                 Traceback (most recent call last)",
      "\u001b[1;32mC:\\Users\\GUHANR~1\\AppData\\Local\\Temp/ipykernel_15336/958820074.py\u001b[0m in \u001b[0;36m<module>\u001b[1;34m\u001b[0m\n\u001b[1;32m----> 1\u001b[1;33m \u001b[0mset1\u001b[0m\u001b[1;33m[\u001b[0m\u001b[1;36m5\u001b[0m\u001b[1;33m]\u001b[0m\u001b[1;33m\u001b[0m\u001b[1;33m\u001b[0m\u001b[0m\n\u001b[0m",
      "\u001b[1;31mTypeError\u001b[0m: 'set' object is not subscriptable"
     ]
    }
   ],
   "source": [
    "set1[5]\n",
    "\n",
    "## indexing is not allowed in set\n"
   ]
  },
  {
   "cell_type": "code",
   "execution_count": 148,
   "id": "a7de01de",
   "metadata": {},
   "outputs": [],
   "source": [
    "set2={1,1,1,1,2,2,2,2,2,3,3,3,3,3}"
   ]
  },
  {
   "cell_type": "code",
   "execution_count": 149,
   "id": "50861104",
   "metadata": {},
   "outputs": [
    {
     "data": {
      "text/plain": [
       "{1, 2, 3}"
      ]
     },
     "execution_count": 149,
     "metadata": {},
     "output_type": "execute_result"
    }
   ],
   "source": [
    "set2\n",
    "\n",
    "## set can not contain the duplicate values"
   ]
  },
  {
   "cell_type": "markdown",
   "id": "5e12b801",
   "metadata": {},
   "source": [
    "## Dictonary"
   ]
  },
  {
   "cell_type": "code",
   "execution_count": null,
   "id": "1e2893ee",
   "metadata": {},
   "outputs": [],
   "source": [
    "## unordered collection of key value set\n",
    "    "
   ]
  },
  {
   "cell_type": "code",
   "execution_count": 154,
   "id": "71d7467d",
   "metadata": {},
   "outputs": [],
   "source": [
    "dict1 = {1:'value1', 2:'value2', 3:'value'}"
   ]
  },
  {
   "cell_type": "code",
   "execution_count": 160,
   "id": "7c8a3acb",
   "metadata": {},
   "outputs": [
    {
     "data": {
      "text/plain": [
       "('value1', 'value2')"
      ]
     },
     "execution_count": 160,
     "metadata": {},
     "output_type": "execute_result"
    }
   ],
   "source": [
    "dict1[1], dict1[2]"
   ]
  },
  {
   "cell_type": "code",
   "execution_count": null,
   "id": "166f4354",
   "metadata": {},
   "outputs": [],
   "source": []
  },
  {
   "cell_type": "code",
   "execution_count": null,
   "id": "d3070689",
   "metadata": {},
   "outputs": [],
   "source": []
  },
  {
   "cell_type": "code",
   "execution_count": null,
   "id": "d6513424",
   "metadata": {},
   "outputs": [],
   "source": []
  },
  {
   "cell_type": "code",
   "execution_count": null,
   "id": "00582659",
   "metadata": {},
   "outputs": [],
   "source": []
  },
  {
   "cell_type": "code",
   "execution_count": null,
   "id": "22741542",
   "metadata": {},
   "outputs": [],
   "source": []
  },
  {
   "cell_type": "code",
   "execution_count": null,
   "id": "d58f6faa",
   "metadata": {},
   "outputs": [],
   "source": []
  },
  {
   "cell_type": "code",
   "execution_count": null,
   "id": "f417d14a",
   "metadata": {},
   "outputs": [],
   "source": []
  },
  {
   "cell_type": "code",
   "execution_count": null,
   "id": "a4201214",
   "metadata": {},
   "outputs": [],
   "source": []
  },
  {
   "cell_type": "code",
   "execution_count": null,
   "id": "2e0aace9",
   "metadata": {},
   "outputs": [],
   "source": []
  },
  {
   "cell_type": "code",
   "execution_count": null,
   "id": "26e870b0",
   "metadata": {},
   "outputs": [],
   "source": []
  }
 ],
 "metadata": {
  "kernelspec": {
   "display_name": "Python 3 (ipykernel)",
   "language": "python",
   "name": "python3"
  },
  "language_info": {
   "codemirror_mode": {
    "name": "ipython",
    "version": 3
   },
   "file_extension": ".py",
   "mimetype": "text/x-python",
   "name": "python",
   "nbconvert_exporter": "python",
   "pygments_lexer": "ipython3",
   "version": "3.9.7"
  }
 },
 "nbformat": 4,
 "nbformat_minor": 5
}

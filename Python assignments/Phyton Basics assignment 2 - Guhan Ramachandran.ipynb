{
 "cells": [
  {
   "cell_type": "markdown",
   "id": "2245d88e",
   "metadata": {},
   "source": [
    "## 1.\tGet the input for 2 variables though “input” function and pass them to a function to return the addition of two variables"
   ]
  },
  {
   "cell_type": "code",
   "execution_count": 17,
   "id": "6394cc9f",
   "metadata": {},
   "outputs": [],
   "source": [
    "def add():\n",
    "    a=input('enter the first value: ')\n",
    "    b=input('enter the second value: ')\n",
    "    c=int(a)+int(b)\n",
    "    print('Addition of two numbers is', c)"
   ]
  },
  {
   "cell_type": "code",
   "execution_count": 18,
   "id": "8905dd8e",
   "metadata": {},
   "outputs": [
    {
     "name": "stdout",
     "output_type": "stream",
     "text": [
      "enter the first value: 5\n",
      "enter the second value: 2\n",
      "Addition of two numbers is 7\n"
     ]
    }
   ],
   "source": [
    "add()"
   ]
  },
  {
   "cell_type": "markdown",
   "id": "6d5ddb4d",
   "metadata": {},
   "source": [
    "## 2.\tWhat happens if we try to add an int with str and vice versa. Please print out the error"
   ]
  },
  {
   "cell_type": "code",
   "execution_count": 8,
   "id": "6c3b308e",
   "metadata": {},
   "outputs": [],
   "source": [
    "def add():\n",
    "    a='guhan'\n",
    "    b=input()\n",
    "    c=a+int(b)\n",
    "    print('Addition of two numbers is', c)"
   ]
  },
  {
   "cell_type": "code",
   "execution_count": 9,
   "id": "6f0258af",
   "metadata": {},
   "outputs": [
    {
     "name": "stdout",
     "output_type": "stream",
     "text": [
      "5\n"
     ]
    },
    {
     "ename": "TypeError",
     "evalue": "can only concatenate str (not \"int\") to str",
     "output_type": "error",
     "traceback": [
      "\u001b[1;31m---------------------------------------------------------------------------\u001b[0m",
      "\u001b[1;31mTypeError\u001b[0m                                 Traceback (most recent call last)",
      "\u001b[1;32mC:\\Users\\GUHANR~1\\AppData\\Local\\Temp/ipykernel_28464/3064714114.py\u001b[0m in \u001b[0;36m<module>\u001b[1;34m\u001b[0m\n\u001b[1;32m----> 1\u001b[1;33m \u001b[0madd\u001b[0m\u001b[1;33m(\u001b[0m\u001b[1;33m)\u001b[0m\u001b[1;33m\u001b[0m\u001b[1;33m\u001b[0m\u001b[0m\n\u001b[0m",
      "\u001b[1;32mC:\\Users\\GUHANR~1\\AppData\\Local\\Temp/ipykernel_28464/1415152345.py\u001b[0m in \u001b[0;36madd\u001b[1;34m()\u001b[0m\n\u001b[0;32m      2\u001b[0m     \u001b[0ma\u001b[0m\u001b[1;33m=\u001b[0m\u001b[1;34m'guhan'\u001b[0m\u001b[1;33m\u001b[0m\u001b[1;33m\u001b[0m\u001b[0m\n\u001b[0;32m      3\u001b[0m     \u001b[0mb\u001b[0m\u001b[1;33m=\u001b[0m\u001b[0minput\u001b[0m\u001b[1;33m(\u001b[0m\u001b[1;33m)\u001b[0m\u001b[1;33m\u001b[0m\u001b[1;33m\u001b[0m\u001b[0m\n\u001b[1;32m----> 4\u001b[1;33m     \u001b[0mc\u001b[0m\u001b[1;33m=\u001b[0m\u001b[0ma\u001b[0m\u001b[1;33m+\u001b[0m\u001b[0mint\u001b[0m\u001b[1;33m(\u001b[0m\u001b[0mb\u001b[0m\u001b[1;33m)\u001b[0m\u001b[1;33m\u001b[0m\u001b[1;33m\u001b[0m\u001b[0m\n\u001b[0m\u001b[0;32m      5\u001b[0m     \u001b[0mprint\u001b[0m\u001b[1;33m(\u001b[0m\u001b[1;34m'Addition of two numbers is'\u001b[0m\u001b[1;33m,\u001b[0m \u001b[0mc\u001b[0m\u001b[1;33m)\u001b[0m\u001b[1;33m\u001b[0m\u001b[1;33m\u001b[0m\u001b[0m\n",
      "\u001b[1;31mTypeError\u001b[0m: can only concatenate str (not \"int\") to str"
     ]
    }
   ],
   "source": [
    "add()"
   ]
  },
  {
   "cell_type": "markdown",
   "id": "1b7c37f1",
   "metadata": {},
   "source": [
    "## 3.\tCreate a string variable for the word “Data Science” and see if the letter “s” is present in it using membership operators"
   ]
  },
  {
   "cell_type": "code",
   "execution_count": 19,
   "id": "1d8b34ce",
   "metadata": {},
   "outputs": [],
   "source": [
    "str1='Data Science'"
   ]
  },
  {
   "cell_type": "code",
   "execution_count": 20,
   "id": "5a02c072",
   "metadata": {},
   "outputs": [
    {
     "name": "stdout",
     "output_type": "stream",
     "text": [
      "True\n"
     ]
    }
   ],
   "source": [
    "print('S' in str1)"
   ]
  },
  {
   "cell_type": "markdown",
   "id": "2e1b563a",
   "metadata": {},
   "source": [
    "## 4.\tWrite a function and pass a number list as an argument to the function. And return True if the first and last number of a given list is same. If numbers are different then return False"
   ]
  },
  {
   "cell_type": "code",
   "execution_count": 1,
   "id": "4269231f",
   "metadata": {},
   "outputs": [],
   "source": [
    "\n",
    "def fun2(list1=[1,2,3,4,1]):\n",
    "    if list1[0] == list1[4]:\n",
    "        print('true')\n",
    "    else:\n",
    "        print('false')\n",
    "       "
   ]
  },
  {
   "cell_type": "code",
   "execution_count": 2,
   "id": "86ded4d4",
   "metadata": {},
   "outputs": [
    {
     "name": "stdout",
     "output_type": "stream",
     "text": [
      "true\n"
     ]
    }
   ],
   "source": [
    "fun2()"
   ]
  },
  {
   "cell_type": "code",
   "execution_count": null,
   "id": "c7d66f90",
   "metadata": {},
   "outputs": [],
   "source": [
    "def fun2(list1=[1,2,3,4,5]):\n",
    "    if list1[0] == list1[4]:\n",
    "        print('true')\n",
    "    else:\n",
    "        print('false')"
   ]
  },
  {
   "cell_type": "code",
   "execution_count": 3,
   "id": "70eed138",
   "metadata": {},
   "outputs": [
    {
     "name": "stdout",
     "output_type": "stream",
     "text": [
      "true\n"
     ]
    }
   ],
   "source": [
    "fun2()"
   ]
  },
  {
   "cell_type": "markdown",
   "id": "434d3272",
   "metadata": {},
   "source": [
    "## 5.\tIterate the given list of numbers (l1) and print only those numbers which are divisible by 5. (l1 = [10, 20, 33, 46, 55])"
   ]
  },
  {
   "cell_type": "code",
   "execution_count": 16,
   "id": "3a775912",
   "metadata": {},
   "outputs": [],
   "source": [
    "i1 = [10, 20, 33, 46, 55]\n",
    "def iterate(x):\n",
    "    for x in i1:\n",
    "        if (x%5 == 0):\n",
    "            print(x)\n",
    "\n"
   ]
  },
  {
   "cell_type": "code",
   "execution_count": 17,
   "id": "ac368e94",
   "metadata": {},
   "outputs": [
    {
     "name": "stdout",
     "output_type": "stream",
     "text": [
      "10\n",
      "20\n",
      "55\n"
     ]
    }
   ],
   "source": [
    "iterate (i1)"
   ]
  },
  {
   "cell_type": "markdown",
   "id": "d3e107d9",
   "metadata": {},
   "source": [
    "## 6.\tWrite a program to create function calculation() such that it can accept two variables and calculate addition and subtraction. Also, it must return both addition and subtraction in a single return call.\n",
    "### a.\tHint: Separate return values with a comma\n"
   ]
  },
  {
   "cell_type": "code",
   "execution_count": 23,
   "id": "ad7f0133",
   "metadata": {},
   "outputs": [],
   "source": [
    "def calculation():\n",
    "    var_1 = input('Enter the first number')\n",
    "    var_2 = input('Enter the first number')\n",
    "    add = int(var_1)+int(var_2)\n",
    "    sub = int(var_1)-int(var_2)\n",
    "    return add, sub\n",
    "    \n",
    "    "
   ]
  },
  {
   "cell_type": "code",
   "execution_count": 24,
   "id": "dbd7eaf1",
   "metadata": {},
   "outputs": [
    {
     "name": "stdout",
     "output_type": "stream",
     "text": [
      "Enter the first number10\n",
      "Enter the first number5\n"
     ]
    },
    {
     "data": {
      "text/plain": [
       "(15, 5)"
      ]
     },
     "execution_count": 24,
     "metadata": {},
     "output_type": "execute_result"
    }
   ],
   "source": [
    "calculation()"
   ]
  },
  {
   "cell_type": "markdown",
   "id": "75546ac3",
   "metadata": {},
   "source": [
    "### 7.\tWrite a program to demonstrate the following Syntax error\n",
    "### a.\tSyntaxError: non-default argument follows default argument\n"
   ]
  },
  {
   "cell_type": "code",
   "execution_count": 40,
   "id": "be10104d",
   "metadata": {},
   "outputs": [
    {
     "ename": "SyntaxError",
     "evalue": "non-default argument follows default argument (Temp/ipykernel_3940/1524484653.py, line 1)",
     "output_type": "error",
     "traceback": [
      "\u001b[1;36m  File \u001b[1;32m\"C:\\Users\\GUHANR~1\\AppData\\Local\\Temp/ipykernel_3940/1524484653.py\"\u001b[1;36m, line \u001b[1;32m1\u001b[0m\n\u001b[1;33m    def fun1(a,b=5,d):\u001b[0m\n\u001b[1;37m                    ^\u001b[0m\n\u001b[1;31mSyntaxError\u001b[0m\u001b[1;31m:\u001b[0m non-default argument follows default argument\n"
     ]
    }
   ],
   "source": [
    "def fun1(a,b=5,d):\n",
    "    c=a+b+d\n",
    "    return c\n",
    "\n",
    "        \n",
    "    "
   ]
  },
  {
   "cell_type": "markdown",
   "id": "0369c9e5",
   "metadata": {},
   "source": [
    "## 8.\tWhat’s recursion? Explain in your own words and write a program to create a recursive function to calculate the sum of numbers from 0 to 10"
   ]
  },
  {
   "cell_type": "markdown",
   "id": "3c9a5113",
   "metadata": {},
   "source": [
    "recursion is doing repeated operations of numbers in a given range.\n",
    "for eg: 1. Sum of numbers from 0 to 4 = 1+2+3+4 = 10\n",
    "        2. Multiplication of numbers from 0 to 4 = 1*2*3*4 = 24"
   ]
  },
  {
   "cell_type": "code",
   "execution_count": 83,
   "id": "43097343",
   "metadata": {},
   "outputs": [
    {
     "name": "stdout",
     "output_type": "stream",
     "text": [
      "enter the number10\n",
      "Recursion of 10 is: 55\n"
     ]
    }
   ],
   "source": [
    "def recurtion(x):\n",
    "    if x==1:\n",
    "        return x\n",
    "    else:\n",
    "        return (x+recurtion(x-1))\n",
    "N1 = input('enter the number')\n",
    "a= int(N1)\n",
    "print('Recursion of', N1,'is:', recurtion(a))"
   ]
  },
  {
   "cell_type": "markdown",
   "id": "27d577d0",
   "metadata": {},
   "source": [
    "## 9.\tUse filter and lambda function to calculate square for below numbers only if they are odd number\n",
    "### a.\t[12, 11, 53, 22, 21, 77, 87, 88, 98]\n"
   ]
  },
  {
   "cell_type": "code",
   "execution_count": 107,
   "id": "9641369a",
   "metadata": {},
   "outputs": [
    {
     "name": "stdout",
     "output_type": "stream",
     "text": [
      "[11, 53, 21, 77, 87]\n",
      "121\n",
      "2809\n",
      "441\n",
      "5929\n",
      "7569\n"
     ]
    }
   ],
   "source": [
    "a = [12, 11, 53, 22, 21, 77, 87, 88, 98]\n",
    "\n",
    "fil1=list(filter(lambda x: x%2==1, a))\n",
    "print(fil1)\n",
    "d=0\n",
    "for i in fil1:\n",
    "    sqr=fil1[d]\n",
    "    d=d+1\n",
    "    b=sqr*i\n",
    "    print (b)\n",
    "    "
   ]
  },
  {
   "cell_type": "markdown",
   "id": "949ba402",
   "metadata": {},
   "source": [
    "## 10.\t Write a function (not a lambda function) and use it to demonstrate an example for map function (any logical function of your choice)\n"
   ]
  },
  {
   "cell_type": "code",
   "execution_count": 122,
   "id": "f412da93",
   "metadata": {},
   "outputs": [
    {
     "name": "stdout",
     "output_type": "stream",
     "text": [
      "[1, 8, 27, 64, 125, 216]\n"
     ]
    }
   ],
   "source": [
    "\n",
    "def cube(n):\n",
    "    return n*n*n\n",
    "\n",
    "a5=[1, 2, 3, 4, 5, 6]\n",
    "\n",
    "M1=list(map(cube,a5))\n",
    "print(M1)\n"
   ]
  },
  {
   "cell_type": "code",
   "execution_count": null,
   "id": "e6c318cc",
   "metadata": {},
   "outputs": [],
   "source": []
  },
  {
   "cell_type": "code",
   "execution_count": null,
   "id": "0c0beabe",
   "metadata": {},
   "outputs": [],
   "source": []
  },
  {
   "cell_type": "code",
   "execution_count": null,
   "id": "4ebe97df",
   "metadata": {},
   "outputs": [],
   "source": []
  },
  {
   "cell_type": "code",
   "execution_count": null,
   "id": "7750753a",
   "metadata": {},
   "outputs": [],
   "source": []
  },
  {
   "cell_type": "code",
   "execution_count": null,
   "id": "4566bdab",
   "metadata": {},
   "outputs": [],
   "source": []
  }
 ],
 "metadata": {
  "kernelspec": {
   "display_name": "Python 3 (ipykernel)",
   "language": "python",
   "name": "python3"
  },
  "language_info": {
   "codemirror_mode": {
    "name": "ipython",
    "version": 3
   },
   "file_extension": ".py",
   "mimetype": "text/x-python",
   "name": "python",
   "nbconvert_exporter": "python",
   "pygments_lexer": "ipython3",
   "version": "3.9.7"
  }
 },
 "nbformat": 4,
 "nbformat_minor": 5
}

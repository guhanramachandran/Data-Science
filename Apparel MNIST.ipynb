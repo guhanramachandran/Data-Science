{
 "cells": [
  {
   "cell_type": "code",
   "execution_count": 54,
   "id": "46f465d5",
   "metadata": {},
   "outputs": [],
   "source": [
    "\n",
    "import numpy as np\n",
    "import pandas as pd\n",
    "\n",
    "from tensorflow.keras.utils import to_categorical\n",
    "\n",
    "from keras.models import Sequential\n",
    "from keras.layers import Dense, BatchNormalization\n",
    "from tensorflow.keras import optimizers\n",
    "from tensorflow.keras.preprocessing import image\n",
    "from sklearn.model_selection import train_test_split\n",
    "from tensorflow.keras.preprocessing.image import ImageDataGenerator\n",
    "%matplotlib inline\n"
   ]
  },
  {
   "cell_type": "code",
   "execution_count": 7,
   "id": "fb4f1a33",
   "metadata": {},
   "outputs": [],
   "source": [
    "train = pd.read_csv(\"train.csv\")\n",
    "Test = pd.read_csv(\"test.csv\")\n"
   ]
  },
  {
   "cell_type": "code",
   "execution_count": 8,
   "id": "d7fa46f3",
   "metadata": {},
   "outputs": [
    {
     "data": {
      "text/html": [
       "<div>\n",
       "<style scoped>\n",
       "    .dataframe tbody tr th:only-of-type {\n",
       "        vertical-align: middle;\n",
       "    }\n",
       "\n",
       "    .dataframe tbody tr th {\n",
       "        vertical-align: top;\n",
       "    }\n",
       "\n",
       "    .dataframe thead th {\n",
       "        text-align: right;\n",
       "    }\n",
       "</style>\n",
       "<table border=\"1\" class=\"dataframe\">\n",
       "  <thead>\n",
       "    <tr style=\"text-align: right;\">\n",
       "      <th></th>\n",
       "      <th>id</th>\n",
       "      <th>label</th>\n",
       "    </tr>\n",
       "  </thead>\n",
       "  <tbody>\n",
       "    <tr>\n",
       "      <th>0</th>\n",
       "      <td>1</td>\n",
       "      <td>9</td>\n",
       "    </tr>\n",
       "    <tr>\n",
       "      <th>1</th>\n",
       "      <td>2</td>\n",
       "      <td>0</td>\n",
       "    </tr>\n",
       "    <tr>\n",
       "      <th>2</th>\n",
       "      <td>3</td>\n",
       "      <td>0</td>\n",
       "    </tr>\n",
       "    <tr>\n",
       "      <th>3</th>\n",
       "      <td>4</td>\n",
       "      <td>3</td>\n",
       "    </tr>\n",
       "    <tr>\n",
       "      <th>4</th>\n",
       "      <td>5</td>\n",
       "      <td>0</td>\n",
       "    </tr>\n",
       "  </tbody>\n",
       "</table>\n",
       "</div>"
      ],
      "text/plain": [
       "   id  label\n",
       "0   1      9\n",
       "1   2      0\n",
       "2   3      0\n",
       "3   4      3\n",
       "4   5      0"
      ]
     },
     "execution_count": 8,
     "metadata": {},
     "output_type": "execute_result"
    }
   ],
   "source": [
    "train.head()"
   ]
  },
  {
   "cell_type": "code",
   "execution_count": 9,
   "id": "6a9d4360",
   "metadata": {},
   "outputs": [
    {
     "data": {
      "text/html": [
       "<div>\n",
       "<style scoped>\n",
       "    .dataframe tbody tr th:only-of-type {\n",
       "        vertical-align: middle;\n",
       "    }\n",
       "\n",
       "    .dataframe tbody tr th {\n",
       "        vertical-align: top;\n",
       "    }\n",
       "\n",
       "    .dataframe thead th {\n",
       "        text-align: right;\n",
       "    }\n",
       "</style>\n",
       "<table border=\"1\" class=\"dataframe\">\n",
       "  <thead>\n",
       "    <tr style=\"text-align: right;\">\n",
       "      <th></th>\n",
       "      <th>id</th>\n",
       "    </tr>\n",
       "  </thead>\n",
       "  <tbody>\n",
       "    <tr>\n",
       "      <th>0</th>\n",
       "      <td>60001</td>\n",
       "    </tr>\n",
       "    <tr>\n",
       "      <th>1</th>\n",
       "      <td>60002</td>\n",
       "    </tr>\n",
       "    <tr>\n",
       "      <th>2</th>\n",
       "      <td>60003</td>\n",
       "    </tr>\n",
       "    <tr>\n",
       "      <th>3</th>\n",
       "      <td>60004</td>\n",
       "    </tr>\n",
       "    <tr>\n",
       "      <th>4</th>\n",
       "      <td>60005</td>\n",
       "    </tr>\n",
       "  </tbody>\n",
       "</table>\n",
       "</div>"
      ],
      "text/plain": [
       "      id\n",
       "0  60001\n",
       "1  60002\n",
       "2  60003\n",
       "3  60004\n",
       "4  60005"
      ]
     },
     "execution_count": 9,
     "metadata": {},
     "output_type": "execute_result"
    }
   ],
   "source": [
    "test.head()"
   ]
  },
  {
   "cell_type": "code",
   "execution_count": 11,
   "id": "8dbf9ac3",
   "metadata": {},
   "outputs": [
    {
     "data": {
      "text/plain": [
       "(60000, 2)"
      ]
     },
     "execution_count": 11,
     "metadata": {},
     "output_type": "execute_result"
    }
   ],
   "source": [
    "train.shape"
   ]
  },
  {
   "cell_type": "code",
   "execution_count": 14,
   "id": "2d6ef07f",
   "metadata": {},
   "outputs": [
    {
     "name": "stderr",
     "output_type": "stream",
     "text": [
      "C:\\Users\\Guhan Ramachandran\\anaconda3\\lib\\site-packages\\keras\\utils\\image_utils.py:409: UserWarning: grayscale is deprecated. Please use color_mode = \"grayscale\"\n",
      "  warnings.warn(\n"
     ]
    }
   ],
   "source": [
    "img=image.load_img('train/1.png',grayscale=True,target_size=(28,28,1))"
   ]
  },
  {
   "cell_type": "code",
   "execution_count": 15,
   "id": "9750c44e",
   "metadata": {},
   "outputs": [
    {
     "data": {
      "image/png": "[encoded data removed]",
      "text/plain": [
       "<PIL.Image.Image image mode=L size=28x28 at 0x2C42C1DE2B0>"
      ]
     },
     "execution_count": 15,
     "metadata": {},
     "output_type": "execute_result"
    }
   ],
   "source": [
    "img"
   ]
  },
  {
   "cell_type": "code",
   "execution_count": 16,
   "id": "5624d319",
   "metadata": {},
   "outputs": [
    {
     "data": {
      "text/plain": [
       "(28, 28)"
      ]
     },
     "execution_count": 16,
     "metadata": {},
     "output_type": "execute_result"
    }
   ],
   "source": [
    "img.size"
   ]
  },
  {
   "cell_type": "code",
   "execution_count": 17,
   "id": "bd2dfa6c",
   "metadata": {},
   "outputs": [],
   "source": [
    "img_arr = image.img_to_array(img)"
   ]
  },
  {
   "cell_type": "code",
   "execution_count": 19,
   "id": "8038465b",
   "metadata": {},
   "outputs": [
    {
     "data": {
      "text/plain": [
       "(28, 28, 1)"
      ]
     },
     "execution_count": 19,
     "metadata": {},
     "output_type": "execute_result"
    }
   ],
   "source": [
    "img_arr.shape"
   ]
  },
  {
   "cell_type": "code",
   "execution_count": 20,
   "id": "a927bb6c",
   "metadata": {},
   "outputs": [
    {
     "data": {
      "text/plain": [
       "array([[[  0.],\n",
       "        [  0.],\n",
       "        [  0.],\n",
       "        [  0.],\n",
       "        [  0.],\n",
       "        [  0.],\n",
       "        [  0.],\n",
       "        [  0.],\n",
       "        [  0.],\n",
       "        [  0.],\n",
       "        [  0.],\n",
       "        [  0.],\n",
       "        [  0.],\n",
       "        [  0.],\n",
       "        [  0.],\n",
       "        [  0.],\n",
       "        [  0.],\n",
       "        [  0.],\n",
       "        [  0.],\n",
       "        [  0.],\n",
       "        [  0.],\n",
       "        [  0.],\n",
       "        [  0.],\n",
       "        [  0.],\n",
       "        [  0.],\n",
       "        [  0.],\n",
       "        [  0.],\n",
       "        [  0.]],\n",
       "\n",
       "       [[  0.],\n",
       "        [  0.],\n",
       "        [  0.],\n",
       "        [  0.],\n",
       "        [  0.],\n",
       "        [  0.],\n",
       "        [  0.],\n",
       "        [  0.],\n",
       "        [  0.],\n",
       "        [  0.],\n",
       "        [  0.],\n",
       "        [  0.],\n",
       "        [  0.],\n",
       "        [  0.],\n",
       "        [  0.],\n",
       "        [  0.],\n",
       "        [  0.],\n",
       "        [  0.],\n",
       "        [  0.],\n",
       "        [  0.],\n",
       "        [  0.],\n",
       "        [  0.],\n",
       "        [  0.],\n",
       "        [  0.],\n",
       "        [  0.],\n",
       "        [  0.],\n",
       "        [  0.],\n",
       "        [  0.]],\n",
       "\n",
       "       [[  0.],\n",
       "        [  0.],\n",
       "        [  0.],\n",
       "        [  0.],\n",
       "        [  0.],\n",
       "        [  0.],\n",
       "        [  0.],\n",
       "        [  0.],\n",
       "        [  0.],\n",
       "        [  0.],\n",
       "        [  0.],\n",
       "        [  0.],\n",
       "        [  0.],\n",
       "        [  0.],\n",
       "        [  0.],\n",
       "        [  0.],\n",
       "        [  0.],\n",
       "        [  0.],\n",
       "        [  0.],\n",
       "        [  0.],\n",
       "        [  0.],\n",
       "        [  0.],\n",
       "        [  0.],\n",
       "        [  0.],\n",
       "        [  0.],\n",
       "        [  0.],\n",
       "        [  0.],\n",
       "        [  0.]],\n",
       "\n",
       "       [[  0.],\n",
       "        [  0.],\n",
       "        [  0.],\n",
       "        [  0.],\n",
       "        [  0.],\n",
       "        [  0.],\n",
       "        [  0.],\n",
       "        [  0.],\n",
       "        [  0.],\n",
       "        [  0.],\n",
       "        [  0.],\n",
       "        [  0.],\n",
       "        [  1.],\n",
       "        [  0.],\n",
       "        [  0.],\n",
       "        [ 13.],\n",
       "        [ 73.],\n",
       "        [  0.],\n",
       "        [  0.],\n",
       "        [  1.],\n",
       "        [  4.],\n",
       "        [  0.],\n",
       "        [  0.],\n",
       "        [  0.],\n",
       "        [  0.],\n",
       "        [  1.],\n",
       "        [  1.],\n",
       "        [  0.]],\n",
       "\n",
       "       [[  0.],\n",
       "        [  0.],\n",
       "        [  0.],\n",
       "        [  0.],\n",
       "        [  0.],\n",
       "        [  0.],\n",
       "        [  0.],\n",
       "        [  0.],\n",
       "        [  0.],\n",
       "        [  0.],\n",
       "        [  0.],\n",
       "        [  0.],\n",
       "        [  3.],\n",
       "        [  0.],\n",
       "        [ 36.],\n",
       "        [136.],\n",
       "        [127.],\n",
       "        [ 62.],\n",
       "        [ 54.],\n",
       "        [  0.],\n",
       "        [  0.],\n",
       "        [  0.],\n",
       "        [  1.],\n",
       "        [  3.],\n",
       "        [  4.],\n",
       "        [  0.],\n",
       "        [  0.],\n",
       "        [  3.]],\n",
       "\n",
       "       [[  0.],\n",
       "        [  0.],\n",
       "        [  0.],\n",
       "        [  0.],\n",
       "        [  0.],\n",
       "        [  0.],\n",
       "        [  0.],\n",
       "        [  0.],\n",
       "        [  0.],\n",
       "        [  0.],\n",
       "        [  0.],\n",
       "        [  0.],\n",
       "        [  6.],\n",
       "        [  0.],\n",
       "        [102.],\n",
       "        [204.],\n",
       "        [176.],\n",
       "        [134.],\n",
       "        [144.],\n",
       "        [123.],\n",
       "        [ 23.],\n",
       "        [  0.],\n",
       "        [  0.],\n",
       "        [  0.],\n",
       "        [  0.],\n",
       "        [ 12.],\n",
       "        [ 10.],\n",
       "        [  0.]],\n",
       "\n",
       "       [[  0.],\n",
       "        [  0.],\n",
       "        [  0.],\n",
       "        [  0.],\n",
       "        [  0.],\n",
       "        [  0.],\n",
       "        [  0.],\n",
       "        [  0.],\n",
       "        [  0.],\n",
       "        [  0.],\n",
       "        [  0.],\n",
       "        [  0.],\n",
       "        [  0.],\n",
       "        [  0.],\n",
       "        [155.],\n",
       "        [236.],\n",
       "        [207.],\n",
       "        [178.],\n",
       "        [107.],\n",
       "        [156.],\n",
       "        [161.],\n",
       "        [109.],\n",
       "        [ 64.],\n",
       "        [ 23.],\n",
       "        [ 77.],\n",
       "        [130.],\n",
       "        [ 72.],\n",
       "        [ 15.]],\n",
       "\n",
       "       [[  0.],\n",
       "        [  0.],\n",
       "        [  0.],\n",
       "        [  0.],\n",
       "        [  0.],\n",
       "        [  0.],\n",
       "        [  0.],\n",
       "        [  0.],\n",
       "        [  0.],\n",
       "        [  0.],\n",
       "        [  0.],\n",
       "        [  1.],\n",
       "        [  0.],\n",
       "        [ 69.],\n",
       "        [207.],\n",
       "        [223.],\n",
       "        [218.],\n",
       "        [216.],\n",
       "        [216.],\n",
       "        [163.],\n",
       "        [127.],\n",
       "        [121.],\n",
       "        [121.],\n",
       "        [146.],\n",
       "        [141.],\n",
       "        [ 88.],\n",
       "        [172.],\n",
       "        [ 65.]],\n",
       "\n",
       "       [[  0.],\n",
       "        [  0.],\n",
       "        [  0.],\n",
       "        [  0.],\n",
       "        [  0.],\n",
       "        [  0.],\n",
       "        [  0.],\n",
       "        [  0.],\n",
       "        [  0.],\n",
       "        [  1.],\n",
       "        [  1.],\n",
       "        [  1.],\n",
       "        [  0.],\n",
       "        [200.],\n",
       "        [232.],\n",
       "        [232.],\n",
       "        [233.],\n",
       "        [229.],\n",
       "        [223.],\n",
       "        [223.],\n",
       "        [215.],\n",
       "        [213.],\n",
       "        [163.],\n",
       "        [127.],\n",
       "        [123.],\n",
       "        [195.],\n",
       "        [229.],\n",
       "        [  0.]],\n",
       "\n",
       "       [[  0.],\n",
       "        [  0.],\n",
       "        [  0.],\n",
       "        [  0.],\n",
       "        [  0.],\n",
       "        [  0.],\n",
       "        [  0.],\n",
       "        [  0.],\n",
       "        [  0.],\n",
       "        [  0.],\n",
       "        [  0.],\n",
       "        [  0.],\n",
       "        [  0.],\n",
       "        [183.],\n",
       "        [225.],\n",
       "        [216.],\n",
       "        [223.],\n",
       "        [227.],\n",
       "        [235.],\n",
       "        [227.],\n",
       "        [224.],\n",
       "        [222.],\n",
       "        [224.],\n",
       "        [221.],\n",
       "        [223.],\n",
       "        [245.],\n",
       "        [173.],\n",
       "        [  0.]],\n",
       "\n",
       "       [[  0.],\n",
       "        [  0.],\n",
       "        [  0.],\n",
       "        [  0.],\n",
       "        [  0.],\n",
       "        [  0.],\n",
       "        [  0.],\n",
       "        [  0.],\n",
       "        [  0.],\n",
       "        [  0.],\n",
       "        [  0.],\n",
       "        [  0.],\n",
       "        [  0.],\n",
       "        [193.],\n",
       "        [227.],\n",
       "        [218.],\n",
       "        [213.],\n",
       "        [198.],\n",
       "        [179.],\n",
       "        [211.],\n",
       "        [210.],\n",
       "        [211.],\n",
       "        [213.],\n",
       "        [223.],\n",
       "        [220.],\n",
       "        [243.],\n",
       "        [202.],\n",
       "        [  0.]],\n",
       "\n",
       "       [[  0.],\n",
       "        [  0.],\n",
       "        [  0.],\n",
       "        [  0.],\n",
       "        [  0.],\n",
       "        [  0.],\n",
       "        [  0.],\n",
       "        [  0.],\n",
       "        [  0.],\n",
       "        [  1.],\n",
       "        [  3.],\n",
       "        [  0.],\n",
       "        [ 12.],\n",
       "        [219.],\n",
       "        [220.],\n",
       "        [211.],\n",
       "        [218.],\n",
       "        [192.],\n",
       "        [169.],\n",
       "        [227.],\n",
       "        [208.],\n",
       "        [218.],\n",
       "        [224.],\n",
       "        [211.],\n",
       "        [226.],\n",
       "        [197.],\n",
       "        [209.],\n",
       "        [ 52.]],\n",
       "\n",
       "       [[  0.],\n",
       "        [  0.],\n",
       "        [  0.],\n",
       "        [  0.],\n",
       "        [  0.],\n",
       "        [  0.],\n",
       "        [  0.],\n",
       "        [  0.],\n",
       "        [  0.],\n",
       "        [  0.],\n",
       "        [  6.],\n",
       "        [  0.],\n",
       "        [ 99.],\n",
       "        [243.],\n",
       "        [222.],\n",
       "        [220.],\n",
       "        [218.],\n",
       "        [203.],\n",
       "        [198.],\n",
       "        [221.],\n",
       "        [215.],\n",
       "        [213.],\n",
       "        [222.],\n",
       "        [220.],\n",
       "        [245.],\n",
       "        [119.],\n",
       "        [167.],\n",
       "        [ 56.]],\n",
       "\n",
       "       [[  0.],\n",
       "        [  0.],\n",
       "        [  0.],\n",
       "        [  0.],\n",
       "        [  0.],\n",
       "        [  0.],\n",
       "        [  0.],\n",
       "        [  0.],\n",
       "        [  0.],\n",
       "        [  4.],\n",
       "        [  0.],\n",
       "        [  0.],\n",
       "        [ 55.],\n",
       "        [236.],\n",
       "        [227.],\n",
       "        [230.],\n",
       "        [227.],\n",
       "        [240.],\n",
       "        [232.],\n",
       "        [213.],\n",
       "        [218.],\n",
       "        [223.],\n",
       "        [234.],\n",
       "        [217.],\n",
       "        [217.],\n",
       "        [209.],\n",
       "        [ 92.],\n",
       "        [  0.]],\n",
       "\n",
       "       [[  0.],\n",
       "        [  0.],\n",
       "        [  1.],\n",
       "        [  4.],\n",
       "        [  6.],\n",
       "        [  7.],\n",
       "        [  2.],\n",
       "        [  0.],\n",
       "        [  0.],\n",
       "        [  0.],\n",
       "        [  0.],\n",
       "        [  0.],\n",
       "        [237.],\n",
       "        [226.],\n",
       "        [217.],\n",
       "        [223.],\n",
       "        [222.],\n",
       "        [219.],\n",
       "        [222.],\n",
       "        [221.],\n",
       "        [216.],\n",
       "        [223.],\n",
       "        [229.],\n",
       "        [215.],\n",
       "        [218.],\n",
       "        [255.],\n",
       "        [ 77.],\n",
       "        [  0.]],\n",
       "\n",
       "       [[  0.],\n",
       "        [  3.],\n",
       "        [  0.],\n",
       "        [  0.],\n",
       "        [  0.],\n",
       "        [  0.],\n",
       "        [  0.],\n",
       "        [  0.],\n",
       "        [  0.],\n",
       "        [ 62.],\n",
       "        [145.],\n",
       "        [204.],\n",
       "        [227.],\n",
       "        [207.],\n",
       "        [213.],\n",
       "        [221.],\n",
       "        [218.],\n",
       "        [208.],\n",
       "        [211.],\n",
       "        [218.],\n",
       "        [224.],\n",
       "        [223.],\n",
       "        [219.],\n",
       "        [215.],\n",
       "        [224.],\n",
       "        [243.],\n",
       "        [159.],\n",
       "        [  0.]],\n",
       "\n",
       "       [[  0.],\n",
       "        [  0.],\n",
       "        [  0.],\n",
       "        [  0.],\n",
       "        [ 18.],\n",
       "        [ 44.],\n",
       "        [ 81.],\n",
       "        [107.],\n",
       "        [189.],\n",
       "        [227.],\n",
       "        [220.],\n",
       "        [222.],\n",
       "        [217.],\n",
       "        [226.],\n",
       "        [200.],\n",
       "        [205.],\n",
       "        [211.],\n",
       "        [230.],\n",
       "        [224.],\n",
       "        [234.],\n",
       "        [176.],\n",
       "        [188.],\n",
       "        [250.],\n",
       "        [248.],\n",
       "        [233.],\n",
       "        [238.],\n",
       "        [215.],\n",
       "        [  0.]],\n",
       "\n",
       "       [[  0.],\n",
       "        [ 56.],\n",
       "        [187.],\n",
       "        [208.],\n",
       "        [224.],\n",
       "        [221.],\n",
       "        [224.],\n",
       "        [208.],\n",
       "        [204.],\n",
       "        [214.],\n",
       "        [208.],\n",
       "        [209.],\n",
       "        [200.],\n",
       "        [159.],\n",
       "        [245.],\n",
       "        [193.],\n",
       "        [206.],\n",
       "        [223.],\n",
       "        [255.],\n",
       "        [255.],\n",
       "        [221.],\n",
       "        [234.],\n",
       "        [221.],\n",
       "        [211.],\n",
       "        [220.],\n",
       "        [232.],\n",
       "        [246.],\n",
       "        [  0.]],\n",
       "\n",
       "       [[  3.],\n",
       "        [202.],\n",
       "        [227.],\n",
       "        [224.],\n",
       "        [221.],\n",
       "        [211.],\n",
       "        [211.],\n",
       "        [214.],\n",
       "        [205.],\n",
       "        [205.],\n",
       "        [205.],\n",
       "        [220.],\n",
       "        [240.],\n",
       "        [ 80.],\n",
       "        [150.],\n",
       "        [255.],\n",
       "        [229.],\n",
       "        [221.],\n",
       "        [188.],\n",
       "        [154.],\n",
       "        [191.],\n",
       "        [210.],\n",
       "        [204.],\n",
       "        [209.],\n",
       "        [222.],\n",
       "        [227.],\n",
       "        [225.],\n",
       "        [  0.]],\n",
       "\n",
       "       [[ 97.],\n",
       "        [233.],\n",
       "        [198.],\n",
       "        [210.],\n",
       "        [222.],\n",
       "        [229.],\n",
       "        [229.],\n",
       "        [234.],\n",
       "        [249.],\n",
       "        [220.],\n",
       "        [194.],\n",
       "        [215.],\n",
       "        [217.],\n",
       "        [241.],\n",
       "        [ 65.],\n",
       "        [ 73.],\n",
       "        [105.],\n",
       "        [117.],\n",
       "        [168.],\n",
       "        [219.],\n",
       "        [221.],\n",
       "        [215.],\n",
       "        [217.],\n",
       "        [223.],\n",
       "        [223.],\n",
       "        [224.],\n",
       "        [229.],\n",
       "        [ 29.]],\n",
       "\n",
       "       [[ 75.],\n",
       "        [204.],\n",
       "        [211.],\n",
       "        [204.],\n",
       "        [193.],\n",
       "        [205.],\n",
       "        [211.],\n",
       "        [225.],\n",
       "        [216.],\n",
       "        [185.],\n",
       "        [197.],\n",
       "        [206.],\n",
       "        [198.],\n",
       "        [213.],\n",
       "        [240.],\n",
       "        [195.],\n",
       "        [227.],\n",
       "        [245.],\n",
       "        [239.],\n",
       "        [223.],\n",
       "        [218.],\n",
       "        [211.],\n",
       "        [209.],\n",
       "        [222.],\n",
       "        [220.],\n",
       "        [221.],\n",
       "        [230.],\n",
       "        [ 67.]],\n",
       "\n",
       "       [[ 48.],\n",
       "        [203.],\n",
       "        [183.],\n",
       "        [194.],\n",
       "        [213.],\n",
       "        [197.],\n",
       "        [185.],\n",
       "        [190.],\n",
       "        [194.],\n",
       "        [192.],\n",
       "        [202.],\n",
       "        [214.],\n",
       "        [219.],\n",
       "        [221.],\n",
       "        [220.],\n",
       "        [236.],\n",
       "        [225.],\n",
       "        [216.],\n",
       "        [199.],\n",
       "        [206.],\n",
       "        [186.],\n",
       "        [181.],\n",
       "        [177.],\n",
       "        [172.],\n",
       "        [181.],\n",
       "        [205.],\n",
       "        [206.],\n",
       "        [115.]],\n",
       "\n",
       "       [[  0.],\n",
       "        [121.],\n",
       "        [219.],\n",
       "        [193.],\n",
       "        [179.],\n",
       "        [171.],\n",
       "        [183.],\n",
       "        [195.],\n",
       "        [204.],\n",
       "        [210.],\n",
       "        [213.],\n",
       "        [207.],\n",
       "        [211.],\n",
       "        [210.],\n",
       "        [200.],\n",
       "        [195.],\n",
       "        [194.],\n",
       "        [191.],\n",
       "        [195.],\n",
       "        [191.],\n",
       "        [198.],\n",
       "        [192.],\n",
       "        [176.],\n",
       "        [156.],\n",
       "        [167.],\n",
       "        [177.],\n",
       "        [210.],\n",
       "        [ 92.]],\n",
       "\n",
       "       [[  0.],\n",
       "        [  0.],\n",
       "        [ 73.],\n",
       "        [189.],\n",
       "        [211.],\n",
       "        [191.],\n",
       "        [175.],\n",
       "        [172.],\n",
       "        [175.],\n",
       "        [181.],\n",
       "        [185.],\n",
       "        [188.],\n",
       "        [189.],\n",
       "        [188.],\n",
       "        [193.],\n",
       "        [198.],\n",
       "        [204.],\n",
       "        [209.],\n",
       "        [210.],\n",
       "        [210.],\n",
       "        [211.],\n",
       "        [188.],\n",
       "        [188.],\n",
       "        [194.],\n",
       "        [192.],\n",
       "        [216.],\n",
       "        [170.],\n",
       "        [  0.]],\n",
       "\n",
       "       [[  2.],\n",
       "        [  0.],\n",
       "        [  0.],\n",
       "        [  0.],\n",
       "        [ 65.],\n",
       "        [200.],\n",
       "        [222.],\n",
       "        [237.],\n",
       "        [239.],\n",
       "        [242.],\n",
       "        [246.],\n",
       "        [243.],\n",
       "        [243.],\n",
       "        [221.],\n",
       "        [220.],\n",
       "        [193.],\n",
       "        [191.],\n",
       "        [179.],\n",
       "        [182.],\n",
       "        [182.],\n",
       "        [181.],\n",
       "        [176.],\n",
       "        [166.],\n",
       "        [168.],\n",
       "        [ 99.],\n",
       "        [ 58.],\n",
       "        [  0.],\n",
       "        [  0.]],\n",
       "\n",
       "       [[  0.],\n",
       "        [  0.],\n",
       "        [  0.],\n",
       "        [  0.],\n",
       "        [  0.],\n",
       "        [  0.],\n",
       "        [  0.],\n",
       "        [ 40.],\n",
       "        [ 60.],\n",
       "        [ 44.],\n",
       "        [ 72.],\n",
       "        [ 40.],\n",
       "        [ 35.],\n",
       "        [  0.],\n",
       "        [  0.],\n",
       "        [  0.],\n",
       "        [  0.],\n",
       "        [  0.],\n",
       "        [  0.],\n",
       "        [  0.],\n",
       "        [  0.],\n",
       "        [  0.],\n",
       "        [  0.],\n",
       "        [  0.],\n",
       "        [  0.],\n",
       "        [  0.],\n",
       "        [  0.],\n",
       "        [  0.]],\n",
       "\n",
       "       [[  0.],\n",
       "        [  0.],\n",
       "        [  0.],\n",
       "        [  0.],\n",
       "        [  0.],\n",
       "        [  0.],\n",
       "        [  0.],\n",
       "        [  0.],\n",
       "        [  0.],\n",
       "        [  0.],\n",
       "        [  0.],\n",
       "        [  0.],\n",
       "        [  0.],\n",
       "        [  0.],\n",
       "        [  0.],\n",
       "        [  0.],\n",
       "        [  0.],\n",
       "        [  0.],\n",
       "        [  0.],\n",
       "        [  0.],\n",
       "        [  0.],\n",
       "        [  0.],\n",
       "        [  0.],\n",
       "        [  0.],\n",
       "        [  0.],\n",
       "        [  0.],\n",
       "        [  0.],\n",
       "        [  0.]],\n",
       "\n",
       "       [[  0.],\n",
       "        [  0.],\n",
       "        [  0.],\n",
       "        [  0.],\n",
       "        [  0.],\n",
       "        [  0.],\n",
       "        [  0.],\n",
       "        [  0.],\n",
       "        [  0.],\n",
       "        [  0.],\n",
       "        [  0.],\n",
       "        [  0.],\n",
       "        [  0.],\n",
       "        [  0.],\n",
       "        [  0.],\n",
       "        [  0.],\n",
       "        [  0.],\n",
       "        [  0.],\n",
       "        [  0.],\n",
       "        [  0.],\n",
       "        [  0.],\n",
       "        [  0.],\n",
       "        [  0.],\n",
       "        [  0.],\n",
       "        [  0.],\n",
       "        [  0.],\n",
       "        [  0.],\n",
       "        [  0.]]], dtype=float32)"
      ]
     },
     "execution_count": 20,
     "metadata": {},
     "output_type": "execute_result"
    }
   ],
   "source": [
    "np.array(img_arr)"
   ]
  },
  {
   "cell_type": "code",
   "execution_count": 26,
   "id": "0bd3cdc0",
   "metadata": {},
   "outputs": [],
   "source": [
    "train_images = []\n",
    "for i in range(1,len(train)-30000):\n",
    "    img = image.load_img('train/' + str(i) + '.png',grayscale=True,target_size=(28,28,1))\n",
    "    img_arr = image.img_to_array(img)\n",
    "    train_images.append(img_arr)\n",
    "X = np.array(train_images)"
   ]
  },
  {
   "cell_type": "code",
   "execution_count": 27,
   "id": "2dc06d49",
   "metadata": {},
   "outputs": [
    {
     "data": {
      "text/plain": [
       "(29999, 28, 28, 1)"
      ]
     },
     "execution_count": 27,
     "metadata": {},
     "output_type": "execute_result"
    }
   ],
   "source": [
    "X.shape"
   ]
  },
  {
   "cell_type": "code",
   "execution_count": 28,
   "id": "8c7dda9e",
   "metadata": {},
   "outputs": [
    {
     "data": {
      "text/plain": [
       "array([9, 0, 0, ..., 3, 0, 5], dtype=int64)"
      ]
     },
     "execution_count": 28,
     "metadata": {},
     "output_type": "execute_result"
    }
   ],
   "source": [
    "train.label.values"
   ]
  },
  {
   "cell_type": "code",
   "execution_count": 29,
   "id": "0b002dda",
   "metadata": {},
   "outputs": [],
   "source": [
    "y=train.label.values"
   ]
  },
  {
   "cell_type": "code",
   "execution_count": 30,
   "id": "b0bc0b06",
   "metadata": {},
   "outputs": [],
   "source": [
    "y=y[0:29999]"
   ]
  },
  {
   "cell_type": "code",
   "execution_count": 33,
   "id": "9ebe6e94",
   "metadata": {},
   "outputs": [
    {
     "data": {
      "text/plain": [
       "3"
      ]
     },
     "execution_count": 33,
     "metadata": {},
     "output_type": "execute_result"
    }
   ],
   "source": [
    "y[20]"
   ]
  },
  {
   "cell_type": "code",
   "execution_count": 34,
   "id": "48463ed9",
   "metadata": {},
   "outputs": [],
   "source": [
    "y=to_categorical(y)"
   ]
  },
  {
   "cell_type": "code",
   "execution_count": 35,
   "id": "2de9a945",
   "metadata": {},
   "outputs": [
    {
     "data": {
      "text/plain": [
       "array([0., 0., 0., 1., 0., 0., 0., 0., 0., 0.], dtype=float32)"
      ]
     },
     "execution_count": 35,
     "metadata": {},
     "output_type": "execute_result"
    }
   ],
   "source": [
    "y[20]"
   ]
  },
  {
   "cell_type": "code",
   "execution_count": 36,
   "id": "f516ad03",
   "metadata": {},
   "outputs": [],
   "source": [
    "x_train, x_test, y_train, y_test = train_test_split(X, y, test_size=0.2, random_state=29)"
   ]
  },
  {
   "cell_type": "code",
   "execution_count": 37,
   "id": "445eb03f",
   "metadata": {},
   "outputs": [
    {
     "data": {
      "text/plain": [
       "((23999, 28, 28, 1), (6000, 28, 28, 1))"
      ]
     },
     "execution_count": 37,
     "metadata": {},
     "output_type": "execute_result"
    }
   ],
   "source": [
    "x_train.shape, x_test.shape"
   ]
  },
  {
   "cell_type": "code",
   "execution_count": 40,
   "id": "6148af76",
   "metadata": {},
   "outputs": [
    {
     "data": {
      "text/plain": [
       "((23999, 10), (6000, 10))"
      ]
     },
     "execution_count": 40,
     "metadata": {},
     "output_type": "execute_result"
    }
   ],
   "source": [
    "y_train.shape, y_test.shape"
   ]
  },
  {
   "cell_type": "code",
   "execution_count": 41,
   "id": "349227b0",
   "metadata": {},
   "outputs": [
    {
     "data": {
      "image/png": "[encoded data removed]",
      "text/plain": [
       "<Figure size 432x288 with 1 Axes>"
      ]
     },
     "metadata": {
      "needs_background": "light"
     },
     "output_type": "display_data"
    },
    {
     "data": {
      "image/png": "[encoded data removed]",
      "text/plain": [
       "<Figure size 432x288 with 1 Axes>"
      ]
     },
     "metadata": {
      "needs_background": "light"
     },
     "output_type": "display_data"
    },
    {
     "data": {
      "image/png": "[encoded data removed]",
      "text/plain": [
       "<Figure size 432x288 with 1 Axes>"
      ]
     },
     "metadata": {
      "needs_background": "light"
     },
     "output_type": "display_data"
    },
    {
     "data": {
      "image/png": "[encoded data removed]",
      "text/plain": [
       "<Figure size 432x288 with 1 Axes>"
      ]
     },
     "metadata": {
      "needs_background": "light"
     },
     "output_type": "display_data"
    },
    {
     "data": {
      "image/png": "[encoded data removed]",
      "text/plain": [
       "<Figure size 432x288 with 1 Axes>"
      ]
     },
     "metadata": {
      "needs_background": "light"
     },
     "output_type": "display_data"
    },
    {
     "data": {
      "image/png": "[encoded data removed]",
      "text/plain": [
       "<Figure size 432x288 with 1 Axes>"
      ]
     },
     "metadata": {
      "needs_background": "light"
     },
     "output_type": "display_data"
    },
    {
     "data": {
      "image/png": "[encoded data removed]",
      "text/plain": [
       "<Figure size 432x288 with 1 Axes>"
      ]
     },
     "metadata": {
      "needs_background": "light"
     },
     "output_type": "display_data"
    },
    {
     "data": {
      "image/png": "[encoded data removed]",
      "text/plain": [
       "<Figure size 432x288 with 1 Axes>"
      ]
     },
     "metadata": {
      "needs_background": "light"
     },
     "output_type": "display_data"
    },
    {
     "data": {
      "image/png": "[encoded data removed]",
      "text/plain": [
       "<Figure size 432x288 with 1 Axes>"
      ]
     },
     "metadata": {
      "needs_background": "light"
     },
     "output_type": "display_data"
    },
    {
     "data": {
      "image/png": "[encoded data removed]",
      "text/plain": [
       "<Figure size 432x288 with 1 Axes>"
      ]
     },
     "metadata": {
      "needs_background": "light"
     },
     "output_type": "display_data"
    }
   ],
   "source": [
    "from matplotlib import pyplot as plt\n",
    "for i in range(10):\n",
    "    plt.imshow(x_train[i], interpolation='nearest')\n",
    "    plt.show()"
   ]
  },
  {
   "cell_type": "code",
   "execution_count": 42,
   "id": "43c4b522",
   "metadata": {},
   "outputs": [],
   "source": [
    "from keras.layers import Conv2D,Dense,MaxPooling2D,Flatten"
   ]
  },
  {
   "cell_type": "code",
   "execution_count": 44,
   "id": "2e7a6437",
   "metadata": {},
   "outputs": [
    {
     "data": {
      "text/plain": [
       "((23999, 28, 28, 1), (23999, 10))"
      ]
     },
     "execution_count": 44,
     "metadata": {},
     "output_type": "execute_result"
    }
   ],
   "source": [
    "x_train.shape, y_train.shape"
   ]
  },
  {
   "cell_type": "code",
   "execution_count": 45,
   "id": "ae714a75",
   "metadata": {},
   "outputs": [],
   "source": [
    "model = Sequential()"
   ]
  },
  {
   "cell_type": "code",
   "execution_count": 46,
   "id": "4bac848a",
   "metadata": {},
   "outputs": [],
   "source": [
    "model.add(Conv2D(input_shape=(28,28,1),filters=16, kernel_size=(3,3),strides=(2,2),padding='valid',activation='relu',kernel_initializer='he_normal'))\n",
    "model.add(MaxPooling2D(pool_size=(2,2)))\n",
    "model.add(Flatten())\n",
    "model.add(Dense(10, kernel_initializer='he_normal',activation='elu'))\n",
    "model.add(BatchNormalization())\n",
    "model.add(Dense(10,kernel_initializer='he_normal',activation='softmax'))\n",
    "model.compile(loss='categorical_crossentropy', optimizer='adam', metrics=['categorical_accuracy'])"
   ]
  },
  {
   "cell_type": "code",
   "execution_count": 47,
   "id": "9cc5b8ee",
   "metadata": {},
   "outputs": [
    {
     "name": "stdout",
     "output_type": "stream",
     "text": [
      "Model: \"sequential\"\n",
      "_________________________________________________________________\n",
      " Layer (type)                Output Shape              Param #   \n",
      "=================================================================\n",
      " conv2d (Conv2D)             (None, 13, 13, 16)        160       \n",
      "                                                                 \n",
      " max_pooling2d (MaxPooling2D  (None, 6, 6, 16)         0         \n",
      " )                                                               \n",
      "                                                                 \n",
      " flatten (Flatten)           (None, 576)               0         \n",
      "                                                                 \n",
      " dense (Dense)               (None, 10)                5770      \n",
      "                                                                 \n",
      " batch_normalization (BatchN  (None, 10)               40        \n",
      " ormalization)                                                   \n",
      "                                                                 \n",
      " dense_1 (Dense)             (None, 10)                110       \n",
      "                                                                 \n",
      "=================================================================\n",
      "Total params: 6,080\n",
      "Trainable params: 6,060\n",
      "Non-trainable params: 20\n",
      "_________________________________________________________________\n"
     ]
    }
   ],
   "source": [
    "model.summary()"
   ]
  },
  {
   "cell_type": "code",
   "execution_count": 48,
   "id": "1f183379",
   "metadata": {},
   "outputs": [
    {
     "name": "stdout",
     "output_type": "stream",
     "text": [
      "Epoch 1/10\n",
      "1680/1680 - 7s - loss: 0.8861 - categorical_accuracy: 0.7139 - val_loss: 0.5566 - val_categorical_accuracy: 0.8106 - 7s/epoch - 4ms/step\n",
      "Epoch 2/10\n",
      "1680/1680 - 6s - loss: 0.5829 - categorical_accuracy: 0.8051 - val_loss: 0.5366 - val_categorical_accuracy: 0.8146 - 6s/epoch - 4ms/step\n",
      "Epoch 3/10\n",
      "1680/1680 - 6s - loss: 0.5306 - categorical_accuracy: 0.8158 - val_loss: 0.4555 - val_categorical_accuracy: 0.8388 - 6s/epoch - 4ms/step\n",
      "Epoch 4/10\n",
      "1680/1680 - 6s - loss: 0.4956 - categorical_accuracy: 0.8308 - val_loss: 0.4412 - val_categorical_accuracy: 0.8447 - 6s/epoch - 4ms/step\n",
      "Epoch 5/10\n",
      "1680/1680 - 6s - loss: 0.4747 - categorical_accuracy: 0.8368 - val_loss: 0.4600 - val_categorical_accuracy: 0.8417 - 6s/epoch - 4ms/step\n",
      "Epoch 6/10\n",
      "1680/1680 - 6s - loss: 0.4591 - categorical_accuracy: 0.8430 - val_loss: 0.4518 - val_categorical_accuracy: 0.8403 - 6s/epoch - 4ms/step\n",
      "Epoch 7/10\n",
      "1680/1680 - 6s - loss: 0.4502 - categorical_accuracy: 0.8452 - val_loss: 0.4489 - val_categorical_accuracy: 0.8481 - 6s/epoch - 4ms/step\n",
      "Epoch 8/10\n",
      "1680/1680 - 6s - loss: 0.4377 - categorical_accuracy: 0.8470 - val_loss: 0.4802 - val_categorical_accuracy: 0.8324 - 6s/epoch - 4ms/step\n",
      "Epoch 9/10\n",
      "1680/1680 - 6s - loss: 0.4294 - categorical_accuracy: 0.8537 - val_loss: 0.4616 - val_categorical_accuracy: 0.8426 - 6s/epoch - 4ms/step\n",
      "Epoch 10/10\n",
      "1680/1680 - 6s - loss: 0.4187 - categorical_accuracy: 0.8567 - val_loss: 0.4573 - val_categorical_accuracy: 0.8419 - 6s/epoch - 4ms/step\n"
     ]
    }
   ],
   "source": [
    "history = model.fit(x_train, y_train, validation_split = 0.3, epochs=10, batch_size = 10, verbose=2)"
   ]
  },
  {
   "cell_type": "code",
   "execution_count": 49,
   "id": "9e655a24",
   "metadata": {},
   "outputs": [
    {
     "name": "stdout",
     "output_type": "stream",
     "text": [
      "750/750 [==============================] - 2s 3ms/step - loss: 0.3846 - categorical_accuracy: 0.8626\n"
     ]
    },
    {
     "data": {
      "text/plain": [
       "[0.3845807611942291, 0.8625776171684265]"
      ]
     },
     "execution_count": 49,
     "metadata": {},
     "output_type": "execute_result"
    }
   ],
   "source": [
    "model.evaluate(x_train, y_train)"
   ]
  },
  {
   "cell_type": "code",
   "execution_count": 50,
   "id": "8892ccc2",
   "metadata": {},
   "outputs": [
    {
     "name": "stdout",
     "output_type": "stream",
     "text": [
      "188/188 [==============================] - 0s 2ms/step - loss: 0.4445 - categorical_accuracy: 0.8457\n"
     ]
    },
    {
     "data": {
      "text/plain": [
       "[0.4445030391216278, 0.8456666469573975]"
      ]
     },
     "execution_count": 50,
     "metadata": {},
     "output_type": "execute_result"
    }
   ],
   "source": [
    "model.evaluate(x_test, y_test)"
   ]
  },
  {
   "cell_type": "code",
   "execution_count": 58,
   "id": "389ff343",
   "metadata": {},
   "outputs": [
    {
     "data": {
      "text/plain": [
       "<matplotlib.legend.Legend at 0x2c444382070>"
      ]
     },
     "execution_count": 58,
     "metadata": {},
     "output_type": "execute_result"
    },
    {
     "data": {
      "image/png": "[encoded data removed]",
      "text/plain": [
       "<Figure size 432x288 with 1 Axes>"
      ]
     },
     "metadata": {
      "needs_background": "light"
     },
     "output_type": "display_data"
    }
   ],
   "source": [
    "import matplotlib.pyplot as plt\n",
    "\n",
    "plt.plot(history.history['categorical_accuracy'])\n",
    "plt.plot(history.history['val_categorical_accuracy'])\n",
    "plt.legend(['categorical_accuracy','val_categorical_accuracy'])"
   ]
  },
  {
   "cell_type": "code",
   "execution_count": 74,
   "id": "f41ccd82",
   "metadata": {},
   "outputs": [],
   "source": [
    "Test = pd.read_csv(\"test.csv\")"
   ]
  },
  {
   "cell_type": "code",
   "execution_count": null,
   "id": "008ba85b",
   "metadata": {},
   "outputs": [],
   "source": []
  },
  {
   "cell_type": "code",
   "execution_count": 75,
   "id": "739e1974",
   "metadata": {},
   "outputs": [
    {
     "data": {
      "text/html": [
       "<div>\n",
       "<style scoped>\n",
       "    .dataframe tbody tr th:only-of-type {\n",
       "        vertical-align: middle;\n",
       "    }\n",
       "\n",
       "    .dataframe tbody tr th {\n",
       "        vertical-align: top;\n",
       "    }\n",
       "\n",
       "    .dataframe thead th {\n",
       "        text-align: right;\n",
       "    }\n",
       "</style>\n",
       "<table border=\"1\" class=\"dataframe\">\n",
       "  <thead>\n",
       "    <tr style=\"text-align: right;\">\n",
       "      <th></th>\n",
       "      <th>id</th>\n",
       "    </tr>\n",
       "  </thead>\n",
       "  <tbody>\n",
       "    <tr>\n",
       "      <th>0</th>\n",
       "      <td>60001</td>\n",
       "    </tr>\n",
       "    <tr>\n",
       "      <th>1</th>\n",
       "      <td>60002</td>\n",
       "    </tr>\n",
       "    <tr>\n",
       "      <th>2</th>\n",
       "      <td>60003</td>\n",
       "    </tr>\n",
       "    <tr>\n",
       "      <th>3</th>\n",
       "      <td>60004</td>\n",
       "    </tr>\n",
       "    <tr>\n",
       "      <th>4</th>\n",
       "      <td>60005</td>\n",
       "    </tr>\n",
       "    <tr>\n",
       "      <th>...</th>\n",
       "      <td>...</td>\n",
       "    </tr>\n",
       "    <tr>\n",
       "      <th>9995</th>\n",
       "      <td>69996</td>\n",
       "    </tr>\n",
       "    <tr>\n",
       "      <th>9996</th>\n",
       "      <td>69997</td>\n",
       "    </tr>\n",
       "    <tr>\n",
       "      <th>9997</th>\n",
       "      <td>69998</td>\n",
       "    </tr>\n",
       "    <tr>\n",
       "      <th>9998</th>\n",
       "      <td>69999</td>\n",
       "    </tr>\n",
       "    <tr>\n",
       "      <th>9999</th>\n",
       "      <td>70000</td>\n",
       "    </tr>\n",
       "  </tbody>\n",
       "</table>\n",
       "<p>10000 rows × 1 columns</p>\n",
       "</div>"
      ],
      "text/plain": [
       "         id\n",
       "0     60001\n",
       "1     60002\n",
       "2     60003\n",
       "3     60004\n",
       "4     60005\n",
       "...     ...\n",
       "9995  69996\n",
       "9996  69997\n",
       "9997  69998\n",
       "9998  69999\n",
       "9999  70000\n",
       "\n",
       "[10000 rows x 1 columns]"
      ]
     },
     "execution_count": 75,
     "metadata": {},
     "output_type": "execute_result"
    }
   ],
   "source": [
    "Test"
   ]
  },
  {
   "cell_type": "code",
   "execution_count": 76,
   "id": "2198fc75",
   "metadata": {},
   "outputs": [
    {
     "data": {
      "text/plain": [
       "(10000, 1)"
      ]
     },
     "execution_count": 76,
     "metadata": {},
     "output_type": "execute_result"
    }
   ],
   "source": [
    "Test.shape"
   ]
  },
  {
   "cell_type": "code",
   "execution_count": 77,
   "id": "de614fc0",
   "metadata": {},
   "outputs": [
    {
     "name": "stderr",
     "output_type": "stream",
     "text": [
      "C:\\Users\\Guhan Ramachandran\\anaconda3\\lib\\site-packages\\keras\\utils\\image_utils.py:409: UserWarning: grayscale is deprecated. Please use color_mode = \"grayscale\"\n",
      "  warnings.warn(\n"
     ]
    }
   ],
   "source": [
    "test_images = []\n",
    "for i in range(60001,60001+len(Test)):\n",
    "    img = image.load_img('test/' + str(i) + '.png',grayscale=True,target_size=(28,28,1))\n",
    "    img_arr = image.img_to_array(img)\n",
    "    test_images.append(img_arr)\n",
    "test = np.array(test_images)"
   ]
  },
  {
   "cell_type": "code",
   "execution_count": 81,
   "id": "7ed227d1",
   "metadata": {},
   "outputs": [
    {
     "data": {
      "text/plain": [
       "(10000, 28, 28, 1)"
      ]
     },
     "execution_count": 81,
     "metadata": {},
     "output_type": "execute_result"
    }
   ],
   "source": [
    "test.shape"
   ]
  },
  {
   "cell_type": "code",
   "execution_count": 82,
   "id": "a54b0503",
   "metadata": {},
   "outputs": [
    {
     "ename": "AttributeError",
     "evalue": "'Sequential' object has no attribute 'predict_classes'",
     "output_type": "error",
     "traceback": [
      "\u001b[1;31m---------------------------------------------------------------------------\u001b[0m",
      "\u001b[1;31mAttributeError\u001b[0m                            Traceback (most recent call last)",
      "\u001b[1;32mC:\\Users\\GUHANR~1\\AppData\\Local\\Temp/ipykernel_7944/4281940206.py\u001b[0m in \u001b[0;36m<module>\u001b[1;34m\u001b[0m\n\u001b[1;32m----> 1\u001b[1;33m \u001b[0mpred\u001b[0m \u001b[1;33m=\u001b[0m \u001b[0mmodel\u001b[0m\u001b[1;33m.\u001b[0m\u001b[0mpredict_classes\u001b[0m\u001b[1;33m(\u001b[0m\u001b[0mtest\u001b[0m\u001b[1;33m)\u001b[0m\u001b[1;33m\u001b[0m\u001b[1;33m\u001b[0m\u001b[0m\n\u001b[0m",
      "\u001b[1;31mAttributeError\u001b[0m: 'Sequential' object has no attribute 'predict_classes'"
     ]
    }
   ],
   "source": [
    "pred = model.predict_classes(test)"
   ]
  },
  {
   "cell_type": "markdown",
   "id": "36b46bc7",
   "metadata": {},
   "source": [
    "This function were removed in TensorFlow version 2.6. According to the keras in rstudio reference\n",
    "\n",
    "update to"
   ]
  },
  {
   "cell_type": "code",
   "execution_count": 83,
   "id": "f4ec8ba8",
   "metadata": {},
   "outputs": [
    {
     "name": "stdout",
     "output_type": "stream",
     "text": [
      "313/313 [==============================] - 1s 2ms/step\n"
     ]
    }
   ],
   "source": [
    "predict_x=model.predict(test) \n",
    "classes_x=np.argmax(predict_x,axis=1)"
   ]
  },
  {
   "cell_type": "code",
   "execution_count": 71,
   "id": "383715f3",
   "metadata": {},
   "outputs": [
    {
     "data": {
      "text/plain": [
       "2"
      ]
     },
     "execution_count": 71,
     "metadata": {},
     "output_type": "execute_result"
    }
   ],
   "source": [
    "classes_x[1]"
   ]
  },
  {
   "cell_type": "code",
   "execution_count": 84,
   "id": "e47266b1",
   "metadata": {},
   "outputs": [],
   "source": [
    "output = pd.DataFrame()\n",
    "output['id'] = Test['id']\n",
    "output['label'] = classes_x"
   ]
  },
  {
   "cell_type": "code",
   "execution_count": 85,
   "id": "1728437f",
   "metadata": {},
   "outputs": [],
   "source": [
    "output.to_csv(\"Apparel_MNIST_result.csv\",header=True,index=False)"
   ]
  },
  {
   "cell_type": "code",
   "execution_count": null,
   "id": "104cbded",
   "metadata": {},
   "outputs": [],
   "source": []
  },
  {
   "cell_type": "code",
   "execution_count": null,
   "id": "29d71196",
   "metadata": {},
   "outputs": [],
   "source": []
  },
  {
   "cell_type": "code",
   "execution_count": null,
   "id": "21f9f066",
   "metadata": {},
   "outputs": [],
   "source": []
  },
  {
   "cell_type": "code",
   "execution_count": null,
   "id": "068091ec",
   "metadata": {},
   "outputs": [],
   "source": []
  },
  {
   "cell_type": "code",
   "execution_count": null,
   "id": "285075a9",
   "metadata": {},
   "outputs": [],
   "source": []
  },
  {
   "cell_type": "code",
   "execution_count": null,
   "id": "3c3efde7",
   "metadata": {},
   "outputs": [],
   "source": []
  },
  {
   "cell_type": "code",
   "execution_count": null,
   "id": "808c073d",
   "metadata": {},
   "outputs": [],
   "source": []
  },
  {
   "cell_type": "code",
   "execution_count": null,
   "id": "11859c8f",
   "metadata": {},
   "outputs": [],
   "source": []
  },
  {
   "cell_type": "code",
   "execution_count": null,
   "id": "de6b108e",
   "metadata": {},
   "outputs": [],
   "source": []
  },
  {
   "cell_type": "code",
   "execution_count": null,
   "id": "80d683ad",
   "metadata": {},
   "outputs": [],
   "source": []
  },
  {
   "cell_type": "code",
   "execution_count": null,
   "id": "9c9a8758",
   "metadata": {},
   "outputs": [],
   "source": []
  },
  {
   "cell_type": "code",
   "execution_count": null,
   "id": "2681a000",
   "metadata": {},
   "outputs": [],
   "source": []
  },
  {
   "cell_type": "code",
   "execution_count": null,
   "id": "c114c8d2",
   "metadata": {},
   "outputs": [],
   "source": []
  },
  {
   "cell_type": "code",
   "execution_count": null,
   "id": "970937d4",
   "metadata": {},
   "outputs": [],
   "source": []
  },
  {
   "cell_type": "code",
   "execution_count": null,
   "id": "3f6de43c",
   "metadata": {},
   "outputs": [],
   "source": []
  },
  {
   "cell_type": "code",
   "execution_count": null,
   "id": "373f78ac",
   "metadata": {},
   "outputs": [],
   "source": []
  },
  {
   "cell_type": "code",
   "execution_count": null,
   "id": "b296645f",
   "metadata": {},
   "outputs": [],
   "source": []
  },
  {
   "cell_type": "code",
   "execution_count": null,
   "id": "c46ed519",
   "metadata": {},
   "outputs": [],
   "source": []
  },
  {
   "cell_type": "code",
   "execution_count": null,
   "id": "01fd3b84",
   "metadata": {},
   "outputs": [],
   "source": []
  },
  {
   "cell_type": "code",
   "execution_count": null,
   "id": "14a61c6f",
   "metadata": {},
   "outputs": [],
   "source": []
  },
  {
   "cell_type": "code",
   "execution_count": null,
   "id": "68a108e7",
   "metadata": {},
   "outputs": [],
   "source": []
  },
  {
   "cell_type": "code",
   "execution_count": null,
   "id": "f54198f5",
   "metadata": {},
   "outputs": [],
   "source": []
  },
  {
   "cell_type": "code",
   "execution_count": null,
   "id": "7a439230",
   "metadata": {},
   "outputs": [],
   "source": []
  },
  {
   "cell_type": "code",
   "execution_count": null,
   "id": "a0f0c53e",
   "metadata": {},
   "outputs": [],
   "source": []
  },
  {
   "cell_type": "code",
   "execution_count": null,
   "id": "ee00ed0d",
   "metadata": {},
   "outputs": [],
   "source": []
  },
  {
   "cell_type": "code",
   "execution_count": null,
   "id": "cf1b90a5",
   "metadata": {},
   "outputs": [],
   "source": []
  },
  {
   "cell_type": "code",
   "execution_count": null,
   "id": "d357ec96",
   "metadata": {},
   "outputs": [],
   "source": []
  },
  {
   "cell_type": "code",
   "execution_count": null,
   "id": "4731a9e9",
   "metadata": {},
   "outputs": [],
   "source": []
  },
  {
   "cell_type": "code",
   "execution_count": null,
   "id": "9bd05895",
   "metadata": {},
   "outputs": [],
   "source": []
  },
  {
   "cell_type": "code",
   "execution_count": null,
   "id": "f1ed039c",
   "metadata": {},
   "outputs": [],
   "source": []
  },
  {
   "cell_type": "code",
   "execution_count": null,
   "id": "635348a1",
   "metadata": {},
   "outputs": [],
   "source": []
  },
  {
   "cell_type": "code",
   "execution_count": null,
   "id": "0a600853",
   "metadata": {},
   "outputs": [],
   "source": []
  },
  {
   "cell_type": "code",
   "execution_count": null,
   "id": "3628b2ec",
   "metadata": {},
   "outputs": [],
   "source": []
  },
  {
   "cell_type": "code",
   "execution_count": null,
   "id": "995a4385",
   "metadata": {},
   "outputs": [],
   "source": []
  },
  {
   "cell_type": "code",
   "execution_count": null,
   "id": "e2b87906",
   "metadata": {},
   "outputs": [],
   "source": []
  },
  {
   "cell_type": "code",
   "execution_count": null,
   "id": "ad003fec",
   "metadata": {},
   "outputs": [],
   "source": []
  }
 ],
 "metadata": {
  "kernelspec": {
   "display_name": "Python 3 (ipykernel)",
   "language": "python",
   "name": "python3"
  },
  "language_info": {
   "codemirror_mode": {
    "name": "ipython",
    "version": 3
   },
   "file_extension": ".py",
   "mimetype": "text/x-python",
   "name": "python",
   "nbconvert_exporter": "python",
   "pygments_lexer": "ipython3",
   "version": "3.9.7"
  }
 },
 "nbformat": 4,
 "nbformat_minor": 5
}

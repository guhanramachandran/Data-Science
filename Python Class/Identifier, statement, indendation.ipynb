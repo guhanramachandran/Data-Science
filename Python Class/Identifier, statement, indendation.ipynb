{
 "cells": [
  {
   "cell_type": "code",
   "execution_count": null,
   "id": "a194e43e",
   "metadata": {},
   "outputs": [],
   "source": [
    "# python is  case sensitive"
   ]
  },
  {
   "cell_type": "markdown",
   "id": "bc2b2319",
   "metadata": {},
   "source": [
    "## Identifier"
   ]
  },
  {
   "cell_type": "code",
   "execution_count": 20,
   "id": "50b96fe0",
   "metadata": {},
   "outputs": [
    {
     "name": "stdout",
     "output_type": "stream",
     "text": [
      "First variable\n"
     ]
    }
   ],
   "source": [
    "variable_name =\"First variable\"\n",
    "print(variable_name)"
   ]
  },
  {
   "cell_type": "code",
   "execution_count": null,
   "id": "15111392",
   "metadata": {},
   "outputs": [],
   "source": [
    "## variable_name is a identifier\n",
    "## identifier can not start with a number \n",
    "## and it has _ "
   ]
  },
  {
   "cell_type": "markdown",
   "id": "fcfd46be",
   "metadata": {},
   "source": [
    "## Phyton Statement"
   ]
  },
  {
   "cell_type": "code",
   "execution_count": 24,
   "id": "c302623a",
   "metadata": {},
   "outputs": [
    {
     "name": "stdout",
     "output_type": "stream",
     "text": [
      "41\n"
     ]
    }
   ],
   "source": [
    "digit = 1 + 2 +3+\\\n",
    "4+5+6+\\\n",
    "7+8+5\n",
    "\n",
    "print(digit)"
   ]
  },
  {
   "cell_type": "code",
   "execution_count": null,
   "id": "3adc1013",
   "metadata": {},
   "outputs": [],
   "source": [
    "## multiline statement ends with backslash \\"
   ]
  },
  {
   "cell_type": "code",
   "execution_count": 5,
   "id": "42a1a393",
   "metadata": {},
   "outputs": [
    {
     "name": "stdout",
     "output_type": "stream",
     "text": [
      "41\n"
     ]
    }
   ],
   "source": [
    "digit = (1 + 2 +3+\n",
    "4+5+6+\n",
    "7+8+5)\n",
    "\n",
    "print(digit)"
   ]
  },
  {
   "cell_type": "code",
   "execution_count": null,
   "id": "08fe23e0",
   "metadata": {},
   "outputs": [],
   "source": [
    "## else use the (  ) for multi lines "
   ]
  },
  {
   "cell_type": "code",
   "execution_count": 25,
   "id": "2d30559d",
   "metadata": {},
   "outputs": [
    {
     "name": "stdout",
     "output_type": "stream",
     "text": [
      "1 2 3\n"
     ]
    }
   ],
   "source": [
    "a = 1; b = 2; c = 3\n",
    "\n",
    "print(a,b,c)"
   ]
  },
  {
   "cell_type": "code",
   "execution_count": null,
   "id": "f29c16d8",
   "metadata": {},
   "outputs": [],
   "source": [
    "## whwn multiple variables comes in single line \n",
    "## seperate it with colen ; "
   ]
  },
  {
   "cell_type": "markdown",
   "id": "3fc42413",
   "metadata": {},
   "source": [
    "## indendation"
   ]
  },
  {
   "cell_type": "code",
   "execution_count": 26,
   "id": "7defd6fb",
   "metadata": {},
   "outputs": [],
   "source": [
    "## python logic that not work with out a indendation"
   ]
  },
  {
   "cell_type": "code",
   "execution_count": 8,
   "id": "98d43ab8",
   "metadata": {},
   "outputs": [
    {
     "data": {
      "text/plain": [
       "[1, 4, 7, 10, 13]"
      ]
     },
     "execution_count": 8,
     "metadata": {},
     "output_type": "execute_result"
    }
   ],
   "source": [
    "list(range(1,15,3))\n",
    "\n",
    "\n",
    "## for range\n",
    "## 1 is starting \n",
    "## 15 is ending\n",
    "## 3 is optional and this is step size or interval"
   ]
  },
  {
   "cell_type": "code",
   "execution_count": 28,
   "id": "109172d6",
   "metadata": {},
   "outputs": [
    {
     "data": {
      "text/plain": [
       "[1, 2, 3, 4, 5, 6, 7]"
      ]
     },
     "execution_count": 28,
     "metadata": {},
     "output_type": "execute_result"
    }
   ],
   "source": [
    "list(range(1,8))\n",
    "\n",
    "## range start from n (1) and end at 7 (n-1)"
   ]
  },
  {
   "cell_type": "code",
   "execution_count": 30,
   "id": "ce128683",
   "metadata": {},
   "outputs": [
    {
     "name": "stdout",
     "output_type": "stream",
     "text": [
      "1\n",
      "2\n",
      "3\n",
      "4\n",
      "5\n",
      "6\n",
      "7\n"
     ]
    }
   ],
   "source": [
    "for i in range(1,8):\n",
    "    print(i)\n",
    "    \n",
    "    \n",
    "    ## (for) for every single value inside the range\n",
    "    ##  function do something\n"
   ]
  },
  {
   "cell_type": "code",
   "execution_count": 21,
   "id": "e510c327",
   "metadata": {},
   "outputs": [
    {
     "name": "stdout",
     "output_type": "stream",
     "text": [
      "1\n",
      "2\n",
      "3\n",
      "4\n",
      "5\n",
      "i is equals\n"
     ]
    }
   ],
   "source": [
    "for i in range(1,10):\n",
    "    print(i)\n",
    "    if (i==5):\n",
    "        print(\"i is equals\")\n",
    "        break"
   ]
  },
  {
   "cell_type": "code",
   "execution_count": 36,
   "id": "b641f889",
   "metadata": {},
   "outputs": [
    {
     "name": "stdout",
     "output_type": "stream",
     "text": [
      "1\n",
      "2\n",
      "3\n",
      "4\n",
      "5\n",
      "6\n",
      "7\n",
      "8\n",
      "9\n"
     ]
    }
   ],
   "source": [
    "for i in range(1, 10): print(i)"
   ]
  },
  {
   "cell_type": "code",
   "execution_count": 41,
   "id": "d925e71a",
   "metadata": {},
   "outputs": [
    {
     "name": "stdout",
     "output_type": "stream",
     "text": [
      "True\n"
     ]
    }
   ],
   "source": [
    "if True:\n",
    "    print('True')\n",
    "    "
   ]
  }
 ],
 "metadata": {
  "kernelspec": {
   "display_name": "Python 3 (ipykernel)",
   "language": "python",
   "name": "python3"
  },
  "language_info": {
   "codemirror_mode": {
    "name": "ipython",
    "version": 3
   },
   "file_extension": ".py",
   "mimetype": "text/x-python",
   "name": "python",
   "nbconvert_exporter": "python",
   "pygments_lexer": "ipython3",
   "version": "3.9.7"
  }
 },
 "nbformat": 4,
 "nbformat_minor": 5
}

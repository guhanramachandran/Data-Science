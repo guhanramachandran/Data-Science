{
 "cells": [
  {
   "cell_type": "markdown",
   "id": "e693d92a",
   "metadata": {},
   "source": [
    "## Function"
   ]
  },
  {
   "cell_type": "code",
   "execution_count": 45,
   "id": "2cc1db8a",
   "metadata": {},
   "outputs": [],
   "source": [
    "def value(i):\n",
    "    if i>0 :\n",
    "        print (i)\n",
    "    elif i<0:\n",
    "        t= i * -1\n",
    "        print(t)"
   ]
  },
  {
   "cell_type": "code",
   "execution_count": 48,
   "id": "fc3396f5",
   "metadata": {},
   "outputs": [
    {
     "name": "stdout",
     "output_type": "stream",
     "text": [
      "10\n"
     ]
    }
   ],
   "source": [
    "value(-10)"
   ]
  },
  {
   "cell_type": "code",
   "execution_count": 49,
   "id": "7bd70790",
   "metadata": {},
   "outputs": [],
   "source": [
    "def greetings(name):\n",
    "    \"\"\"function to greet someone\"\"\"\n",
    "    print('hello', name, 'how are you')"
   ]
  },
  {
   "cell_type": "code",
   "execution_count": 50,
   "id": "af993204",
   "metadata": {},
   "outputs": [
    {
     "name": "stdout",
     "output_type": "stream",
     "text": [
      "hello guhan how are you\n"
     ]
    }
   ],
   "source": [
    "greetings ('guhan')"
   ]
  },
  {
   "cell_type": "code",
   "execution_count": 51,
   "id": "be33072d",
   "metadata": {},
   "outputs": [
    {
     "name": "stdout",
     "output_type": "stream",
     "text": [
      "function to greet someone\n"
     ]
    }
   ],
   "source": [
    "print(greetings.__doc__)"
   ]
  },
  {
   "cell_type": "code",
   "execution_count": 76,
   "id": "f97b34eb",
   "metadata": {},
   "outputs": [],
   "source": [
    "def absolute1(val):\n",
    "    val1 = abs(val)\n",
    "    return val1\n",
    "    "
   ]
  },
  {
   "cell_type": "code",
   "execution_count": 75,
   "id": "97375136",
   "metadata": {},
   "outputs": [
    {
     "name": "stdout",
     "output_type": "stream",
     "text": [
      "the value is 22\n"
     ]
    }
   ],
   "source": [
    "absolute1(-22)"
   ]
  },
  {
   "cell_type": "code",
   "execution_count": 78,
   "id": "b3c67583",
   "metadata": {},
   "outputs": [
    {
     "name": "stdout",
     "output_type": "stream",
     "text": [
      "5\n"
     ]
    }
   ],
   "source": [
    "print(i)"
   ]
  },
  {
   "cell_type": "code",
   "execution_count": 110,
   "id": "b7c79b67",
   "metadata": {},
   "outputs": [
    {
     "name": "stdout",
     "output_type": "stream",
     "text": [
      "Inside the function  10\n",
      "Outside the function 20\n"
     ]
    }
   ],
   "source": [
    "def func():\n",
    "    a = 10 #local variable\n",
    "    print('Inside the function ', a)\n",
    "    \n",
    "a = 20 #global variable\n",
    "func()\n",
    "\n",
    "print('Outside the function', a)"
   ]
  },
  {
   "cell_type": "markdown",
   "id": "44addedc",
   "metadata": {},
   "source": [
    "## function argument"
   ]
  },
  {
   "cell_type": "markdown",
   "id": "0547e168",
   "metadata": {},
   "source": [
    "### positional argument"
   ]
  },
  {
   "cell_type": "code",
   "execution_count": 87,
   "id": "efdfd4cc",
   "metadata": {},
   "outputs": [],
   "source": [
    "def hi(h1,h2):\n",
    "    \"\"\"Good morning everyone\"\"\"\n",
    "    print (h1, h2, 'everyone')"
   ]
  },
  {
   "cell_type": "code",
   "execution_count": 89,
   "id": "bfb03b13",
   "metadata": {},
   "outputs": [
    {
     "name": "stdout",
     "output_type": "stream",
     "text": [
      "1 2 everyone\n"
     ]
    }
   ],
   "source": [
    "hi(1,2)"
   ]
  },
  {
   "cell_type": "code",
   "execution_count": 92,
   "id": "e79befab",
   "metadata": {},
   "outputs": [
    {
     "name": "stdout",
     "output_type": "stream",
     "text": [
      "Good morning everyone\n"
     ]
    }
   ],
   "source": [
    "print(hi.__doc__)"
   ]
  },
  {
   "cell_type": "markdown",
   "id": "dfd92067",
   "metadata": {},
   "source": [
    "## Default argument\n",
    "    "
   ]
  },
  {
   "cell_type": "code",
   "execution_count": 112,
   "id": "2c44a7ae",
   "metadata": {},
   "outputs": [],
   "source": [
    "def greet(arg1, arg2 = \"Good morning\"):\n",
    "    print(\"Hello\", arg1, arg2)"
   ]
  },
  {
   "cell_type": "code",
   "execution_count": 113,
   "id": "b0229c14",
   "metadata": {},
   "outputs": [
    {
     "name": "stdout",
     "output_type": "stream",
     "text": [
      "Hello hi Good morning\n"
     ]
    }
   ],
   "source": [
    "greet ('hi')"
   ]
  },
  {
   "cell_type": "markdown",
   "id": "e0c275f1",
   "metadata": {},
   "source": [
    "## Keyword Argument"
   ]
  },
  {
   "cell_type": "code",
   "execution_count": 114,
   "id": "fe6d2d18",
   "metadata": {},
   "outputs": [
    {
     "name": "stdout",
     "output_type": "stream",
     "text": [
      "Hello Hi Everyone\n",
      "Hello Hi Everyone\n",
      "Hello Hi Everyone\n"
     ]
    }
   ],
   "source": [
    "greet(arg1 = \"Hi\", arg2 = \"Everyone\")\n",
    "greet(arg2 = \"Everyone\", arg1 = \"Hi\")\n",
    "greet(\"Hi\", arg2=\"Everyone\")"
   ]
  },
  {
   "cell_type": "markdown",
   "id": "1b501a7f",
   "metadata": {},
   "source": [
    "## Recursion"
   ]
  },
  {
   "cell_type": "code",
   "execution_count": 115,
   "id": "db94be46",
   "metadata": {},
   "outputs": [],
   "source": [
    "# factorial of a number\n",
    "# 5!\n",
    "#1! "
   ]
  },
  {
   "cell_type": "code",
   "execution_count": 116,
   "id": "153037a4",
   "metadata": {},
   "outputs": [
    {
     "data": {
      "text/plain": [
       "120"
      ]
     },
     "execution_count": 116,
     "metadata": {},
     "output_type": "execute_result"
    }
   ],
   "source": [
    "5 * 4 * 3 * 2 * 1"
   ]
  },
  {
   "cell_type": "code",
   "execution_count": 117,
   "id": "ef18f7f2",
   "metadata": {},
   "outputs": [
    {
     "name": "stdout",
     "output_type": "stream",
     "text": [
      "Factorial of 5 is 120\n"
     ]
    }
   ],
   "source": [
    "def recursion(x):\n",
    "    if x == 1:\n",
    "        return x\n",
    "    else:\n",
    "        return (x * recursion(x-1))\n",
    "    \n",
    "num = 5\n",
    "print('Factorial of', num, 'is', recursion(num))"
   ]
  },
  {
   "cell_type": "code",
   "execution_count": 118,
   "id": "38198e48",
   "metadata": {},
   "outputs": [
    {
     "data": {
      "text/plain": [
       "120"
      ]
     },
     "execution_count": 118,
     "metadata": {},
     "output_type": "execute_result"
    }
   ],
   "source": [
    "recursion(5)"
   ]
  },
  {
   "cell_type": "code",
   "execution_count": 121,
   "id": "6a6a5eb7",
   "metadata": {},
   "outputs": [
    {
     "name": "stdout",
     "output_type": "stream",
     "text": [
      "the recursion of 16 is  20922789888000\n"
     ]
    }
   ],
   "source": [
    "print ('the recursion of 16 is ', recursion(16))"
   ]
  },
  {
   "cell_type": "markdown",
   "id": "cb20a022",
   "metadata": {},
   "source": [
    "## Lambda - Anonymous Function"
   ]
  },
  {
   "cell_type": "code",
   "execution_count": 122,
   "id": "8f782ee7",
   "metadata": {},
   "outputs": [],
   "source": [
    "a =lambda x,y : x*y\n"
   ]
  },
  {
   "cell_type": "code",
   "execution_count": 123,
   "id": "f8f63867",
   "metadata": {},
   "outputs": [
    {
     "data": {
      "text/plain": [
       "50"
      ]
     },
     "execution_count": 123,
     "metadata": {},
     "output_type": "execute_result"
    }
   ],
   "source": [
    "a(10,5)"
   ]
  },
  {
   "cell_type": "code",
   "execution_count": 139,
   "id": "4fe2a4b5",
   "metadata": {},
   "outputs": [],
   "source": [
    "b = lambda a1,a2 : a1*a2\n"
   ]
  },
  {
   "cell_type": "code",
   "execution_count": 140,
   "id": "28399251",
   "metadata": {},
   "outputs": [
    {
     "data": {
      "text/plain": [
       "10"
      ]
     },
     "execution_count": 140,
     "metadata": {},
     "output_type": "execute_result"
    }
   ],
   "source": [
    "b(5,2)"
   ]
  },
  {
   "cell_type": "markdown",
   "id": "a51ca029",
   "metadata": {},
   "source": [
    "## Filter\n",
    "1. Filter takes in a function and a list of argument/dict\n",
    "2. The function is called with the items in the list, and a new list is returned containing the items for which the functions evaluates to True"
   ]
  },
  {
   "cell_type": "code",
   "execution_count": 127,
   "id": "c4738bcf",
   "metadata": {},
   "outputs": [
    {
     "name": "stdout",
     "output_type": "stream",
     "text": [
      "[0, 1, 2, 3, 4, 5, 6, 7, 8, 9]\n"
     ]
    }
   ],
   "source": [
    "a= list(range(10))\n",
    "print(a)"
   ]
  },
  {
   "cell_type": "code",
   "execution_count": 145,
   "id": "f1213e47",
   "metadata": {},
   "outputs": [
    {
     "name": "stdout",
     "output_type": "stream",
     "text": [
      "Applying the filter operation:  [0, 2, 4, 6, 8]\n"
     ]
    }
   ],
   "source": [
    "fil=list(filter(lambda x:x%2==0, a))\n",
    "print('Applying the filter operation: ', fil)\n"
   ]
  },
  {
   "cell_type": "markdown",
   "id": "ff675e28",
   "metadata": {},
   "source": [
    "## Map"
   ]
  },
  {
   "cell_type": "markdown",
   "id": "6aa492d7",
   "metadata": {},
   "source": [
    "1. Filter takes in a function and a list of argument/dict\n",
    "2. Every items in the list will be returned based on the function that we're performing"
   ]
  },
  {
   "cell_type": "code",
   "execution_count": 148,
   "id": "1425e539",
   "metadata": {},
   "outputs": [
    {
     "name": "stdout",
     "output_type": "stream",
     "text": [
      "[1, 1, 0, 0, 1, 1, 0]\n"
     ]
    }
   ],
   "source": [
    "my_list=[1, 5, 4, 8, 11, 3, 12]\n",
    "\n",
    "new_list=list(map(lambda x: x%2, my_list))\n",
    "\n",
    "print(new_list)"
   ]
  },
  {
   "cell_type": "code",
   "execution_count": 151,
   "id": "6171a47c",
   "metadata": {},
   "outputs": [
    {
     "name": "stdout",
     "output_type": "stream",
     "text": [
      "['G', 'U', 'H', 'A', 'N']\n"
     ]
    }
   ],
   "source": [
    "my_list2=['g', 'u', 'h', 'a', 'n']\n",
    "upper = list(map(lambda x: x.upper(), my_list2))\n",
    "print (upper)"
   ]
  },
  {
   "cell_type": "code",
   "execution_count": 155,
   "id": "05a1832d",
   "metadata": {},
   "outputs": [
    {
     "name": "stdout",
     "output_type": "stream",
     "text": [
      "[20, 30, 40, 50]\n"
     ]
    }
   ],
   "source": [
    "my_dict = {10: 'B', 20: 'A', 30: 'A', 40: 'B', 50: 'A'}  \n",
    "\n",
    "filt1 = list((filter(lambda x : x > 10, my_dict)))\n",
    "print(filt1)"
   ]
  },
  {
   "cell_type": "code",
   "execution_count": 160,
   "id": "98649846",
   "metadata": {},
   "outputs": [
    {
     "ename": "TypeError",
     "evalue": "'list' object is not callable",
     "output_type": "error",
     "traceback": [
      "\u001b[1;31m---------------------------------------------------------------------------\u001b[0m",
      "\u001b[1;31mTypeError\u001b[0m                                 Traceback (most recent call last)",
      "\u001b[1;32mC:\\Users\\GUHANR~1\\AppData\\Local\\Temp/ipykernel_18192/391684807.py\u001b[0m in \u001b[0;36m<module>\u001b[1;34m\u001b[0m\n\u001b[0;32m      2\u001b[0m \u001b[0mseq\u001b[0m \u001b[1;33m=\u001b[0m \u001b[1;33m[\u001b[0m\u001b[1;34m'a'\u001b[0m\u001b[1;33m,\u001b[0m \u001b[1;34m'e'\u001b[0m\u001b[1;33m,\u001b[0m \u001b[1;34m'i'\u001b[0m\u001b[1;33m,\u001b[0m\u001b[1;34m'd'\u001b[0m\u001b[1;33m]\u001b[0m\u001b[1;33m\u001b[0m\u001b[1;33m\u001b[0m\u001b[0m\n\u001b[0;32m      3\u001b[0m \u001b[1;33m\u001b[0m\u001b[0m\n\u001b[1;32m----> 4\u001b[1;33m \u001b[0ma1\u001b[0m\u001b[1;33m=\u001b[0m\u001b[0mlist\u001b[0m\u001b[1;33m(\u001b[0m\u001b[0mfilter\u001b[0m\u001b[1;33m(\u001b[0m\u001b[0mfun\u001b[0m\u001b[1;33m,\u001b[0m\u001b[0mseq\u001b[0m\u001b[1;33m)\u001b[0m\u001b[1;33m)\u001b[0m\u001b[1;33m\u001b[0m\u001b[1;33m\u001b[0m\u001b[0m\n\u001b[0m\u001b[0;32m      5\u001b[0m \u001b[0mprint\u001b[0m\u001b[1;33m(\u001b[0m\u001b[0ma1\u001b[0m\u001b[1;33m)\u001b[0m\u001b[1;33m\u001b[0m\u001b[1;33m\u001b[0m\u001b[0m\n",
      "\u001b[1;31mTypeError\u001b[0m: 'list' object is not callable"
     ]
    }
   ],
   "source": [
    "fun = ['a' ,'b','c', 'd']\n",
    "seq = ['a', 'e', 'i','d'] \n",
    "\n",
    "a1=list(filter(fun,seq))\n",
    "print(a1)"
   ]
  },
  {
   "cell_type": "code",
   "execution_count": 176,
   "id": "abf55edd",
   "metadata": {},
   "outputs": [
    {
     "name": "stdout",
     "output_type": "stream",
     "text": [
      "['a']\n",
      "['e']\n"
     ]
    }
   ],
   "source": [
    "def fun(var1):\n",
    "    letters = ['a', 'e', 'i', 'o', 'u']\n",
    "    if (var1 in letters):\n",
    "        b=list(var1)\n",
    "        print(b)\n",
    "        return True\n",
    "        \n",
    "    else:\n",
    "        return False\n",
    "\n",
    "seq = ['a', 'b', 'c', 'd', 'e']\n",
    "fil = list(filter(fun,seq))\n"
   ]
  },
  {
   "cell_type": "code",
   "execution_count": 172,
   "id": "c4e8e1b3",
   "metadata": {},
   "outputs": [
    {
     "data": {
      "text/plain": [
       "True"
      ]
     },
     "execution_count": 172,
     "metadata": {},
     "output_type": "execute_result"
    }
   ],
   "source": [
    "fun('a')"
   ]
  }
 ],
 "metadata": {
  "kernelspec": {
   "display_name": "Python 3 (ipykernel)",
   "language": "python",
   "name": "python3"
  },
  "language_info": {
   "codemirror_mode": {
    "name": "ipython",
    "version": 3
   },
   "file_extension": ".py",
   "mimetype": "text/x-python",
   "name": "python",
   "nbconvert_exporter": "python",
   "pygments_lexer": "ipython3",
   "version": "3.9.7"
  }
 },
 "nbformat": 4,
 "nbformat_minor": 5
}

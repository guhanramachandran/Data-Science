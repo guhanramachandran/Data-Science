{
 "cells": [
  {
   "cell_type": "markdown",
   "id": "050f4970",
   "metadata": {},
   "source": [
    "## Day 4"
   ]
  },
  {
   "cell_type": "markdown",
   "id": "73d7be27",
   "metadata": {},
   "source": [
    "## data types conversion"
   ]
  },
  {
   "cell_type": "code",
   "execution_count": 2,
   "id": "d6513424",
   "metadata": {},
   "outputs": [
    {
     "data": {
      "text/plain": [
       "10.0"
      ]
     },
     "execution_count": 2,
     "metadata": {},
     "output_type": "execute_result"
    }
   ],
   "source": [
    "float(10)"
   ]
  },
  {
   "cell_type": "code",
   "execution_count": 4,
   "id": "00582659",
   "metadata": {},
   "outputs": [
    {
     "data": {
      "text/plain": [
       "10"
      ]
     },
     "execution_count": 4,
     "metadata": {},
     "output_type": "execute_result"
    }
   ],
   "source": [
    "int(10.6)"
   ]
  },
  {
   "cell_type": "code",
   "execution_count": 5,
   "id": "22741542",
   "metadata": {},
   "outputs": [
    {
     "data": {
      "text/plain": [
       "5.5"
      ]
     },
     "execution_count": 5,
     "metadata": {},
     "output_type": "execute_result"
    }
   ],
   "source": [
    "float('5.5')"
   ]
  },
  {
   "cell_type": "code",
   "execution_count": 6,
   "id": "d58f6faa",
   "metadata": {},
   "outputs": [
    {
     "data": {
      "text/plain": [
       "'20'"
      ]
     },
     "execution_count": 6,
     "metadata": {},
     "output_type": "execute_result"
    }
   ],
   "source": [
    "str(20)"
   ]
  },
  {
   "cell_type": "markdown",
   "id": "c26142e9",
   "metadata": {},
   "source": [
    "## conversion of sequences from one to other"
   ]
  },
  {
   "cell_type": "code",
   "execution_count": 9,
   "id": "a4201214",
   "metadata": {},
   "outputs": [
    {
     "data": {
      "text/plain": [
       "{1, 2, 3, 4}"
      ]
     },
     "execution_count": 9,
     "metadata": {},
     "output_type": "execute_result"
    }
   ],
   "source": [
    "set({1,2,3,4})"
   ]
  },
  {
   "cell_type": "code",
   "execution_count": 11,
   "id": "2e0aace9",
   "metadata": {},
   "outputs": [
    {
     "data": {
      "text/plain": [
       "(81, 68, 5)"
      ]
     },
     "execution_count": 11,
     "metadata": {},
     "output_type": "execute_result"
    }
   ],
   "source": [
    "tuple({5,81,68})"
   ]
  },
  {
   "cell_type": "code",
   "execution_count": 12,
   "id": "26e870b0",
   "metadata": {},
   "outputs": [
    {
     "data": {
      "text/plain": [
       "['l', 'i', 's', 't']"
      ]
     },
     "execution_count": 12,
     "metadata": {},
     "output_type": "execute_result"
    }
   ],
   "source": [
    "list('list')"
   ]
  },
  {
   "cell_type": "code",
   "execution_count": 15,
   "id": "3b736418",
   "metadata": {},
   "outputs": [
    {
     "name": "stdout",
     "output_type": "stream",
     "text": [
      "{'name': 'john', 10: 20}\n"
     ]
    }
   ],
   "source": [
    "print(dict([['name','john'], [10,20]]))"
   ]
  },
  {
   "cell_type": "markdown",
   "id": "3b168bef",
   "metadata": {},
   "source": [
    "## Type conversion"
   ]
  },
  {
   "cell_type": "code",
   "execution_count": 28,
   "id": "e1e4ce49",
   "metadata": {},
   "outputs": [],
   "source": [
    "int_var= 157\n",
    "float_var = 55.7\n",
    "conversion1= int_var + float_var"
   ]
  },
  {
   "cell_type": "code",
   "execution_count": 29,
   "id": "abe6dfcc",
   "metadata": {},
   "outputs": [
    {
     "name": "stdout",
     "output_type": "stream",
     "text": [
      "212.7\n"
     ]
    }
   ],
   "source": [
    "print(conversion1)"
   ]
  },
  {
   "cell_type": "code",
   "execution_count": 32,
   "id": "22cfaf83",
   "metadata": {},
   "outputs": [
    {
     "ename": "TypeError",
     "evalue": "unsupported operand type(s) for +: 'int' and 'str'",
     "output_type": "error",
     "traceback": [
      "\u001b[1;31m---------------------------------------------------------------------------\u001b[0m",
      "\u001b[1;31mTypeError\u001b[0m                                 Traceback (most recent call last)",
      "\u001b[1;32mC:\\Users\\GUHANR~1\\AppData\\Local\\Temp/ipykernel_27560/3055753352.py\u001b[0m in \u001b[0;36m<module>\u001b[1;34m\u001b[0m\n\u001b[0;32m      1\u001b[0m \u001b[0mint_var\u001b[0m\u001b[1;33m=\u001b[0m \u001b[1;36m157\u001b[0m\u001b[1;33m\u001b[0m\u001b[1;33m\u001b[0m\u001b[0m\n\u001b[0;32m      2\u001b[0m \u001b[0mstring_var\u001b[0m \u001b[1;33m=\u001b[0m \u001b[1;34m'55.7'\u001b[0m\u001b[1;33m\u001b[0m\u001b[1;33m\u001b[0m\u001b[0m\n\u001b[1;32m----> 3\u001b[1;33m \u001b[0mconversion1\u001b[0m\u001b[1;33m=\u001b[0m \u001b[0mint_var\u001b[0m \u001b[1;33m+\u001b[0m \u001b[0mstring_var\u001b[0m\u001b[1;33m\u001b[0m\u001b[1;33m\u001b[0m\u001b[0m\n\u001b[0m",
      "\u001b[1;31mTypeError\u001b[0m: unsupported operand type(s) for +: 'int' and 'str'"
     ]
    }
   ],
   "source": [
    "int_var= 157\n",
    "string_var = '55.7'\n",
    "conversion1= int_var + string_var\n"
   ]
  },
  {
   "cell_type": "code",
   "execution_count": 31,
   "id": "2bf78fa6",
   "metadata": {},
   "outputs": [
    {
     "name": "stdout",
     "output_type": "stream",
     "text": [
      "212.7\n"
     ]
    }
   ],
   "source": [
    "print(conversion1)"
   ]
  },
  {
   "cell_type": "code",
   "execution_count": 36,
   "id": "3e4adcf1",
   "metadata": {},
   "outputs": [],
   "source": [
    "int_var= 157\n",
    "string_var = '55.7'\n",
    "conversion1= int_var + float(string_var)"
   ]
  },
  {
   "cell_type": "code",
   "execution_count": 37,
   "id": "a70c1d9a",
   "metadata": {},
   "outputs": [
    {
     "name": "stdout",
     "output_type": "stream",
     "text": [
      "212.7\n"
     ]
    }
   ],
   "source": [
    "print(conversion1)"
   ]
  },
  {
   "cell_type": "code",
   "execution_count": 35,
   "id": "d7f40598",
   "metadata": {},
   "outputs": [
    {
     "data": {
      "text/plain": [
       "float"
      ]
     },
     "execution_count": 35,
     "metadata": {},
     "output_type": "execute_result"
    }
   ],
   "source": [
    "type(string_var)"
   ]
  },
  {
   "cell_type": "markdown",
   "id": "2dad85fc",
   "metadata": {},
   "source": [
    "## Input"
   ]
  },
  {
   "cell_type": "code",
   "execution_count": 45,
   "id": "5d4613eb",
   "metadata": {},
   "outputs": [
    {
     "name": "stdout",
     "output_type": "stream",
     "text": [
      "enter the number: 5\n"
     ]
    },
    {
     "ename": "TypeError",
     "evalue": "can only concatenate str (not \"int\") to str",
     "output_type": "error",
     "traceback": [
      "\u001b[1;31m---------------------------------------------------------------------------\u001b[0m",
      "\u001b[1;31mTypeError\u001b[0m                                 Traceback (most recent call last)",
      "\u001b[1;32mC:\\Users\\GUHANR~1\\AppData\\Local\\Temp/ipykernel_27560/2041479207.py\u001b[0m in \u001b[0;36m<module>\u001b[1;34m\u001b[0m\n\u001b[0;32m      1\u001b[0m \u001b[0mnum\u001b[0m\u001b[1;33m=\u001b[0m \u001b[0minput\u001b[0m\u001b[1;33m(\u001b[0m\u001b[1;34m'enter the number: '\u001b[0m\u001b[1;33m)\u001b[0m\u001b[1;33m\u001b[0m\u001b[1;33m\u001b[0m\u001b[0m\n\u001b[1;32m----> 2\u001b[1;33m \u001b[0madd\u001b[0m \u001b[1;33m=\u001b[0m \u001b[0mnum\u001b[0m \u001b[1;33m+\u001b[0m \u001b[1;36m50\u001b[0m\u001b[1;33m\u001b[0m\u001b[1;33m\u001b[0m\u001b[0m\n\u001b[0m\u001b[0;32m      3\u001b[0m \u001b[1;33m\u001b[0m\u001b[0m\n\u001b[0;32m      4\u001b[0m \u001b[0mprint\u001b[0m\u001b[1;33m(\u001b[0m\u001b[0madd\u001b[0m\u001b[1;33m)\u001b[0m\u001b[1;33m\u001b[0m\u001b[1;33m\u001b[0m\u001b[0m\n",
      "\u001b[1;31mTypeError\u001b[0m: can only concatenate str (not \"int\") to str"
     ]
    }
   ],
   "source": [
    "num= input('enter the number: ')\n",
    "add = num + 50\n",
    "\n",
    "print(add)"
   ]
  },
  {
   "cell_type": "code",
   "execution_count": 46,
   "id": "ae648868",
   "metadata": {},
   "outputs": [
    {
     "name": "stdout",
     "output_type": "stream",
     "text": [
      "enter the number: 5\n",
      "55\n"
     ]
    }
   ],
   "source": [
    "num= input('enter the number: ')\n",
    "add = int(num) + 50\n",
    "\n",
    "print(add)"
   ]
  },
  {
   "cell_type": "code",
   "execution_count": null,
   "id": "5b208008",
   "metadata": {},
   "outputs": [],
   "source": [
    "## eval\n"
   ]
  },
  {
   "cell_type": "code",
   "execution_count": 52,
   "id": "c24c7bc4",
   "metadata": {},
   "outputs": [
    {
     "name": "stdout",
     "output_type": "stream",
     "text": [
      "10\n"
     ]
    }
   ],
   "source": [
    "a = eval('2*5')\n",
    "print(a)"
   ]
  },
  {
   "cell_type": "code",
   "execution_count": 55,
   "id": "528ea51f",
   "metadata": {},
   "outputs": [
    {
     "name": "stdout",
     "output_type": "stream",
     "text": [
      "25\n"
     ]
    }
   ],
   "source": [
    "a= 5\n",
    "b= 20\n",
    "c= eval('a+b')\n",
    "print(c)"
   ]
  },
  {
   "cell_type": "markdown",
   "id": "f6b398b6",
   "metadata": {},
   "source": [
    "## operators"
   ]
  },
  {
   "cell_type": "code",
   "execution_count": 59,
   "id": "f5cc8d33",
   "metadata": {},
   "outputs": [
    {
     "name": "stdout",
     "output_type": "stream",
     "text": [
      "1248\n",
      "28\n",
      "2.1666666666666665\n",
      "152784834199652075368661148843397208866816\n",
      "2\n"
     ]
    }
   ],
   "source": [
    "x =52\n",
    "y= 24\n",
    "\n",
    "print(x*y)\n",
    "print(x-y)\n",
    "print(x/y)\n",
    "print(x**y)\n",
    "print(x//y)\n"
   ]
  },
  {
   "cell_type": "markdown",
   "id": "39d43eaf",
   "metadata": {},
   "source": [
    "## logical operators"
   ]
  },
  {
   "cell_type": "code",
   "execution_count": 66,
   "id": "5f37cf80",
   "metadata": {},
   "outputs": [
    {
     "name": "stdout",
     "output_type": "stream",
     "text": [
      "False\n",
      "True\n",
      "True\n"
     ]
    }
   ],
   "source": [
    "x= True\n",
    "y = False\n",
    "\n",
    "print(x and y) ## multiplication\n",
    "print(x or y) ## addition\n",
    "print(not y) ## inverse operation\n"
   ]
  },
  {
   "cell_type": "markdown",
   "id": "3b2afd00",
   "metadata": {},
   "source": [
    "## assignment operators"
   ]
  },
  {
   "cell_type": "code",
   "execution_count": 77,
   "id": "ff71a2ef",
   "metadata": {},
   "outputs": [],
   "source": [
    "x1 = 15\n",
    "y1 = 15\n",
    "\n",
    "x2 = 'Hello'\n",
    "y2 = 'Hello'\n",
    "\n",
    "x3 = [1,2,3]\n",
    "y3 = [1,2,3]\n",
    "\n",
    "x4 = (1,2,3)\n",
    "y4 = (1,2,3)\n",
    "\n",
    "x5 = {1,2,3}\n",
    "y5 = {1,2,3}"
   ]
  },
  {
   "cell_type": "code",
   "execution_count": 78,
   "id": "0e6282ea",
   "metadata": {},
   "outputs": [
    {
     "name": "stdout",
     "output_type": "stream",
     "text": [
      "True\n",
      "True\n",
      "False\n",
      "False\n",
      "False\n"
     ]
    }
   ],
   "source": [
    "print (x1 is y1)\n",
    "print (x2 is y2)\n",
    "print (x3 is y3)\n",
    "print (x4 is y4)\n",
    "print (x5 is y5)"
   ]
  },
  {
   "cell_type": "code",
   "execution_count": 80,
   "id": "896afb10",
   "metadata": {},
   "outputs": [
    {
     "data": {
      "text/plain": [
       "(2271153842928, 2271153842928)"
      ]
     },
     "execution_count": 80,
     "metadata": {},
     "output_type": "execute_result"
    }
   ],
   "source": [
    "id (x1), id (y1)"
   ]
  },
  {
   "cell_type": "code",
   "execution_count": 82,
   "id": "fdd685b9",
   "metadata": {},
   "outputs": [
    {
     "data": {
      "text/plain": [
       "(2271263011632, 2271263011632)"
      ]
     },
     "execution_count": 82,
     "metadata": {},
     "output_type": "execute_result"
    }
   ],
   "source": [
    "id (x2), id (y2)"
   ]
  },
  {
   "cell_type": "code",
   "execution_count": 83,
   "id": "54aa0743",
   "metadata": {},
   "outputs": [
    {
     "data": {
      "text/plain": [
       "(2271265100480, 2271265103744)"
      ]
     },
     "execution_count": 83,
     "metadata": {},
     "output_type": "execute_result"
    }
   ],
   "source": [
    "id (x3), id (y3)"
   ]
  },
  {
   "cell_type": "code",
   "execution_count": 84,
   "id": "7b60be71",
   "metadata": {},
   "outputs": [
    {
     "data": {
      "text/plain": [
       "(2271254004032, 2271254233728)"
      ]
     },
     "execution_count": 84,
     "metadata": {},
     "output_type": "execute_result"
    }
   ],
   "source": [
    "id (x4), id (y4)"
   ]
  },
  {
   "cell_type": "code",
   "execution_count": 85,
   "id": "e5742347",
   "metadata": {},
   "outputs": [
    {
     "data": {
      "text/plain": [
       "(2271265775168, 2271265771584)"
      ]
     },
     "execution_count": 85,
     "metadata": {},
     "output_type": "execute_result"
    }
   ],
   "source": [
    "id (x5), id (y5)"
   ]
  },
  {
   "cell_type": "code",
   "execution_count": null,
   "id": "54cf407e",
   "metadata": {},
   "outputs": [],
   "source": []
  },
  {
   "cell_type": "code",
   "execution_count": 86,
   "id": "9da92fb7",
   "metadata": {},
   "outputs": [],
   "source": [
    "y3 = [1,2,3]\n"
   ]
  },
  {
   "cell_type": "code",
   "execution_count": 91,
   "id": "3f71ce01",
   "metadata": {},
   "outputs": [],
   "source": [
    "z2=y3[2]"
   ]
  },
  {
   "cell_type": "code",
   "execution_count": 92,
   "id": "2d371ed6",
   "metadata": {},
   "outputs": [
    {
     "data": {
      "text/plain": [
       "(2271265091712, 2271153842544)"
      ]
     },
     "execution_count": 92,
     "metadata": {},
     "output_type": "execute_result"
    }
   ],
   "source": [
    "id(y3), id (z2)"
   ]
  },
  {
   "cell_type": "markdown",
   "id": "c01f3675",
   "metadata": {},
   "source": [
    "## membership operators"
   ]
  },
  {
   "cell_type": "code",
   "execution_count": 94,
   "id": "5eba0aae",
   "metadata": {},
   "outputs": [],
   "source": [
    "x= 'hello word'\n",
    "y= {10:'a', 12:'b'}"
   ]
  },
  {
   "cell_type": "code",
   "execution_count": 95,
   "id": "0057296c",
   "metadata": {},
   "outputs": [
    {
     "name": "stdout",
     "output_type": "stream",
     "text": [
      "True\n"
     ]
    }
   ],
   "source": [
    "print('h' in x)"
   ]
  },
  {
   "cell_type": "code",
   "execution_count": 96,
   "id": "2dd04a9b",
   "metadata": {},
   "outputs": [
    {
     "name": "stdout",
     "output_type": "stream",
     "text": [
      "False\n"
     ]
    }
   ],
   "source": [
    "print('Hello' in x)"
   ]
  },
  {
   "cell_type": "code",
   "execution_count": 97,
   "id": "0868d338",
   "metadata": {},
   "outputs": [
    {
     "name": "stdout",
     "output_type": "stream",
     "text": [
      "True\n"
     ]
    }
   ],
   "source": [
    "print ( 10 in y)"
   ]
  },
  {
   "cell_type": "code",
   "execution_count": null,
   "id": "d5eeb66a",
   "metadata": {},
   "outputs": [],
   "source": []
  }
 ],
 "metadata": {
  "kernelspec": {
   "display_name": "Python 3 (ipykernel)",
   "language": "python",
   "name": "python3"
  },
  "language_info": {
   "codemirror_mode": {
    "name": "ipython",
    "version": 3
   },
   "file_extension": ".py",
   "mimetype": "text/x-python",
   "name": "python",
   "nbconvert_exporter": "python",
   "pygments_lexer": "ipython3",
   "version": "3.9.7"
  }
 },
 "nbformat": 4,
 "nbformat_minor": 5
}

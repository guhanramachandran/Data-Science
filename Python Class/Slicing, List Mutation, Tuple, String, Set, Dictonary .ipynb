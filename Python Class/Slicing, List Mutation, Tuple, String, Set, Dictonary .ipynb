{
 "cells": [
  {
   "cell_type": "markdown",
   "id": "3223382a",
   "metadata": {},
   "source": [
    "## slicing"
   ]
  },
  {
   "cell_type": "code",
   "execution_count": 118,
   "id": "93eed018",
   "metadata": {},
   "outputs": [],
   "source": [
    "list3=[1, 2, 3, 4, 5, 6, 8]"
   ]
  },
  {
   "cell_type": "code",
   "execution_count": 119,
   "id": "d2515a67",
   "metadata": {},
   "outputs": [
    {
     "data": {
      "text/plain": [
       "1"
      ]
     },
     "execution_count": 119,
     "metadata": {},
     "output_type": "execute_result"
    }
   ],
   "source": [
    "list3[0]"
   ]
  },
  {
   "cell_type": "code",
   "execution_count": 120,
   "id": "c0fdba0a",
   "metadata": {},
   "outputs": [
    {
     "data": {
      "text/plain": [
       "[3, 4, 5]"
      ]
     },
     "execution_count": 120,
     "metadata": {},
     "output_type": "execute_result"
    }
   ],
   "source": [
    "list3[2:5]"
   ]
  },
  {
   "cell_type": "code",
   "execution_count": 152,
   "id": "e4af0ade",
   "metadata": {},
   "outputs": [
    {
     "data": {
      "text/plain": [
       "8"
      ]
     },
     "execution_count": 152,
     "metadata": {},
     "output_type": "execute_result"
    }
   ],
   "source": [
    "list3[-1]\n",
    "\n",
    "## indexing item in decending order "
   ]
  },
  {
   "cell_type": "markdown",
   "id": "0d6f0694",
   "metadata": {},
   "source": [
    "## List Mutation (list is mutable)"
   ]
  },
  {
   "cell_type": "code",
   "execution_count": 123,
   "id": "88d413e5",
   "metadata": {},
   "outputs": [],
   "source": [
    "list3[4]=15"
   ]
  },
  {
   "cell_type": "code",
   "execution_count": 124,
   "id": "69a6e8b3",
   "metadata": {},
   "outputs": [
    {
     "data": {
      "text/plain": [
       "[1, 2, 3, 4, 15, 6, 8]"
      ]
     },
     "execution_count": 124,
     "metadata": {},
     "output_type": "execute_result"
    }
   ],
   "source": [
    "list3"
   ]
  },
  {
   "cell_type": "markdown",
   "id": "128e0533",
   "metadata": {},
   "source": [
    "## Tuple ( is immutable)"
   ]
  },
  {
   "cell_type": "code",
   "execution_count": null,
   "id": "a7cac522",
   "metadata": {},
   "outputs": [],
   "source": [
    "## tuple caintain value in a paranthesis\n",
    "\n",
    "## list cantains values in a square bracket"
   ]
  },
  {
   "cell_type": "code",
   "execution_count": 126,
   "id": "611d3309",
   "metadata": {},
   "outputs": [],
   "source": [
    "a=(1, 2, 3, 4, 5)"
   ]
  },
  {
   "cell_type": "code",
   "execution_count": 128,
   "id": "fe10ec39",
   "metadata": {},
   "outputs": [
    {
     "data": {
      "text/plain": [
       "(3, 4)"
      ]
     },
     "execution_count": 128,
     "metadata": {},
     "output_type": "execute_result"
    }
   ],
   "source": [
    "a[2:4]"
   ]
  },
  {
   "cell_type": "code",
   "execution_count": 129,
   "id": "b1df4d1c",
   "metadata": {},
   "outputs": [
    {
     "ename": "TypeError",
     "evalue": "'tuple' object does not support item assignment",
     "output_type": "error",
     "traceback": [
      "\u001b[1;31m---------------------------------------------------------------------------\u001b[0m",
      "\u001b[1;31mTypeError\u001b[0m                                 Traceback (most recent call last)",
      "\u001b[1;32mC:\\Users\\GUHANR~1\\AppData\\Local\\Temp/ipykernel_15336/2485323.py\u001b[0m in \u001b[0;36m<module>\u001b[1;34m\u001b[0m\n\u001b[1;32m----> 1\u001b[1;33m \u001b[0ma\u001b[0m\u001b[1;33m[\u001b[0m\u001b[1;36m2\u001b[0m\u001b[1;33m]\u001b[0m\u001b[1;33m=\u001b[0m\u001b[1;36m12\u001b[0m\u001b[1;33m\u001b[0m\u001b[1;33m\u001b[0m\u001b[0m\n\u001b[0m",
      "\u001b[1;31mTypeError\u001b[0m: 'tuple' object does not support item assignment"
     ]
    }
   ],
   "source": [
    "a[2]=12\n",
    "\n",
    "## tupe is immutable"
   ]
  },
  {
   "cell_type": "markdown",
   "id": "da30dff1",
   "metadata": {},
   "source": [
    "## String"
   ]
  },
  {
   "cell_type": "code",
   "execution_count": 136,
   "id": "60f82675",
   "metadata": {},
   "outputs": [],
   "source": [
    "a = \"this is string\""
   ]
  },
  {
   "cell_type": "code",
   "execution_count": 138,
   "id": "aeba5cba",
   "metadata": {},
   "outputs": [
    {
     "name": "stdout",
     "output_type": "stream",
     "text": [
      "this is string\n"
     ]
    },
    {
     "data": {
      "text/plain": [
       "str"
      ]
     },
     "execution_count": 138,
     "metadata": {},
     "output_type": "execute_result"
    }
   ],
   "source": [
    "print (a)\n",
    "type(a)"
   ]
  },
  {
   "cell_type": "code",
   "execution_count": 141,
   "id": "ecfd729e",
   "metadata": {},
   "outputs": [
    {
     "data": {
      "text/plain": [
       "'string'"
      ]
     },
     "execution_count": 141,
     "metadata": {},
     "output_type": "execute_result"
    }
   ],
   "source": [
    "a[-6:]"
   ]
  },
  {
   "cell_type": "code",
   "execution_count": 143,
   "id": "823dfaf4",
   "metadata": {},
   "outputs": [
    {
     "ename": "TypeError",
     "evalue": "'str' object does not support item assignment",
     "output_type": "error",
     "traceback": [
      "\u001b[1;31m---------------------------------------------------------------------------\u001b[0m",
      "\u001b[1;31mTypeError\u001b[0m                                 Traceback (most recent call last)",
      "\u001b[1;32mC:\\Users\\GUHANR~1\\AppData\\Local\\Temp/ipykernel_15336/2059714051.py\u001b[0m in \u001b[0;36m<module>\u001b[1;34m\u001b[0m\n\u001b[1;32m----> 1\u001b[1;33m \u001b[0ma\u001b[0m\u001b[1;33m[\u001b[0m\u001b[1;36m5\u001b[0m\u001b[1;33m]\u001b[0m\u001b[1;33m=\u001b[0m\u001b[1;34m\"r\"\u001b[0m\u001b[1;33m\u001b[0m\u001b[1;33m\u001b[0m\u001b[0m\n\u001b[0m\u001b[0;32m      2\u001b[0m \u001b[1;33m\u001b[0m\u001b[0m\n\u001b[0;32m      3\u001b[0m \u001b[1;31m## we cant mute string\u001b[0m\u001b[1;33m\u001b[0m\u001b[1;33m\u001b[0m\u001b[0m\n",
      "\u001b[1;31mTypeError\u001b[0m: 'str' object does not support item assignment"
     ]
    }
   ],
   "source": [
    "a[5]=\"r\"\n",
    "\n",
    "## we cant mute string"
   ]
  },
  {
   "cell_type": "markdown",
   "id": "9b99d4b1",
   "metadata": {},
   "source": [
    "## Set"
   ]
  },
  {
   "cell_type": "code",
   "execution_count": null,
   "id": "896d9916",
   "metadata": {},
   "outputs": [],
   "source": [
    "## set is a unorder collection"
   ]
  },
  {
   "cell_type": "code",
   "execution_count": 144,
   "id": "3690f136",
   "metadata": {},
   "outputs": [],
   "source": [
    "## we can do slicing\n",
    "\n",
    "## set are immutable\n",
    "\n"
   ]
  },
  {
   "cell_type": "code",
   "execution_count": 145,
   "id": "86354cc5",
   "metadata": {},
   "outputs": [],
   "source": [
    "set1={1,2,3,4,5,6,87,8,9}"
   ]
  },
  {
   "cell_type": "code",
   "execution_count": 146,
   "id": "0ca95d00",
   "metadata": {},
   "outputs": [
    {
     "data": {
      "text/plain": [
       "{1, 2, 3, 4, 5, 6, 8, 9, 87}"
      ]
     },
     "execution_count": 146,
     "metadata": {},
     "output_type": "execute_result"
    }
   ],
   "source": [
    "set1"
   ]
  },
  {
   "cell_type": "code",
   "execution_count": 151,
   "id": "feb0a77c",
   "metadata": {},
   "outputs": [
    {
     "ename": "TypeError",
     "evalue": "'set' object is not subscriptable",
     "output_type": "error",
     "traceback": [
      "\u001b[1;31m---------------------------------------------------------------------------\u001b[0m",
      "\u001b[1;31mTypeError\u001b[0m                                 Traceback (most recent call last)",
      "\u001b[1;32mC:\\Users\\GUHANR~1\\AppData\\Local\\Temp/ipykernel_15336/958820074.py\u001b[0m in \u001b[0;36m<module>\u001b[1;34m\u001b[0m\n\u001b[1;32m----> 1\u001b[1;33m \u001b[0mset1\u001b[0m\u001b[1;33m[\u001b[0m\u001b[1;36m5\u001b[0m\u001b[1;33m]\u001b[0m\u001b[1;33m\u001b[0m\u001b[1;33m\u001b[0m\u001b[0m\n\u001b[0m",
      "\u001b[1;31mTypeError\u001b[0m: 'set' object is not subscriptable"
     ]
    }
   ],
   "source": [
    "set1[5]\n",
    "\n",
    "## indexing is not allowed in set\n"
   ]
  },
  {
   "cell_type": "code",
   "execution_count": 148,
   "id": "a7de01de",
   "metadata": {},
   "outputs": [],
   "source": [
    "set2={1,1,1,1,2,2,2,2,2,3,3,3,3,3}"
   ]
  },
  {
   "cell_type": "code",
   "execution_count": 149,
   "id": "50861104",
   "metadata": {},
   "outputs": [
    {
     "data": {
      "text/plain": [
       "{1, 2, 3}"
      ]
     },
     "execution_count": 149,
     "metadata": {},
     "output_type": "execute_result"
    }
   ],
   "source": [
    "set2\n",
    "\n",
    "## set can not contain the duplicate values"
   ]
  },
  {
   "cell_type": "markdown",
   "id": "5e12b801",
   "metadata": {},
   "source": [
    "## Dictonary"
   ]
  },
  {
   "cell_type": "code",
   "execution_count": null,
   "id": "1e2893ee",
   "metadata": {},
   "outputs": [],
   "source": [
    "## unordered collection of key value set\n",
    "    "
   ]
  },
  {
   "cell_type": "code",
   "execution_count": 154,
   "id": "71d7467d",
   "metadata": {},
   "outputs": [],
   "source": [
    "dict1 = {1:'value1', 2:'value2', 3:'value'}"
   ]
  },
  {
   "cell_type": "code",
   "execution_count": 160,
   "id": "7c8a3acb",
   "metadata": {},
   "outputs": [
    {
     "data": {
      "text/plain": [
       "('value1', 'value2')"
      ]
     },
     "execution_count": 160,
     "metadata": {},
     "output_type": "execute_result"
    }
   ],
   "source": [
    "dict1[1], dict1[2]"
   ]
  },
  {
   "cell_type": "code",
   "execution_count": null,
   "id": "166f4354",
   "metadata": {},
   "outputs": [],
   "source": []
  },
  {
   "cell_type": "code",
   "execution_count": null,
   "id": "d3070689",
   "metadata": {},
   "outputs": [],
   "source": []
  },
  {
   "cell_type": "code",
   "execution_count": null,
   "id": "d6513424",
   "metadata": {},
   "outputs": [],
   "source": []
  },
  {
   "cell_type": "code",
   "execution_count": null,
   "id": "00582659",
   "metadata": {},
   "outputs": [],
   "source": []
  },
  {
   "cell_type": "code",
   "execution_count": null,
   "id": "22741542",
   "metadata": {},
   "outputs": [],
   "source": []
  },
  {
   "cell_type": "code",
   "execution_count": null,
   "id": "d58f6faa",
   "metadata": {},
   "outputs": [],
   "source": []
  },
  {
   "cell_type": "code",
   "execution_count": null,
   "id": "f417d14a",
   "metadata": {},
   "outputs": [],
   "source": []
  },
  {
   "cell_type": "code",
   "execution_count": null,
   "id": "a4201214",
   "metadata": {},
   "outputs": [],
   "source": []
  },
  {
   "cell_type": "code",
   "execution_count": null,
   "id": "2e0aace9",
   "metadata": {},
   "outputs": [],
   "source": []
  },
  {
   "cell_type": "code",
   "execution_count": null,
   "id": "26e870b0",
   "metadata": {},
   "outputs": [],
   "source": []
  }
 ],
 "metadata": {
  "kernelspec": {
   "display_name": "Python 3 (ipykernel)",
   "language": "python",
   "name": "python3"
  },
  "language_info": {
   "codemirror_mode": {
    "name": "ipython",
    "version": 3
   },
   "file_extension": ".py",
   "mimetype": "text/x-python",
   "name": "python",
   "nbconvert_exporter": "python",
   "pygments_lexer": "ipython3",
   "version": "3.9.7"
  }
 },
 "nbformat": 4,
 "nbformat_minor": 5
}

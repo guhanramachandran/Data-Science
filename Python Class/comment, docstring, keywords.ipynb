{
 "cells": [
  {
   "cell_type": "markdown",
   "id": "15966c2c",
   "metadata": {},
   "source": [
    "## Comment"
   ]
  },
  {
   "cell_type": "code",
   "execution_count": null,
   "id": "fff1d6e2",
   "metadata": {},
   "outputs": [],
   "source": [
    "# symbol is acommand\n",
    "# which is used for the feature reference"
   ]
  },
  {
   "cell_type": "code",
   "execution_count": null,
   "id": "f455d205",
   "metadata": {},
   "outputs": [],
   "source": [
    "'''multi line comment\n",
    "multi line comment\n",
    "multi line comment'''"
   ]
  },
  {
   "cell_type": "markdown",
   "id": "22a97b03",
   "metadata": {},
   "source": [
    "## Docstring"
   ]
  },
  {
   "cell_type": "code",
   "execution_count": null,
   "id": "aeb4824b",
   "metadata": {},
   "outputs": [],
   "source": [
    "# keyword to write a function is def\n",
    "# function name starts with def keyword and follows with ()"
   ]
  },
  {
   "cell_type": "code",
   "execution_count": 59,
   "id": "a97facfd",
   "metadata": {},
   "outputs": [],
   "source": [
    "def function1():\n",
    "    \"\"\"My first function to print the statement\"\"\"\n",
    "    print('This is my first function')"
   ]
  },
  {
   "cell_type": "code",
   "execution_count": 60,
   "id": "7ac3dd6c",
   "metadata": {},
   "outputs": [
    {
     "name": "stdout",
     "output_type": "stream",
     "text": [
      "This is my first function\n"
     ]
    }
   ],
   "source": [
    "function1()\n",
    "\n",
    "\n",
    "# This is how we call the function"
   ]
  },
  {
   "cell_type": "code",
   "execution_count": 61,
   "id": "9bcac021",
   "metadata": {},
   "outputs": [
    {
     "name": "stdout",
     "output_type": "stream",
     "text": [
      "My first function to print the statement\n"
     ]
    }
   ],
   "source": [
    "print(function1.__doc__)"
   ]
  },
  {
   "cell_type": "code",
   "execution_count": 48,
   "id": "603662ff",
   "metadata": {},
   "outputs": [],
   "source": [
    "def fun2(a,b):\n",
    "    \"\"\"function to add two number\"\"\"\n",
    "    return a+b"
   ]
  },
  {
   "cell_type": "code",
   "execution_count": 52,
   "id": "49beb1d3",
   "metadata": {},
   "outputs": [
    {
     "data": {
      "text/plain": [
       "17.0"
      ]
     },
     "execution_count": 52,
     "metadata": {},
     "output_type": "execute_result"
    }
   ],
   "source": [
    "fun2(5,12.)"
   ]
  },
  {
   "cell_type": "code",
   "execution_count": 54,
   "id": "4fd86b36",
   "metadata": {},
   "outputs": [
    {
     "name": "stdout",
     "output_type": "stream",
     "text": [
      "function to add two number\n"
     ]
    }
   ],
   "source": [
    "print(fun2.__doc__)"
   ]
  },
  {
   "cell_type": "code",
   "execution_count": 62,
   "id": "8a233bf3",
   "metadata": {},
   "outputs": [],
   "source": [
    "def fun3(a,b):\n",
    "    c=a+b\n",
    "    print(c)"
   ]
  },
  {
   "cell_type": "code",
   "execution_count": 63,
   "id": "d1008cfe",
   "metadata": {},
   "outputs": [
    {
     "name": "stdout",
     "output_type": "stream",
     "text": [
      "5\n"
     ]
    }
   ],
   "source": [
    "fun3(2,3)"
   ]
  },
  {
   "cell_type": "code",
   "execution_count": 56,
   "id": "27f91e25",
   "metadata": {},
   "outputs": [],
   "source": [
    "## training\n",
    "def cal2(a,b):\n",
    "    \"\"\"a is greater\"\"\"\n",
    "    if (a>b):\n",
    "        print('a', \"is greater\")\n",
    "    else:\n",
    "        print('b', \"is greater\")\n",
    "        "
   ]
  },
  {
   "cell_type": "code",
   "execution_count": 57,
   "id": "f71c8b9d",
   "metadata": {},
   "outputs": [
    {
     "name": "stdout",
     "output_type": "stream",
     "text": [
      "a is greater\n",
      "a is greater\n"
     ]
    }
   ],
   "source": [
    "cal2(100,20)\n",
    "print(cal2.__doc__)"
   ]
  },
  {
   "cell_type": "code",
   "execution_count": 64,
   "id": "de33d1bd",
   "metadata": {},
   "outputs": [],
   "source": [
    "import keyword"
   ]
  },
  {
   "cell_type": "code",
   "execution_count": 65,
   "id": "dd295ba5",
   "metadata": {},
   "outputs": [
    {
     "data": {
      "text/plain": [
       "['False',\n",
       " 'None',\n",
       " 'True',\n",
       " '__peg_parser__',\n",
       " 'and',\n",
       " 'as',\n",
       " 'assert',\n",
       " 'async',\n",
       " 'await',\n",
       " 'break',\n",
       " 'class',\n",
       " 'continue',\n",
       " 'def',\n",
       " 'del',\n",
       " 'elif',\n",
       " 'else',\n",
       " 'except',\n",
       " 'finally',\n",
       " 'for',\n",
       " 'from',\n",
       " 'global',\n",
       " 'if',\n",
       " 'import',\n",
       " 'in',\n",
       " 'is',\n",
       " 'lambda',\n",
       " 'nonlocal',\n",
       " 'not',\n",
       " 'or',\n",
       " 'pass',\n",
       " 'raise',\n",
       " 'return',\n",
       " 'try',\n",
       " 'while',\n",
       " 'with',\n",
       " 'yield']"
      ]
     },
     "execution_count": 65,
     "metadata": {},
     "output_type": "execute_result"
    }
   ],
   "source": [
    "keyword.kwlist"
   ]
  }
 ],
 "metadata": {
  "kernelspec": {
   "display_name": "Python 3 (ipykernel)",
   "language": "python",
   "name": "python3"
  },
  "language_info": {
   "codemirror_mode": {
    "name": "ipython",
    "version": 3
   },
   "file_extension": ".py",
   "mimetype": "text/x-python",
   "name": "python",
   "nbconvert_exporter": "python",
   "pygments_lexer": "ipython3",
   "version": "3.9.7"
  }
 },
 "nbformat": 4,
 "nbformat_minor": 5
}

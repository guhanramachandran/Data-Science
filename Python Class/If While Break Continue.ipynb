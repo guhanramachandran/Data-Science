{
 "cells": [
  {
   "cell_type": "markdown",
   "id": "fc8d451f",
   "metadata": {},
   "source": [
    "## if statement"
   ]
  },
  {
   "cell_type": "code",
   "execution_count": 98,
   "id": "25252331",
   "metadata": {},
   "outputs": [
    {
     "name": "stdout",
     "output_type": "stream",
     "text": [
      "enter the value10\n",
      "positive\n"
     ]
    }
   ],
   "source": [
    "num = int(input ('enter the value'))\n",
    "\n",
    "if num>0:\n",
    "    print ('positive')\n",
    "else:\n",
    "    print('negative')\n",
    "    "
   ]
  },
  {
   "cell_type": "markdown",
   "id": "725136bc",
   "metadata": {},
   "source": [
    "## if else statement"
   ]
  },
  {
   "cell_type": "code",
   "execution_count": 100,
   "id": "8d81e753",
   "metadata": {},
   "outputs": [
    {
     "name": "stdout",
     "output_type": "stream",
     "text": [
      "enter the value0\n",
      "zero\n"
     ]
    }
   ],
   "source": [
    "num = int(input ('enter the value'))\n",
    "\n",
    "if num>0:\n",
    "    print ('positive')\n",
    "elif num ==0:\n",
    "    print ('zero')\n",
    "else:\n",
    "    print('negative')"
   ]
  },
  {
   "cell_type": "markdown",
   "id": "74c7382c",
   "metadata": {},
   "source": [
    "## nested if condition"
   ]
  },
  {
   "cell_type": "code",
   "execution_count": 103,
   "id": "3a7abca7",
   "metadata": {},
   "outputs": [
    {
     "name": "stdout",
     "output_type": "stream",
     "text": [
      "enter the value0\n",
      "zero\n"
     ]
    }
   ],
   "source": [
    "num = int(input ('enter the value'))\n",
    "\n",
    "if num>=0:\n",
    "    if num ==0:\n",
    "        print('zero')\n",
    "    else:\n",
    "        print('Positive')\n",
    "else:\n",
    "    print('Negative')"
   ]
  },
  {
   "cell_type": "markdown",
   "id": "d6d59872",
   "metadata": {},
   "source": [
    "## For Loop"
   ]
  },
  {
   "cell_type": "code",
   "execution_count": 133,
   "id": "231c45ca",
   "metadata": {},
   "outputs": [
    {
     "name": "stdout",
     "output_type": "stream",
     "text": [
      "1\n",
      "3\n",
      "6\n",
      "21\n",
      "final add value is  21\n"
     ]
    }
   ],
   "source": [
    "list1 = [1,2,3,15]\n",
    "\n",
    "add =0\n",
    "\n",
    "for i in list1:\n",
    "    add = add+i\n",
    "  ##  if add == 25:\n",
    "    print (add)\n",
    "    ##else:\n",
    "      ##  print(add)\n",
    "    ##break    \n",
    "print ('final add value is ',add)\n"
   ]
  },
  {
   "cell_type": "code",
   "execution_count": 111,
   "id": "613ab645",
   "metadata": {},
   "outputs": [
    {
     "name": "stdout",
     "output_type": "stream",
     "text": [
      "21\n"
     ]
    }
   ],
   "source": []
  },
  {
   "cell_type": "markdown",
   "id": "84b1725c",
   "metadata": {},
   "source": [
    "## Day 5"
   ]
  },
  {
   "cell_type": "code",
   "execution_count": 1,
   "id": "f9ee5de9",
   "metadata": {},
   "outputs": [],
   "source": [
    "list_city=['chennai','kolkata','mumbai']"
   ]
  },
  {
   "cell_type": "code",
   "execution_count": 2,
   "id": "ed5d4991",
   "metadata": {},
   "outputs": [
    {
     "data": {
      "text/plain": [
       "3"
      ]
     },
     "execution_count": 2,
     "metadata": {},
     "output_type": "execute_result"
    }
   ],
   "source": [
    "len(list_city)"
   ]
  },
  {
   "cell_type": "code",
   "execution_count": 5,
   "id": "c9ac3ff6",
   "metadata": {},
   "outputs": [
    {
     "name": "stdout",
     "output_type": "stream",
     "text": [
      "i like to go to chennai\n",
      "i like to go to kolkata\n",
      "i like to go to mumbai\n"
     ]
    }
   ],
   "source": [
    "for i in range (len(list_city)):\n",
    "    print('i like to go to', list_city[i])"
   ]
  },
  {
   "cell_type": "code",
   "execution_count": 11,
   "id": "50b54f18",
   "metadata": {},
   "outputs": [
    {
     "name": "stdout",
     "output_type": "stream",
     "text": [
      "the number is 1\n",
      "the number is 10\n"
     ]
    }
   ],
   "source": [
    "num = [1,10,20]\n",
    "for i in num:\n",
    "    if i ==20:\n",
    "        break\n",
    "    print ('the number is',i)\n",
    "else:\n",
    "    print ('i have', i, 'days')\n",
    "        \n",
    "    "
   ]
  },
  {
   "cell_type": "markdown",
   "id": "41eb8a72",
   "metadata": {},
   "source": [
    "## while loop"
   ]
  },
  {
   "cell_type": "code",
   "execution_count": 13,
   "id": "c75edc83",
   "metadata": {},
   "outputs": [
    {
     "name": "stdout",
     "output_type": "stream",
     "text": [
      "entetr the number5\n",
      "10\n"
     ]
    }
   ],
   "source": [
    "num = int(input('entetr the number'))\n",
    "i = 0\n",
    "sum_var = 0\n",
    "\n",
    "while i<num:\n",
    "    sum_var = sum_var + i\n",
    "    i = i+1\n",
    "print(sum_var)"
   ]
  },
  {
   "cell_type": "markdown",
   "id": "2bc8d5dd",
   "metadata": {},
   "source": [
    "## Break and continue"
   ]
  },
  {
   "cell_type": "code",
   "execution_count": 19,
   "id": "c334c942",
   "metadata": {},
   "outputs": [
    {
     "name": "stdout",
     "output_type": "stream",
     "text": [
      "c\n",
      "o\n",
      "u\n",
      "n\n",
      "t\n"
     ]
    }
   ],
   "source": [
    "for i in 'country':\n",
    "    if i == 'r':\n",
    "        break\n",
    "    print(i)"
   ]
  },
  {
   "cell_type": "code",
   "execution_count": 20,
   "id": "d2e61652",
   "metadata": {},
   "outputs": [
    {
     "name": "stdout",
     "output_type": "stream",
     "text": [
      "c\n",
      "o\n",
      "u\n",
      "n\n",
      "t\n",
      "y\n"
     ]
    }
   ],
   "source": [
    "for i in 'country':\n",
    "    if i == 'r':\n",
    "        continue\n",
    "    print(i)"
   ]
  },
  {
   "cell_type": "code",
   "execution_count": 33,
   "id": "8de0c020",
   "metadata": {},
   "outputs": [
    {
     "name": "stdout",
     "output_type": "stream",
     "text": [
      "p\n",
      "q\n",
      "p\n",
      "r\n",
      "s\n"
     ]
    }
   ],
   "source": [
    "list_val = ['p','q','p','r','s']\n",
    "\n",
    "for i in list_val:\n",
    "    if i == 'r':\n",
    "        print(i)\n",
    "    else:\n",
    "        print (i)\n",
    "\n"
   ]
  },
  {
   "cell_type": "code",
   "execution_count": 34,
   "id": "9618a21d",
   "metadata": {},
   "outputs": [],
   "source": [
    "## pass statement\n",
    "\n",
    "list_val = ['p','q','p','r','s']\n",
    "\n",
    "for i in list_val:\n",
    "    pass\n",
    "\n",
    "## pass execute the loop but no result"
   ]
  }
 ],
 "metadata": {
  "kernelspec": {
   "display_name": "Python 3 (ipykernel)",
   "language": "python",
   "name": "python3"
  },
  "language_info": {
   "codemirror_mode": {
    "name": "ipython",
    "version": 3
   },
   "file_extension": ".py",
   "mimetype": "text/x-python",
   "name": "python",
   "nbconvert_exporter": "python",
   "pygments_lexer": "ipython3",
   "version": "3.9.7"
  }
 },
 "nbformat": 4,
 "nbformat_minor": 5
}

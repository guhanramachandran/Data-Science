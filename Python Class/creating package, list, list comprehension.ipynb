{
 "cells": [
  {
   "cell_type": "markdown",
   "id": "7cc32c41",
   "metadata": {},
   "source": [
    "## create own package\n"
   ]
  },
  {
   "cell_type": "code",
   "execution_count": null,
   "id": "594f2361",
   "metadata": {},
   "outputs": [],
   "source": []
  },
  {
   "cell_type": "code",
   "execution_count": 69,
   "id": "b47f873d",
   "metadata": {},
   "outputs": [],
   "source": [
    "import numpy as np\n",
    "import pandas as pd"
   ]
  },
  {
   "cell_type": "code",
   "execution_count": null,
   "id": "6fcd6a5b",
   "metadata": {},
   "outputs": [],
   "source": [
    "## from package name import file name "
   ]
  },
  {
   "cell_type": "code",
   "execution_count": 71,
   "id": "7e633aa9",
   "metadata": {},
   "outputs": [],
   "source": [
    "##import guhan_package"
   ]
  },
  {
   "cell_type": "code",
   "execution_count": 77,
   "id": "2c15b239",
   "metadata": {},
   "outputs": [],
   "source": [
    "from guhan_package import test_package"
   ]
  },
  {
   "cell_type": "code",
   "execution_count": 78,
   "id": "a8bbfca8",
   "metadata": {},
   "outputs": [
    {
     "data": {
      "text/plain": [
       "'guhan'"
      ]
     },
     "execution_count": 78,
     "metadata": {},
     "output_type": "execute_result"
    }
   ],
   "source": [
    "test_package.name"
   ]
  },
  {
   "cell_type": "code",
   "execution_count": 74,
   "id": "527c23ea",
   "metadata": {},
   "outputs": [],
   "source": [
    "a=test_package.gravity"
   ]
  },
  {
   "cell_type": "code",
   "execution_count": 75,
   "id": "5db7fbf9",
   "metadata": {},
   "outputs": [
    {
     "name": "stdout",
     "output_type": "stream",
     "text": [
      "2.5\n"
     ]
    }
   ],
   "source": [
    "print(a)"
   ]
  },
  {
   "cell_type": "markdown",
   "id": "97131bc6",
   "metadata": {},
   "source": [
    "## List"
   ]
  },
  {
   "cell_type": "code",
   "execution_count": null,
   "id": "04e12e48",
   "metadata": {},
   "outputs": [],
   "source": [
    "## list is one of the data structure widely used in pythom\n"
   ]
  },
  {
   "cell_type": "code",
   "execution_count": 89,
   "id": "0bbd4eb4",
   "metadata": {},
   "outputs": [
    {
     "name": "stdout",
     "output_type": "stream",
     "text": [
      "[1, 'two', 3]\n"
     ]
    }
   ],
   "source": [
    "list1 = [1, 'two', 3]\n",
    "print(list1)"
   ]
  },
  {
   "cell_type": "markdown",
   "id": "3f2cc6dd",
   "metadata": {},
   "source": [
    "## List comprehension\n"
   ]
  },
  {
   "cell_type": "code",
   "execution_count": null,
   "id": "3fbd8a77",
   "metadata": {},
   "outputs": [],
   "source": [
    "\"\"\"\n",
    "1. expressiom\n",
    "2. for loop\n",
    "3. condition\n",
    "\"\"\""
   ]
  },
  {
   "cell_type": "code",
   "execution_count": 110,
   "id": "daaa7614",
   "metadata": {
    "scrolled": true
   },
   "outputs": [
    {
     "data": {
      "text/plain": [
       "[5.3, 7.5]"
      ]
     },
     "execution_count": 110,
     "metadata": {},
     "output_type": "execute_result"
    }
   ],
   "source": [
    "list1 = [20, 5.3, 25, 7.5]\n",
    "\n",
    "[a for a in list1 if a<20]\n",
    "\n",
    "##print each value(exp), for each value in list (for loop)  \n",
    "## if each value is less than 20"
   ]
  },
  {
   "cell_type": "code",
   "execution_count": 113,
   "id": "89e7a1df",
   "metadata": {},
   "outputs": [
    {
     "data": {
      "text/plain": [
       "[2, 5, 6, 7]"
      ]
     },
     "execution_count": 113,
     "metadata": {},
     "output_type": "execute_result"
    }
   ],
   "source": [
    "list2 = [2, 5, 6, 7]\n",
    "\n",
    "[a for a in list2 if a<20]\n"
   ]
  },
  {
   "cell_type": "code",
   "execution_count": 107,
   "id": "05a13a69",
   "metadata": {},
   "outputs": [],
   "source": [
    "power2 = [a**2 for a in range(11)]"
   ]
  },
  {
   "cell_type": "code",
   "execution_count": 102,
   "id": "094ee9f5",
   "metadata": {},
   "outputs": [
    {
     "data": {
      "text/plain": [
       "[0, 1, 4, 9, 16, 25, 36, 49, 64, 81, 100]"
      ]
     },
     "execution_count": 102,
     "metadata": {},
     "output_type": "execute_result"
    }
   ],
   "source": [
    "power2"
   ]
  },
  {
   "cell_type": "code",
   "execution_count": 115,
   "id": "e375dfdf",
   "metadata": {},
   "outputs": [],
   "source": [
    "power2 = [a**2 for a in range(11) if a%2==0]"
   ]
  },
  {
   "cell_type": "code",
   "execution_count": 116,
   "id": "2d263a20",
   "metadata": {},
   "outputs": [
    {
     "data": {
      "text/plain": [
       "[0, 4, 16, 36, 64, 100]"
      ]
     },
     "execution_count": 116,
     "metadata": {},
     "output_type": "execute_result"
    }
   ],
   "source": [
    "power2"
   ]
  }
 ],
 "metadata": {
  "kernelspec": {
   "display_name": "Python 3 (ipykernel)",
   "language": "python",
   "name": "python3"
  },
  "language_info": {
   "codemirror_mode": {
    "name": "ipython",
    "version": 3
   },
   "file_extension": ".py",
   "mimetype": "text/x-python",
   "name": "python",
   "nbconvert_exporter": "python",
   "pygments_lexer": "ipython3",
   "version": "3.9.7"
  }
 },
 "nbformat": 4,
 "nbformat_minor": 5
}

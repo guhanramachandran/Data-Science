{
 "cells": [
  {
   "cell_type": "code",
   "execution_count": 1,
   "id": "362e4967",
   "metadata": {},
   "outputs": [],
   "source": [
    "import numpy as np\n",
    "import pandas as pd\n",
    "import matplotlib.pyplot as plt"
   ]
  },
  {
   "cell_type": "code",
   "execution_count": 2,
   "id": "8d22fc60",
   "metadata": {
    "scrolled": true
   },
   "outputs": [
    {
     "data": {
      "image/png": "[encoded data removed]",
      "text/plain": [
       "<Figure size 720x432 with 1 Axes>"
      ]
     },
     "metadata": {
      "needs_background": "light"
     },
     "output_type": "display_data"
    }
   ],
   "source": [
    "x = np.arange(0, 30)\n",
    "y = [3, 4, 5, 7, 10, 8, 9, 10, 10, 23, 27, 44, 50, 63, 67, 60, 62, 70, 75, 88, 81, 87, 95, 100, 108, 135, 151, 160, 169, 179]\n",
    "plt.figure(figsize=(10,6))\n",
    "plt.scatter(x, y)\n",
    "plt.show()"
   ]
  },
  {
   "cell_type": "code",
   "execution_count": 9,
   "id": "7f7b9551",
   "metadata": {},
   "outputs": [],
   "source": [
    "data = np.transpose([x,y])"
   ]
  },
  {
   "cell_type": "code",
   "execution_count": 11,
   "id": "12dac9a3",
   "metadata": {},
   "outputs": [],
   "source": [
    "data = pd.DataFrame(data, columns =['x','y'] )"
   ]
  },
  {
   "cell_type": "code",
   "execution_count": 12,
   "id": "7efa4648",
   "metadata": {},
   "outputs": [],
   "source": [
    "data.to_csv(\"data_poly.csv\", index = False)"
   ]
  },
  {
   "cell_type": "code",
   "execution_count": 21,
   "id": "510f09fb",
   "metadata": {},
   "outputs": [],
   "source": [
    "from sklearn.preprocessing import PolynomialFeatures\n",
    "poly = PolynomialFeatures(degree=3, include_bias=False)\n",
    "poly_features = poly.fit_transform(data[['x']])\n"
   ]
  },
  {
   "cell_type": "code",
   "execution_count": 22,
   "id": "03879f53",
   "metadata": {},
   "outputs": [
    {
     "data": {
      "text/plain": [
       "array([[0.0000e+00, 0.0000e+00, 0.0000e+00],\n",
       "       [1.0000e+00, 1.0000e+00, 1.0000e+00],\n",
       "       [2.0000e+00, 4.0000e+00, 8.0000e+00],\n",
       "       [3.0000e+00, 9.0000e+00, 2.7000e+01],\n",
       "       [4.0000e+00, 1.6000e+01, 6.4000e+01],\n",
       "       [5.0000e+00, 2.5000e+01, 1.2500e+02],\n",
       "       [6.0000e+00, 3.6000e+01, 2.1600e+02],\n",
       "       [7.0000e+00, 4.9000e+01, 3.4300e+02],\n",
       "       [8.0000e+00, 6.4000e+01, 5.1200e+02],\n",
       "       [9.0000e+00, 8.1000e+01, 7.2900e+02],\n",
       "       [1.0000e+01, 1.0000e+02, 1.0000e+03],\n",
       "       [1.1000e+01, 1.2100e+02, 1.3310e+03],\n",
       "       [1.2000e+01, 1.4400e+02, 1.7280e+03],\n",
       "       [1.3000e+01, 1.6900e+02, 2.1970e+03],\n",
       "       [1.4000e+01, 1.9600e+02, 2.7440e+03],\n",
       "       [1.5000e+01, 2.2500e+02, 3.3750e+03],\n",
       "       [1.6000e+01, 2.5600e+02, 4.0960e+03],\n",
       "       [1.7000e+01, 2.8900e+02, 4.9130e+03],\n",
       "       [1.8000e+01, 3.2400e+02, 5.8320e+03],\n",
       "       [1.9000e+01, 3.6100e+02, 6.8590e+03],\n",
       "       [2.0000e+01, 4.0000e+02, 8.0000e+03],\n",
       "       [2.1000e+01, 4.4100e+02, 9.2610e+03],\n",
       "       [2.2000e+01, 4.8400e+02, 1.0648e+04],\n",
       "       [2.3000e+01, 5.2900e+02, 1.2167e+04],\n",
       "       [2.4000e+01, 5.7600e+02, 1.3824e+04],\n",
       "       [2.5000e+01, 6.2500e+02, 1.5625e+04],\n",
       "       [2.6000e+01, 6.7600e+02, 1.7576e+04],\n",
       "       [2.7000e+01, 7.2900e+02, 1.9683e+04],\n",
       "       [2.8000e+01, 7.8400e+02, 2.1952e+04],\n",
       "       [2.9000e+01, 8.4100e+02, 2.4389e+04]])"
      ]
     },
     "execution_count": 22,
     "metadata": {},
     "output_type": "execute_result"
    }
   ],
   "source": [
    "poly_features"
   ]
  },
  {
   "cell_type": "code",
   "execution_count": 23,
   "id": "407bb0ab",
   "metadata": {},
   "outputs": [],
   "source": [
    "np.random.seed(1)\n",
    "x_1 = np.absolute(np.random.randn(100, 1) * 10)\n",
    "x_2 = np.absolute(np.random.randn(100, 1) * 30)\n",
    "y = 2*x_1**2 + 3*x_1 + 2 + np.random.randn(100, 1)*20"
   ]
  },
  {
   "cell_type": "code",
   "execution_count": 28,
   "id": "f46e3c6e",
   "metadata": {},
   "outputs": [
    {
     "data": {
      "text/plain": [
       "array([[[ 1.62434536e+01,  1.34138569e+01,  5.70412369e+02],\n",
       "        [ 6.11756414e+00,  3.67352311e+01,  1.11681987e+02],\n",
       "        [ 5.28171752e+00,  1.21047493e+01,  6.23921239e+01],\n",
       "        [ 1.07296862e+01,  1.78073557e+01,  3.03538953e+02],\n",
       "        [ 8.65407629e+00,  3.28473554e+01,  1.51109269e+02],\n",
       "        [ 2.30153870e+01,  5.08147299e+00,  1.09524846e+03],\n",
       "        [ 1.74481176e+01,  2.22166935e+01,  6.30203546e+02],\n",
       "        [ 7.61206901e+00,  2.86110181e+01,  1.22912285e+02],\n",
       "        [ 3.19039096e+00,  7.98655518e+00,  9.54605387e+00],\n",
       "        [ 2.49370375e+00,  9.78436401e-01,  6.10398062e+01],\n",
       "        [ 1.46210794e+01,  4.11935196e+01,  4.66885172e+02],\n",
       "        [ 2.06014071e+01,  9.45478176e+00,  8.85786654e+02],\n",
       "        [ 3.22417204e+00,  2.53848194e+01,  5.47507463e+01],\n",
       "        [ 3.84054355e+00,  2.57854782e+01,  3.12907013e+01],\n",
       "        [ 1.13376944e+01,  1.05163794e+01,  2.68362645e+02],\n",
       "        [ 1.09989127e+01,  3.93685023e+01,  2.94465677e+02],\n",
       "        [ 1.72428208e+00,  1.16086528e+00,  2.55863871e+01],\n",
       "        [ 8.77858418e+00,  4.84731706e+01,  1.73763699e+02],\n",
       "        [ 4.22137467e-01,  3.36425312e+01,  3.17736125e+01],\n",
       "        [ 5.82815214e+00,  1.22670161e+01,  9.00012027e+01],\n",
       "        [ 1.10061918e+01,  7.38508676e-01,  3.09630082e+02],\n",
       "        [ 1.14472371e+01,  2.32548486e+01,  3.08475003e+02],\n",
       "        [ 9.01590721e+00,  3.82126779e+01,  2.22796998e+02],\n",
       "        [ 5.02494339e+00,  5.90130525e+01,  6.97629962e+01],\n",
       "        [ 9.00855949e+00,  5.57394559e+01,  1.66939079e+02],\n",
       "        [ 6.83727859e+00,  3.70849209e+01,  1.64995966e+02],\n",
       "        [ 1.22890226e+00,  4.88295226e+01, -2.20837509e+00],\n",
       "        [ 9.35769434e+00,  1.01403509e+01,  2.01229213e+02],\n",
       "        [ 2.67888080e+00,  3.59780410e+01,  1.03814769e+01],\n",
       "        [ 5.30355467e+00,  2.59003595e+01,  7.00981592e+01],\n",
       "        [ 6.91660752e+00,  5.42760906e+00,  1.23282130e+02],\n",
       "        [ 3.96753527e+00,  1.81176188e+01,  4.94218816e+01],\n",
       "        [ 6.87172700e+00,  3.69017441e+01,  1.30276851e+02],\n",
       "        [ 8.45205641e+00,  1.65161249e+01,  2.06073849e+02],\n",
       "        [ 6.71246131e+00,  2.37842060e+01,  1.09842366e+02],\n",
       "        [ 1.26645989e-01,  1.87059219e+01, -2.22503983e+01],\n",
       "        [ 1.11731035e+01,  1.56172901e+01,  2.61549431e+02],\n",
       "        [ 2.34415698e+00,  3.43302417e+01,  6.70752445e+00],\n",
       "        [ 1.65980218e+01,  2.40558310e+01,  5.69298803e+02],\n",
       "        [ 7.42044161e+00,  1.39701895e+00,  1.50887829e+02],\n",
       "        [ 1.91835552e+00,  5.59709316e+00,  5.15097113e+00],\n",
       "        [ 8.87628964e+00,  3.05237618e+00,  1.79986205e+02],\n",
       "        [ 7.47158294e+00,  2.60665847e+01,  1.36026022e+02],\n",
       "        [ 1.69245460e+01,  2.25123492e+01,  5.97721745e+02],\n",
       "        [ 5.08077548e-01,  1.58839597e+01, -1.31858090e+01],\n",
       "        [ 6.36995647e+00,  4.13103630e+00,  1.15756791e+02],\n",
       "        [ 1.90915485e+00,  2.33463384e+00,  2.73879916e+01],\n",
       "        [ 2.10025514e+01,  1.85514079e+01,  9.38358543e+02],\n",
       "        [ 1.20158952e+00,  6.97483678e+00,  4.47031016e+01],\n",
       "        [ 6.17203110e+00,  2.04765422e+01,  7.05894906e+01],\n",
       "        [ 3.00170320e+00,  9.30350321e+00,  2.21258096e+01],\n",
       "        [ 3.52249846e+00,  7.30451329e+01,  3.27666914e+01],\n",
       "        [ 1.14251820e+01,  3.11647381e+01,  2.41483413e+02],\n",
       "        [ 3.49342722e+00,  6.56093894e+01,  7.56389255e+01],\n",
       "        [ 2.08894233e+00,  1.32409333e+01,  2.43208274e+01],\n",
       "        [ 5.86623191e+00,  3.00465700e+00,  6.75322618e+01],\n",
       "        [ 8.38983414e+00,  4.09334232e+00,  2.08971605e+02],\n",
       "        [ 9.31102081e+00,  3.57162563e+00,  2.15036520e+02],\n",
       "        [ 2.85587325e+00,  5.22282249e-01,  3.54701666e+01],\n",
       "        [ 8.85141164e+00,  3.36605619e+01,  1.73109243e+02],\n",
       "        [ 7.54397941e+00,  1.55128337e+01,  1.40579643e+02],\n",
       "        [ 1.25286816e+01,  2.99108048e+01,  3.23008161e+02],\n",
       "        [ 5.12929820e+00,  7.46397484e+00,  8.59078166e+01],\n",
       "        [ 2.98092835e+00,  8.89923457e+00,  2.12258863e+01],\n",
       "        [ 4.88518147e+00,  1.48563397e+01,  6.70665042e+01],\n",
       "        [ 7.55717130e-01,  5.24109479e+00,  2.94504654e+01],\n",
       "        [ 1.13162939e+01,  2.95900556e+01,  2.97760858e+02],\n",
       "        [ 1.51981682e+01,  6.40601704e+00,  5.14812484e+02],\n",
       "        [ 2.18557541e+01,  6.57209919e+01,  1.02844522e+03],\n",
       "        [ 1.39649634e+01,  5.68908277e+01,  4.19269861e+02],\n",
       "        [ 1.44411381e+01,  1.94075006e+01,  4.79136445e+02],\n",
       "        [ 5.04465863e+00,  2.70446067e+01,  9.88983195e+01],\n",
       "        [ 1.60037069e+00,  7.58497712e+01,  2.70995980e+01],\n",
       "        [ 8.76168921e+00,  7.45904333e+00,  1.99517640e+02],\n",
       "        [ 3.15634947e+00,  1.31006980e+00,  1.38485020e+01],\n",
       "        [ 2.02220122e+01,  6.78942728e+00,  8.63169843e+02],\n",
       "        [ 3.06204013e+00,  3.99437134e+01,  1.12077936e+00],\n",
       "        [ 8.27974643e+00,  8.61923590e+00,  1.88592702e+02],\n",
       "        [ 2.30094735e+00,  2.04020952e+01,  1.44079622e+01],\n",
       "        [ 7.62011180e+00,  9.59404797e+00,  1.68989422e+02],\n",
       "        [ 2.22328143e+00,  3.81767627e+01,  2.91757122e+00],\n",
       "        [ 2.00758069e+00,  9.40643161e+00,  7.33332286e+00],\n",
       "        [ 1.86561391e+00,  1.50955444e+01,  1.64663740e+01],\n",
       "        [ 4.10051647e+00,  3.87967765e+01,  6.63590215e+01],\n",
       "        [ 1.98299720e+00,  3.31341079e+00,  1.70285513e+01],\n",
       "        [ 1.19008646e+00,  1.85208619e+01,  1.26253660e+01],\n",
       "        [ 6.70662286e+00,  1.68828329e+01,  1.12408000e+02],\n",
       "        [ 3.77563786e+00,  7.22211277e+00,  4.53815505e+01],\n",
       "        [ 1.21821271e+00,  8.41995231e+00, -1.37066778e+01],\n",
       "        [ 1.12948391e+01,  2.19338111e+00,  2.92649839e+02],\n",
       "        [ 1.19891788e+01,  3.48101571e+01,  3.21716773e+02],\n",
       "        [ 1.85156417e+00,  1.10847815e+01,  1.32747827e+01],\n",
       "        [ 3.75284950e+00,  5.71397613e+01,  5.12730384e+01],\n",
       "        [ 6.38730407e+00,  3.33317010e+01,  8.91436561e+01],\n",
       "        [ 4.23494354e+00,  1.97714939e+01,  4.88841637e+01],\n",
       "        [ 7.73400683e-01,  4.88231502e+01, -4.30738371e-01],\n",
       "        [ 3.43853676e+00,  1.80695784e+01,  4.43087204e+01],\n",
       "        [ 4.35968568e-01,  1.26084661e+01,  1.93834559e+01],\n",
       "        [ 6.20000844e+00,  2.43285502e+01,  7.83717294e+01],\n",
       "        [ 6.98032034e+00,  3.13332628e+01,  1.32108914e+02]]])"
      ]
     },
     "execution_count": 28,
     "metadata": {},
     "output_type": "execute_result"
    }
   ],
   "source": [
    "data"
   ]
  },
  {
   "cell_type": "code",
   "execution_count": 29,
   "id": "408f2360",
   "metadata": {},
   "outputs": [],
   "source": [
    "data = np.transpose([x_1,x_2,y])\n",
    "\n",
    "data = pd.DataFrame(data[0], columns =['x1','x2','y'] )\n",
    "\n",
    "data.to_csv(\"data_poly_2col.csv\", index = False)"
   ]
  },
  {
   "cell_type": "code",
   "execution_count": 30,
   "id": "9fce1ad0",
   "metadata": {},
   "outputs": [
    {
     "data": {
      "text/html": [
       "<div>\n",
       "<style scoped>\n",
       "    .dataframe tbody tr th:only-of-type {\n",
       "        vertical-align: middle;\n",
       "    }\n",
       "\n",
       "    .dataframe tbody tr th {\n",
       "        vertical-align: top;\n",
       "    }\n",
       "\n",
       "    .dataframe thead th {\n",
       "        text-align: right;\n",
       "    }\n",
       "</style>\n",
       "<table border=\"1\" class=\"dataframe\">\n",
       "  <thead>\n",
       "    <tr style=\"text-align: right;\">\n",
       "      <th></th>\n",
       "      <th>x1</th>\n",
       "      <th>x2</th>\n",
       "      <th>y</th>\n",
       "    </tr>\n",
       "  </thead>\n",
       "  <tbody>\n",
       "    <tr>\n",
       "      <th>0</th>\n",
       "      <td>16.243454</td>\n",
       "      <td>13.413857</td>\n",
       "      <td>570.412369</td>\n",
       "    </tr>\n",
       "    <tr>\n",
       "      <th>1</th>\n",
       "      <td>6.117564</td>\n",
       "      <td>36.735231</td>\n",
       "      <td>111.681987</td>\n",
       "    </tr>\n",
       "    <tr>\n",
       "      <th>2</th>\n",
       "      <td>5.281718</td>\n",
       "      <td>12.104749</td>\n",
       "      <td>62.392124</td>\n",
       "    </tr>\n",
       "    <tr>\n",
       "      <th>3</th>\n",
       "      <td>10.729686</td>\n",
       "      <td>17.807356</td>\n",
       "      <td>303.538953</td>\n",
       "    </tr>\n",
       "    <tr>\n",
       "      <th>4</th>\n",
       "      <td>8.654076</td>\n",
       "      <td>32.847355</td>\n",
       "      <td>151.109269</td>\n",
       "    </tr>\n",
       "    <tr>\n",
       "      <th>...</th>\n",
       "      <td>...</td>\n",
       "      <td>...</td>\n",
       "      <td>...</td>\n",
       "    </tr>\n",
       "    <tr>\n",
       "      <th>95</th>\n",
       "      <td>0.773401</td>\n",
       "      <td>48.823150</td>\n",
       "      <td>-0.430738</td>\n",
       "    </tr>\n",
       "    <tr>\n",
       "      <th>96</th>\n",
       "      <td>3.438537</td>\n",
       "      <td>18.069578</td>\n",
       "      <td>44.308720</td>\n",
       "    </tr>\n",
       "    <tr>\n",
       "      <th>97</th>\n",
       "      <td>0.435969</td>\n",
       "      <td>12.608466</td>\n",
       "      <td>19.383456</td>\n",
       "    </tr>\n",
       "    <tr>\n",
       "      <th>98</th>\n",
       "      <td>6.200008</td>\n",
       "      <td>24.328550</td>\n",
       "      <td>78.371729</td>\n",
       "    </tr>\n",
       "    <tr>\n",
       "      <th>99</th>\n",
       "      <td>6.980320</td>\n",
       "      <td>31.333263</td>\n",
       "      <td>132.108914</td>\n",
       "    </tr>\n",
       "  </tbody>\n",
       "</table>\n",
       "<p>100 rows × 3 columns</p>\n",
       "</div>"
      ],
      "text/plain": [
       "           x1         x2           y\n",
       "0   16.243454  13.413857  570.412369\n",
       "1    6.117564  36.735231  111.681987\n",
       "2    5.281718  12.104749   62.392124\n",
       "3   10.729686  17.807356  303.538953\n",
       "4    8.654076  32.847355  151.109269\n",
       "..        ...        ...         ...\n",
       "95   0.773401  48.823150   -0.430738\n",
       "96   3.438537  18.069578   44.308720\n",
       "97   0.435969  12.608466   19.383456\n",
       "98   6.200008  24.328550   78.371729\n",
       "99   6.980320  31.333263  132.108914\n",
       "\n",
       "[100 rows x 3 columns]"
      ]
     },
     "execution_count": 30,
     "metadata": {},
     "output_type": "execute_result"
    }
   ],
   "source": [
    "data"
   ]
  },
  {
   "cell_type": "code",
   "execution_count": null,
   "id": "b5c7e99b",
   "metadata": {},
   "outputs": [],
   "source": []
  }
 ],
 "metadata": {
  "kernelspec": {
   "display_name": "Python 3 (ipykernel)",
   "language": "python",
   "name": "python3"
  },
  "language_info": {
   "codemirror_mode": {
    "name": "ipython",
    "version": 3
   },
   "file_extension": ".py",
   "mimetype": "text/x-python",
   "name": "python",
   "nbconvert_exporter": "python",
   "pygments_lexer": "ipython3",
   "version": "3.9.12"
  }
 },
 "nbformat": 4,
 "nbformat_minor": 5
}
